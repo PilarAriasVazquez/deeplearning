{
  "nbformat": 4,
  "nbformat_minor": 0,
  "metadata": {
    "kernelspec": {
      "display_name": "Python 3",
      "language": "python",
      "name": "python3"
    },
    "language_info": {
      "codemirror_mode": {
        "name": "ipython",
        "version": 3
      },
      "file_extension": ".py",
      "mimetype": "text/x-python",
      "name": "python",
      "nbconvert_exporter": "python",
      "pygments_lexer": "ipython3",
      "version": "3.8.5"
    },
    "colab": {
      "name": "2_1_Un_primer_vistazo_a_una_Red_Neuronal.ipynb",
      "provenance": [],
      "include_colab_link": true
    },
    "accelerator": "GPU",
    "gpuClass": "standard"
  },
  "cells": [
    {
      "cell_type": "markdown",
      "metadata": {
        "id": "view-in-github",
        "colab_type": "text"
      },
      "source": [
        "<a href=\"https://colab.research.google.com/github/PilarAriasVazquez/deeplearning/blob/main/Ejercicio%20Regularizadores.ipynb\" target=\"_parent\"><img src=\"https://colab.research.google.com/assets/colab-badge.svg\" alt=\"Open In Colab\"/></a>"
      ]
    },
    {
      "cell_type": "markdown",
      "metadata": {
        "id": "Ejg7Msp7rbkk"
      },
      "source": [
        "# Ejercicio con regularizadores"
      ]
    },
    {
      "cell_type": "code",
      "source": [
        "%tensorflow_version 2.x\n",
        "import tensorflow as tf\n",
        "from tensorflow import keras\n",
        "print(tf.keras.__version__)\n",
        "print(\"GPU Available:\", tf.config.list_physical_devices('GPU'))\n",
        "print(tf.__version__)\n",
        "from keras.datasets import mnist\n",
        "from keras import models\n",
        "from keras import layers\n",
        "import numpy as np\n",
        "import matplotlib.pyplot as plt\n",
        "from keras import regularizers"
      ],
      "metadata": {
        "id": "BSivef1i532C",
        "outputId": "6c933c52-a8ee-4c7c-b462-1a64d2ebf07d",
        "colab": {
          "base_uri": "https://localhost:8080/"
        }
      },
      "execution_count": 26,
      "outputs": [
        {
          "output_type": "stream",
          "name": "stdout",
          "text": [
            "Colab only includes TensorFlow 2.x; %tensorflow_version has no effect.\n",
            "2.9.0\n",
            "GPU Available: [PhysicalDevice(name='/physical_device:GPU:0', device_type='GPU')]\n",
            "2.9.2\n"
          ]
        }
      ]
    },
    {
      "cell_type": "code",
      "source": [
        "(train_images, train_labels), (test_images, test_labels) = mnist.load_data()# Descarga los datos de MNIST"
      ],
      "metadata": {
        "id": "3t3R6gU9-wUy"
      },
      "execution_count": 27,
      "outputs": []
    },
    {
      "cell_type": "code",
      "source": [
        "# Prepara con reshape y normaliza las imágenes tanto de entrenamiento como de test\n",
        "train_images = train_images.reshape((60000, 28 * 28))\n",
        "train_images = train_images.astype('float32') / 255\n",
        "\n",
        "test_images = test_images.reshape((10000, 28 * 28))\n",
        "test_images = test_images.astype('float32') / 255\n"
      ],
      "metadata": {
        "id": "H6n5NeSz0U1d"
      },
      "execution_count": 28,
      "outputs": []
    },
    {
      "cell_type": "code",
      "source": [
        "# Crear un subconjunto de imágenes de entrenamiento que llamaré\n",
        "# validation_images, para hacer las validaciones, con las 10000 últimas imágenes \n",
        "# del set de datos de entrenamiento (train_images) (obviamente, lo mismo con las\n",
        "# etiquetas correspondientes -> validation_labels). Deja preparadas las 50K \n",
        "# primeras imágenes y etiquetas para entrenamiento (train_images y train_labels)\n",
        "validation_images = train_images[50000:]\n",
        "validation_labels = train_labels[50000:]\n",
        "train_images = train_images[:49999]\n",
        "train_labels = train_labels[:49999]\n"
      ],
      "metadata": {
        "id": "NKoZGyap0XAj"
      },
      "execution_count": 29,
      "outputs": []
    },
    {
      "cell_type": "code",
      "source": [
        "def crea_modelo(regularizador):\n",
        "  # Define una función que recibe un número del 0 al 4 que creará:\n",
        "  # un modelo secuencial con una capa de entrada densa de 512 neuronas\n",
        "  # con activación relu y la capa de salida que le corresponda según el problema\n",
        "  # Ahora, en función del número del regularizador:\n",
        "  # Si es 0, no mete ningún regularizador\n",
        "  # Si es 1, mete un regularizador de tipo l1 y valor 0.001\n",
        "  # Si es 2, mete un regularizador de tipo l2 y valor 0.001\n",
        "  # Si es 3, mete un regularizador de tipo l1_l2 y valor 0.001 para ambos\n",
        "  # Si es 4, mete un Dropout del 50% después de la primera capa densa\n",
        "  # Si es distinto que estos valores, escribe el error y retorna\n",
        "  # Al final, esta función pinta el summary del modelo y retorna el modelo creado\n",
        "  network = models.Sequential()\n",
        "  if regularizador==0:\n",
        "    network.add(layers.Dense(512, activation='relu', input_shape=(28*28,))) \n",
        "  elif regularizador==1:\n",
        "    network.add(layers.Dense(512, kernel_regularizer=regularizers.l1(0.001), activation='relu', input_shape=(28*28,))) \n",
        "  elif regularizador==2:\n",
        "    network.add(layers.Dense(512, kernel_regularizer=regularizers.l2(0.001), activation='relu', input_shape=(28*28,))) \n",
        "  elif regularizador==3:    \n",
        "    network.add(layers.Dense(512, kernel_regularizer=regularizers.l1_l2(l1=0.001, l2=0.001), activation='relu', input_shape=(28*28,))) \n",
        "  elif regularizador==4: \n",
        "    network.add(layers.Dense(512, activation='relu', input_shape=(28*28,))) \n",
        "    network.add(layers.Dropout(0.5))\n",
        "  else: \n",
        "    print('Error, no se ha introducido un valor válido')\n",
        "  network.add(layers.Dense(10, activation='softmax'))      \n",
        "  network.summary()\n",
        "  return network"
      ],
      "metadata": {
        "id": "6JnVLVfsAfkh"
      },
      "execution_count": 30,
      "outputs": []
    },
    {
      "cell_type": "code",
      "source": [
        "def compila_modelo(modelo): \n",
        "  # Define una función que recibe un modelo, lo compila con un optimizador\n",
        "  # 'rmsprop', con una función de pérdida 'sparse_categorical_crossentropy' y\n",
        "  # una métrica de precisión. La función retorna el modelo\n",
        "  modelo.compile(optimizer='rmsprop', \n",
        "                loss='sparse_categorical_crossentropy',\n",
        "                metrics=['accuracy'])\n",
        "  return modelo"
      ],
      "metadata": {
        "id": "qKyJ8KOT0aFt"
      },
      "execution_count": 31,
      "outputs": []
    },
    {
      "cell_type": "code",
      "source": [
        "def entrena_modelo(modelo):\n",
        "  # Define una función que entrena el modelo que se le pasa por parámetro,\n",
        "  # con las imágenes y etiquetas de entrenamiento, con 30 iteraciones y 128\n",
        "  # de tamaño de minilote y con el validation_data creado más arriba.\n",
        "  # Esta función devuelve un history\n",
        "  history= modelo.fit(train_images, train_labels,\n",
        "                       epochs=30, batch_size=128,\n",
        "                       validation_data=(validation_images, validation_labels))\n",
        "  return history"
      ],
      "metadata": {
        "id": "_yQ7SpOt0cBp"
      },
      "execution_count": 32,
      "outputs": []
    },
    {
      "cell_type": "code",
      "source": [
        "def pinta_perdida_entrenamiento_validacion(historia):\n",
        "  history_dict = historia.history\n",
        "  acc = historia.history['accuracy']\n",
        "  val_acc = historia.history['val_accuracy']\n",
        "  loss = historia.history['loss']\n",
        "  val_loss = historia.history['val_loss']\n",
        "  epochs = range(1, len(acc) + 1)\n",
        "  # \"bo\" es para \"punto azun\"\n",
        "  plt.plot(epochs, loss, 'bo', label='Pérdida de Entrenamiento')\n",
        "  # \"b\" es para \"linea continua azul\"\n",
        "  plt.plot(epochs, val_loss, 'b', label='Pérdida de Validación')\n",
        "  plt.title('Pérdida de Entrenamiento y Validación')\n",
        "  plt.xlabel('Epochs')\n",
        "  plt.ylabel('Loss')\n",
        "  plt.legend()\n",
        "  plt.show()"
      ],
      "metadata": {
        "id": "bJrRNc4WwPN2"
      },
      "execution_count": 33,
      "outputs": []
    },
    {
      "cell_type": "code",
      "source": [
        "def pinta_precision_entrenamiento_validacion(historia):\n",
        "  history_dict = historia.history\n",
        "  acc = historia.history['accuracy']\n",
        "  val_acc = historia.history['val_accuracy']\n",
        "  loss = historia.history['loss']\n",
        "  val_loss = historia.history['val_loss']\n",
        "  plt.clf()   # Limpia la figura\n",
        "  acc_values = history_dict['accuracy']\n",
        "  val_acc_values = history_dict['val_accuracy']\n",
        "  epochs = range(1, len(acc) + 1)\n",
        "  plt.plot(epochs, acc, 'bo', label='Precisión de Entrenamiento')\n",
        "  plt.plot(epochs, val_acc, 'b', label='Precisión de Validación')\n",
        "  plt.title('Precisión de Entrenamiento y Valización')\n",
        "  plt.xlabel('Epochs')\n",
        "  plt.ylabel('Loss')\n",
        "  plt.legend()\n",
        "  plt.show()"
      ],
      "metadata": {
        "id": "Mafxp6D3wYQx"
      },
      "execution_count": 34,
      "outputs": []
    },
    {
      "cell_type": "markdown",
      "source": [
        "## Una vez definidas todas las funciones anteriores, ejecuta las siguientes llamadas a dichas funciones y deduce que está pasando y, para este contexto, que es lo que mejor está funcionando"
      ],
      "metadata": {
        "id": "6nnQYysYA3_T"
      }
    },
    {
      "cell_type": "markdown",
      "source": [
        "### Caso 0, sin regularizadores"
      ],
      "metadata": {
        "id": "OrGwDgaFBax4"
      }
    },
    {
      "cell_type": "code",
      "source": [
        "network0 = crea_modelo(0)"
      ],
      "metadata": {
        "id": "uXvhlXg79Zi9",
        "outputId": "854abe55-5ddf-41fa-9d84-01fc06c905e6",
        "colab": {
          "base_uri": "https://localhost:8080/"
        }
      },
      "execution_count": 35,
      "outputs": [
        {
          "output_type": "stream",
          "name": "stdout",
          "text": [
            "Model: \"sequential_3\"\n",
            "_________________________________________________________________\n",
            " Layer (type)                Output Shape              Param #   \n",
            "=================================================================\n",
            " dense_6 (Dense)             (None, 512)               401920    \n",
            "                                                                 \n",
            " dense_7 (Dense)             (None, 10)                5130      \n",
            "                                                                 \n",
            "=================================================================\n",
            "Total params: 407,050\n",
            "Trainable params: 407,050\n",
            "Non-trainable params: 0\n",
            "_________________________________________________________________\n"
          ]
        }
      ]
    },
    {
      "cell_type": "code",
      "source": [
        "network0 = compila_modelo(network0)"
      ],
      "metadata": {
        "id": "Ff0HC3NR9ez8"
      },
      "execution_count": 36,
      "outputs": []
    },
    {
      "cell_type": "code",
      "source": [
        "historia0 = entrena_modelo(network0)"
      ],
      "metadata": {
        "id": "x9zQDOlw9g6V",
        "outputId": "8adf6087-5ea2-4a64-bb7e-b2adebc15806",
        "colab": {
          "base_uri": "https://localhost:8080/"
        }
      },
      "execution_count": 37,
      "outputs": [
        {
          "output_type": "stream",
          "name": "stdout",
          "text": [
            "Epoch 1/30\n",
            "391/391 [==============================] - 6s 12ms/step - loss: 0.2815 - accuracy: 0.9172 - val_loss: 0.1658 - val_accuracy: 0.9521\n",
            "Epoch 2/30\n",
            "391/391 [==============================] - 3s 9ms/step - loss: 0.1135 - accuracy: 0.9666 - val_loss: 0.1022 - val_accuracy: 0.9692\n",
            "Epoch 3/30\n",
            "391/391 [==============================] - 2s 6ms/step - loss: 0.0743 - accuracy: 0.9774 - val_loss: 0.0816 - val_accuracy: 0.9764\n",
            "Epoch 4/30\n",
            "391/391 [==============================] - 2s 5ms/step - loss: 0.0537 - accuracy: 0.9842 - val_loss: 0.0896 - val_accuracy: 0.9751\n",
            "Epoch 5/30\n",
            "391/391 [==============================] - 2s 4ms/step - loss: 0.0406 - accuracy: 0.9883 - val_loss: 0.0883 - val_accuracy: 0.9763\n",
            "Epoch 6/30\n",
            "391/391 [==============================] - 1s 4ms/step - loss: 0.0300 - accuracy: 0.9910 - val_loss: 0.0843 - val_accuracy: 0.9791\n",
            "Epoch 7/30\n",
            "391/391 [==============================] - 1s 4ms/step - loss: 0.0228 - accuracy: 0.9935 - val_loss: 0.0764 - val_accuracy: 0.9800\n",
            "Epoch 8/30\n",
            "391/391 [==============================] - 1s 3ms/step - loss: 0.0173 - accuracy: 0.9947 - val_loss: 0.0816 - val_accuracy: 0.9777\n",
            "Epoch 9/30\n",
            "391/391 [==============================] - 1s 3ms/step - loss: 0.0134 - accuracy: 0.9964 - val_loss: 0.0842 - val_accuracy: 0.9784\n",
            "Epoch 10/30\n",
            "391/391 [==============================] - 2s 4ms/step - loss: 0.0101 - accuracy: 0.9972 - val_loss: 0.0869 - val_accuracy: 0.9790\n",
            "Epoch 11/30\n",
            "391/391 [==============================] - 2s 4ms/step - loss: 0.0078 - accuracy: 0.9981 - val_loss: 0.0929 - val_accuracy: 0.9796\n",
            "Epoch 12/30\n",
            "391/391 [==============================] - 1s 3ms/step - loss: 0.0061 - accuracy: 0.9982 - val_loss: 0.0952 - val_accuracy: 0.9799\n",
            "Epoch 13/30\n",
            "391/391 [==============================] - 2s 4ms/step - loss: 0.0047 - accuracy: 0.9989 - val_loss: 0.0959 - val_accuracy: 0.9817\n",
            "Epoch 14/30\n",
            "391/391 [==============================] - 1s 4ms/step - loss: 0.0038 - accuracy: 0.9990 - val_loss: 0.1126 - val_accuracy: 0.9782\n",
            "Epoch 15/30\n",
            "391/391 [==============================] - 1s 4ms/step - loss: 0.0028 - accuracy: 0.9993 - val_loss: 0.0953 - val_accuracy: 0.9816\n",
            "Epoch 16/30\n",
            "391/391 [==============================] - 2s 4ms/step - loss: 0.0024 - accuracy: 0.9993 - val_loss: 0.1039 - val_accuracy: 0.9808\n",
            "Epoch 17/30\n",
            "391/391 [==============================] - 2s 4ms/step - loss: 0.0015 - accuracy: 0.9997 - val_loss: 0.1051 - val_accuracy: 0.9805\n",
            "Epoch 18/30\n",
            "391/391 [==============================] - 2s 4ms/step - loss: 0.0014 - accuracy: 0.9995 - val_loss: 0.1116 - val_accuracy: 0.9808\n",
            "Epoch 19/30\n",
            "391/391 [==============================] - 2s 4ms/step - loss: 0.0011 - accuracy: 0.9997 - val_loss: 0.1174 - val_accuracy: 0.9809\n",
            "Epoch 20/30\n",
            "391/391 [==============================] - 1s 4ms/step - loss: 6.8931e-04 - accuracy: 0.9999 - val_loss: 0.1141 - val_accuracy: 0.9809\n",
            "Epoch 21/30\n",
            "391/391 [==============================] - 2s 4ms/step - loss: 5.5380e-04 - accuracy: 0.9999 - val_loss: 0.1144 - val_accuracy: 0.9826\n",
            "Epoch 22/30\n",
            "391/391 [==============================] - 1s 4ms/step - loss: 6.1711e-04 - accuracy: 0.9999 - val_loss: 0.1203 - val_accuracy: 0.9807\n",
            "Epoch 23/30\n",
            "391/391 [==============================] - 1s 3ms/step - loss: 3.2886e-04 - accuracy: 1.0000 - val_loss: 0.1279 - val_accuracy: 0.9804\n",
            "Epoch 24/30\n",
            "391/391 [==============================] - 2s 4ms/step - loss: 3.5188e-04 - accuracy: 0.9999 - val_loss: 0.1357 - val_accuracy: 0.9814\n",
            "Epoch 25/30\n",
            "391/391 [==============================] - 1s 4ms/step - loss: 2.5240e-04 - accuracy: 0.9999 - val_loss: 0.1289 - val_accuracy: 0.9822\n",
            "Epoch 26/30\n",
            "391/391 [==============================] - 1s 4ms/step - loss: 1.4556e-04 - accuracy: 1.0000 - val_loss: 0.1366 - val_accuracy: 0.9829\n",
            "Epoch 27/30\n",
            "391/391 [==============================] - 1s 3ms/step - loss: 1.5888e-04 - accuracy: 1.0000 - val_loss: 0.1487 - val_accuracy: 0.9809\n",
            "Epoch 28/30\n",
            "391/391 [==============================] - 2s 4ms/step - loss: 1.6918e-04 - accuracy: 1.0000 - val_loss: 0.1399 - val_accuracy: 0.9817\n",
            "Epoch 29/30\n",
            "391/391 [==============================] - 1s 3ms/step - loss: 6.5954e-05 - accuracy: 1.0000 - val_loss: 0.1473 - val_accuracy: 0.9817\n",
            "Epoch 30/30\n",
            "391/391 [==============================] - 1s 4ms/step - loss: 1.2922e-04 - accuracy: 1.0000 - val_loss: 0.1557 - val_accuracy: 0.9807\n"
          ]
        }
      ]
    },
    {
      "cell_type": "code",
      "source": [
        "pinta_perdida_entrenamiento_validacion(historia0)"
      ],
      "metadata": {
        "id": "OvhDZvS8-0mG",
        "outputId": "8c81e069-d857-4d19-8ed7-5f07cd533c21",
        "colab": {
          "base_uri": "https://localhost:8080/",
          "height": 295
        }
      },
      "execution_count": 38,
      "outputs": [
        {
          "output_type": "display_data",
          "data": {
            "text/plain": [
              "<Figure size 432x288 with 1 Axes>"
            ],
            "image/png": "[encoded data removed]"
          },
          "metadata": {
            "needs_background": "light"
          }
        }
      ]
    },
    {
      "cell_type": "code",
      "source": [
        "pinta_precision_entrenamiento_validacion(historia0)"
      ],
      "metadata": {
        "id": "UuiL2CCH_fGN",
        "outputId": "9b8a6d76-3d75-446f-cd5f-9c2b7b60d0fd",
        "colab": {
          "base_uri": "https://localhost:8080/",
          "height": 295
        }
      },
      "execution_count": 39,
      "outputs": [
        {
          "output_type": "display_data",
          "data": {
            "text/plain": [
              "<Figure size 432x288 with 1 Axes>"
            ],
            "image/png": "[encoded data removed]"
          },
          "metadata": {
            "needs_background": "light"
          }
        }
      ]
    },
    {
      "cell_type": "markdown",
      "source": [
        "### Caso 1: Con regularizador l1"
      ],
      "metadata": {
        "id": "pw6iBGO5Bg8J"
      }
    },
    {
      "cell_type": "code",
      "source": [
        "network1 = crea_modelo(1)"
      ],
      "metadata": {
        "id": "D6JPtw5zCz-1",
        "outputId": "f3b23e22-03c8-46aa-a906-7bcabd600a5d",
        "colab": {
          "base_uri": "https://localhost:8080/"
        }
      },
      "execution_count": 40,
      "outputs": [
        {
          "output_type": "stream",
          "name": "stdout",
          "text": [
            "Model: \"sequential_4\"\n",
            "_________________________________________________________________\n",
            " Layer (type)                Output Shape              Param #   \n",
            "=================================================================\n",
            " dense_8 (Dense)             (None, 512)               401920    \n",
            "                                                                 \n",
            " dense_9 (Dense)             (None, 10)                5130      \n",
            "                                                                 \n",
            "=================================================================\n",
            "Total params: 407,050\n",
            "Trainable params: 407,050\n",
            "Non-trainable params: 0\n",
            "_________________________________________________________________\n"
          ]
        }
      ]
    },
    {
      "cell_type": "code",
      "source": [
        "network1 = compila_modelo(network1)"
      ],
      "metadata": {
        "id": "zL3Gp7wvFRq3"
      },
      "execution_count": 41,
      "outputs": []
    },
    {
      "cell_type": "code",
      "source": [
        "historia1 = entrena_modelo(network1)"
      ],
      "metadata": {
        "id": "G2FG1Z4xFW72",
        "outputId": "16609855-5624-4b87-e874-1901426d72c0",
        "colab": {
          "base_uri": "https://localhost:8080/"
        }
      },
      "execution_count": 42,
      "outputs": [
        {
          "output_type": "stream",
          "name": "stdout",
          "text": [
            "Epoch 1/30\n",
            "391/391 [==============================] - 2s 4ms/step - loss: 2.1564 - accuracy: 0.8438 - val_loss: 1.0199 - val_accuracy: 0.8889\n",
            "Epoch 2/30\n",
            "391/391 [==============================] - 2s 4ms/step - loss: 0.9605 - accuracy: 0.8809 - val_loss: 0.9171 - val_accuracy: 0.8855\n",
            "Epoch 3/30\n",
            "391/391 [==============================] - 2s 5ms/step - loss: 0.8391 - accuracy: 0.9018 - val_loss: 0.7513 - val_accuracy: 0.9269\n",
            "Epoch 4/30\n",
            "391/391 [==============================] - 2s 4ms/step - loss: 0.7605 - accuracy: 0.9160 - val_loss: 0.7503 - val_accuracy: 0.9201\n",
            "Epoch 5/30\n",
            "391/391 [==============================] - 1s 4ms/step - loss: 0.7097 - accuracy: 0.9239 - val_loss: 0.6547 - val_accuracy: 0.9367\n",
            "Epoch 6/30\n",
            "391/391 [==============================] - 2s 4ms/step - loss: 0.6755 - accuracy: 0.9303 - val_loss: 0.6511 - val_accuracy: 0.9333\n",
            "Epoch 7/30\n",
            "391/391 [==============================] - 1s 4ms/step - loss: 0.6494 - accuracy: 0.9344 - val_loss: 0.6027 - val_accuracy: 0.9472\n",
            "Epoch 8/30\n",
            "391/391 [==============================] - 1s 4ms/step - loss: 0.6281 - accuracy: 0.9379 - val_loss: 0.6040 - val_accuracy: 0.9419\n",
            "Epoch 9/30\n",
            "391/391 [==============================] - 1s 4ms/step - loss: 0.6093 - accuracy: 0.9407 - val_loss: 0.5828 - val_accuracy: 0.9502\n",
            "Epoch 10/30\n",
            "391/391 [==============================] - 1s 4ms/step - loss: 0.5926 - accuracy: 0.9447 - val_loss: 0.6190 - val_accuracy: 0.9385\n",
            "Epoch 11/30\n",
            "391/391 [==============================] - 2s 4ms/step - loss: 0.5803 - accuracy: 0.9465 - val_loss: 0.5456 - val_accuracy: 0.9587\n",
            "Epoch 12/30\n",
            "391/391 [==============================] - 2s 5ms/step - loss: 0.5689 - accuracy: 0.9480 - val_loss: 0.5532 - val_accuracy: 0.9546\n",
            "Epoch 13/30\n",
            "391/391 [==============================] - 1s 4ms/step - loss: 0.5570 - accuracy: 0.9496 - val_loss: 0.5633 - val_accuracy: 0.9489\n",
            "Epoch 14/30\n",
            "391/391 [==============================] - 1s 4ms/step - loss: 0.5486 - accuracy: 0.9502 - val_loss: 0.5233 - val_accuracy: 0.9599\n",
            "Epoch 15/30\n",
            "391/391 [==============================] - 1s 4ms/step - loss: 0.5406 - accuracy: 0.9519 - val_loss: 0.5320 - val_accuracy: 0.9619\n",
            "Epoch 16/30\n",
            "391/391 [==============================] - 2s 4ms/step - loss: 0.5328 - accuracy: 0.9536 - val_loss: 0.5179 - val_accuracy: 0.9588\n",
            "Epoch 17/30\n",
            "391/391 [==============================] - 1s 4ms/step - loss: 0.5280 - accuracy: 0.9542 - val_loss: 0.5121 - val_accuracy: 0.9595\n",
            "Epoch 18/30\n",
            "391/391 [==============================] - 1s 4ms/step - loss: 0.5231 - accuracy: 0.9549 - val_loss: 0.5067 - val_accuracy: 0.9630\n",
            "Epoch 19/30\n",
            "391/391 [==============================] - 1s 4ms/step - loss: 0.5177 - accuracy: 0.9558 - val_loss: 0.5096 - val_accuracy: 0.9592\n",
            "Epoch 20/30\n",
            "391/391 [==============================] - 1s 4ms/step - loss: 0.5130 - accuracy: 0.9565 - val_loss: 0.5072 - val_accuracy: 0.9618\n",
            "Epoch 21/30\n",
            "391/391 [==============================] - 2s 4ms/step - loss: 0.5098 - accuracy: 0.9569 - val_loss: 0.5052 - val_accuracy: 0.9593\n",
            "Epoch 22/30\n",
            "391/391 [==============================] - 1s 4ms/step - loss: 0.5060 - accuracy: 0.9577 - val_loss: 0.4916 - val_accuracy: 0.9608\n",
            "Epoch 23/30\n",
            "391/391 [==============================] - 1s 4ms/step - loss: 0.5038 - accuracy: 0.9571 - val_loss: 0.4982 - val_accuracy: 0.9608\n",
            "Epoch 24/30\n",
            "391/391 [==============================] - 1s 4ms/step - loss: 0.4993 - accuracy: 0.9578 - val_loss: 0.5324 - val_accuracy: 0.9518\n",
            "Epoch 25/30\n",
            "391/391 [==============================] - 1s 4ms/step - loss: 0.4967 - accuracy: 0.9581 - val_loss: 0.4836 - val_accuracy: 0.9629\n",
            "Epoch 26/30\n",
            "391/391 [==============================] - 1s 4ms/step - loss: 0.4918 - accuracy: 0.9590 - val_loss: 0.4964 - val_accuracy: 0.9608\n",
            "Epoch 27/30\n",
            "391/391 [==============================] - 2s 4ms/step - loss: 0.4906 - accuracy: 0.9590 - val_loss: 0.4862 - val_accuracy: 0.9602\n",
            "Epoch 28/30\n",
            "391/391 [==============================] - 2s 4ms/step - loss: 0.4885 - accuracy: 0.9593 - val_loss: 0.5529 - val_accuracy: 0.9386\n",
            "Epoch 29/30\n",
            "391/391 [==============================] - 1s 4ms/step - loss: 0.4858 - accuracy: 0.9601 - val_loss: 0.5009 - val_accuracy: 0.9553\n",
            "Epoch 30/30\n",
            "391/391 [==============================] - 2s 4ms/step - loss: 0.4837 - accuracy: 0.9592 - val_loss: 0.4711 - val_accuracy: 0.9661\n"
          ]
        }
      ]
    },
    {
      "cell_type": "code",
      "source": [
        "pinta_perdida_entrenamiento_validacion(historia1)"
      ],
      "metadata": {
        "id": "Vyv3yFtiFitw",
        "outputId": "f44a469d-bcef-4a22-d8fb-4ea7cd92bddc",
        "colab": {
          "base_uri": "https://localhost:8080/",
          "height": 295
        }
      },
      "execution_count": 43,
      "outputs": [
        {
          "output_type": "display_data",
          "data": {
            "text/plain": [
              "<Figure size 432x288 with 1 Axes>"
            ],
            "image/png": "[encoded data removed]"
          },
          "metadata": {
            "needs_background": "light"
          }
        }
      ]
    },
    {
      "cell_type": "code",
      "source": [
        "pinta_precision_entrenamiento_validacion(historia1)"
      ],
      "metadata": {
        "id": "pVUerJsqFo7K",
        "outputId": "b41d53eb-c7c2-471f-e4f2-1287a9c9eff9",
        "colab": {
          "base_uri": "https://localhost:8080/",
          "height": 295
        }
      },
      "execution_count": 44,
      "outputs": [
        {
          "output_type": "display_data",
          "data": {
            "text/plain": [
              "<Figure size 432x288 with 1 Axes>"
            ],
            "image/png": "[encoded data removed]"
          },
          "metadata": {
            "needs_background": "light"
          }
        }
      ]
    },
    {
      "cell_type": "markdown",
      "source": [
        "### Caso 2: Con regularizador l2"
      ],
      "metadata": {
        "id": "hklwKNlMBzya"
      }
    },
    {
      "cell_type": "code",
      "source": [
        "network2 = crea_modelo(2)"
      ],
      "metadata": {
        "id": "tjIs0FziG5Ja",
        "outputId": "f5ca1ff5-c2ed-4eba-9154-90e8a99c7e51",
        "colab": {
          "base_uri": "https://localhost:8080/"
        }
      },
      "execution_count": 45,
      "outputs": [
        {
          "output_type": "stream",
          "name": "stdout",
          "text": [
            "Model: \"sequential_5\"\n",
            "_________________________________________________________________\n",
            " Layer (type)                Output Shape              Param #   \n",
            "=================================================================\n",
            " dense_10 (Dense)            (None, 512)               401920    \n",
            "                                                                 \n",
            " dense_11 (Dense)            (None, 10)                5130      \n",
            "                                                                 \n",
            "=================================================================\n",
            "Total params: 407,050\n",
            "Trainable params: 407,050\n",
            "Non-trainable params: 0\n",
            "_________________________________________________________________\n"
          ]
        }
      ]
    },
    {
      "cell_type": "code",
      "source": [
        "network2 = compila_modelo(network2)"
      ],
      "metadata": {
        "id": "UCdA0K_qyTUq"
      },
      "execution_count": 46,
      "outputs": []
    },
    {
      "cell_type": "code",
      "source": [
        "historia2 = entrena_modelo(network2)"
      ],
      "metadata": {
        "id": "WSuomx5oybpu",
        "outputId": "feddf194-0b22-4a5c-90b3-a45ea2b88a23",
        "colab": {
          "base_uri": "https://localhost:8080/"
        }
      },
      "execution_count": 47,
      "outputs": [
        {
          "output_type": "stream",
          "name": "stdout",
          "text": [
            "Epoch 1/30\n",
            "391/391 [==============================] - 2s 4ms/step - loss: 0.5294 - accuracy: 0.9114 - val_loss: 0.3060 - val_accuracy: 0.9511\n",
            "Epoch 2/30\n",
            "391/391 [==============================] - 2s 4ms/step - loss: 0.2661 - accuracy: 0.9532 - val_loss: 0.2192 - val_accuracy: 0.9627\n",
            "Epoch 3/30\n",
            "391/391 [==============================] - 2s 4ms/step - loss: 0.2104 - accuracy: 0.9624 - val_loss: 0.2026 - val_accuracy: 0.9660\n",
            "Epoch 4/30\n",
            "391/391 [==============================] - 1s 4ms/step - loss: 0.1868 - accuracy: 0.9667 - val_loss: 0.1727 - val_accuracy: 0.9719\n",
            "Epoch 5/30\n",
            "391/391 [==============================] - 2s 4ms/step - loss: 0.1716 - accuracy: 0.9706 - val_loss: 0.1570 - val_accuracy: 0.9755\n",
            "Epoch 6/30\n",
            "391/391 [==============================] - 1s 4ms/step - loss: 0.1624 - accuracy: 0.9719 - val_loss: 0.1542 - val_accuracy: 0.9750\n",
            "Epoch 7/30\n",
            "391/391 [==============================] - 2s 5ms/step - loss: 0.1562 - accuracy: 0.9730 - val_loss: 0.1486 - val_accuracy: 0.9752\n",
            "Epoch 8/30\n",
            "391/391 [==============================] - 2s 5ms/step - loss: 0.1519 - accuracy: 0.9741 - val_loss: 0.1796 - val_accuracy: 0.9634\n",
            "Epoch 9/30\n",
            "391/391 [==============================] - 1s 4ms/step - loss: 0.1469 - accuracy: 0.9747 - val_loss: 0.1721 - val_accuracy: 0.9671\n",
            "Epoch 10/30\n",
            "391/391 [==============================] - 2s 4ms/step - loss: 0.1428 - accuracy: 0.9757 - val_loss: 0.1703 - val_accuracy: 0.9672\n",
            "Epoch 11/30\n",
            "391/391 [==============================] - 2s 4ms/step - loss: 0.1402 - accuracy: 0.9764 - val_loss: 0.1449 - val_accuracy: 0.9752\n",
            "Epoch 12/30\n",
            "391/391 [==============================] - 1s 4ms/step - loss: 0.1359 - accuracy: 0.9769 - val_loss: 0.1544 - val_accuracy: 0.9721\n",
            "Epoch 13/30\n",
            "391/391 [==============================] - 2s 4ms/step - loss: 0.1329 - accuracy: 0.9776 - val_loss: 0.1422 - val_accuracy: 0.9756\n",
            "Epoch 14/30\n",
            "391/391 [==============================] - 2s 4ms/step - loss: 0.1308 - accuracy: 0.9784 - val_loss: 0.1753 - val_accuracy: 0.9641\n",
            "Epoch 15/30\n",
            "391/391 [==============================] - 1s 4ms/step - loss: 0.1291 - accuracy: 0.9778 - val_loss: 0.1361 - val_accuracy: 0.9772\n",
            "Epoch 16/30\n",
            "391/391 [==============================] - 1s 4ms/step - loss: 0.1264 - accuracy: 0.9787 - val_loss: 0.1458 - val_accuracy: 0.9731\n",
            "Epoch 17/30\n",
            "391/391 [==============================] - 2s 4ms/step - loss: 0.1252 - accuracy: 0.9790 - val_loss: 0.1877 - val_accuracy: 0.9589\n",
            "Epoch 18/30\n",
            "391/391 [==============================] - 2s 4ms/step - loss: 0.1230 - accuracy: 0.9799 - val_loss: 0.1592 - val_accuracy: 0.9693\n",
            "Epoch 19/30\n",
            "391/391 [==============================] - 2s 4ms/step - loss: 0.1224 - accuracy: 0.9799 - val_loss: 0.1556 - val_accuracy: 0.9697\n",
            "Epoch 20/30\n",
            "391/391 [==============================] - 1s 4ms/step - loss: 0.1196 - accuracy: 0.9800 - val_loss: 0.1696 - val_accuracy: 0.9641\n",
            "Epoch 21/30\n",
            "391/391 [==============================] - 1s 3ms/step - loss: 0.1184 - accuracy: 0.9813 - val_loss: 0.1356 - val_accuracy: 0.9767\n",
            "Epoch 22/30\n",
            "391/391 [==============================] - 2s 4ms/step - loss: 0.1164 - accuracy: 0.9812 - val_loss: 0.1456 - val_accuracy: 0.9740\n",
            "Epoch 23/30\n",
            "391/391 [==============================] - 1s 4ms/step - loss: 0.1161 - accuracy: 0.9803 - val_loss: 0.1436 - val_accuracy: 0.9737\n",
            "Epoch 24/30\n",
            "391/391 [==============================] - 2s 4ms/step - loss: 0.1137 - accuracy: 0.9814 - val_loss: 0.1648 - val_accuracy: 0.9678\n",
            "Epoch 25/30\n",
            "391/391 [==============================] - 1s 4ms/step - loss: 0.1116 - accuracy: 0.9814 - val_loss: 0.1290 - val_accuracy: 0.9775\n",
            "Epoch 26/30\n",
            "391/391 [==============================] - 2s 4ms/step - loss: 0.1114 - accuracy: 0.9817 - val_loss: 0.1487 - val_accuracy: 0.9713\n",
            "Epoch 27/30\n",
            "391/391 [==============================] - 2s 4ms/step - loss: 0.1109 - accuracy: 0.9818 - val_loss: 0.1317 - val_accuracy: 0.9773\n",
            "Epoch 28/30\n",
            "391/391 [==============================] - 1s 4ms/step - loss: 0.1096 - accuracy: 0.9827 - val_loss: 0.1454 - val_accuracy: 0.9739\n",
            "Epoch 29/30\n",
            "391/391 [==============================] - 1s 4ms/step - loss: 0.1078 - accuracy: 0.9823 - val_loss: 0.1282 - val_accuracy: 0.9750\n",
            "Epoch 30/30\n",
            "391/391 [==============================] - 2s 4ms/step - loss: 0.1086 - accuracy: 0.9818 - val_loss: 0.1470 - val_accuracy: 0.9715\n"
          ]
        }
      ]
    },
    {
      "cell_type": "code",
      "source": [
        "pinta_perdida_entrenamiento_validacion(historia2)"
      ],
      "metadata": {
        "id": "aXXzm8tpyj6X",
        "outputId": "114bbf6e-a72d-4989-e980-ffdeb0f28f5b",
        "colab": {
          "base_uri": "https://localhost:8080/",
          "height": 295
        }
      },
      "execution_count": 48,
      "outputs": [
        {
          "output_type": "display_data",
          "data": {
            "text/plain": [
              "<Figure size 432x288 with 1 Axes>"
            ],
            "image/png": "[encoded data removed]"
          },
          "metadata": {
            "needs_background": "light"
          }
        }
      ]
    },
    {
      "cell_type": "code",
      "source": [
        "pinta_precision_entrenamiento_validacion(historia2)"
      ],
      "metadata": {
        "id": "CLTsg5LTypH9",
        "outputId": "3aa1c35d-7cd1-48cb-d0d7-c03723c983f2",
        "colab": {
          "base_uri": "https://localhost:8080/",
          "height": 295
        }
      },
      "execution_count": 49,
      "outputs": [
        {
          "output_type": "display_data",
          "data": {
            "text/plain": [
              "<Figure size 432x288 with 1 Axes>"
            ],
            "image/png": "[encoded data removed]"
          },
          "metadata": {
            "needs_background": "light"
          }
        }
      ]
    },
    {
      "cell_type": "markdown",
      "source": [
        "### Caso 3: Con regularizador l1_l2"
      ],
      "metadata": {
        "id": "692oWz8oB82n"
      }
    },
    {
      "cell_type": "code",
      "source": [
        "network3 = crea_modelo(3)"
      ],
      "metadata": {
        "id": "5fdxkjoKzFcu",
        "outputId": "ec652b5d-0a8f-4041-9a90-4606b6415722",
        "colab": {
          "base_uri": "https://localhost:8080/"
        }
      },
      "execution_count": 50,
      "outputs": [
        {
          "output_type": "stream",
          "name": "stdout",
          "text": [
            "Model: \"sequential_6\"\n",
            "_________________________________________________________________\n",
            " Layer (type)                Output Shape              Param #   \n",
            "=================================================================\n",
            " dense_12 (Dense)            (None, 512)               401920    \n",
            "                                                                 \n",
            " dense_13 (Dense)            (None, 10)                5130      \n",
            "                                                                 \n",
            "=================================================================\n",
            "Total params: 407,050\n",
            "Trainable params: 407,050\n",
            "Non-trainable params: 0\n",
            "_________________________________________________________________\n"
          ]
        }
      ]
    },
    {
      "cell_type": "code",
      "source": [
        "network3 = compila_modelo(network3)"
      ],
      "metadata": {
        "id": "VJzs9A2yzPhx"
      },
      "execution_count": 51,
      "outputs": []
    },
    {
      "cell_type": "code",
      "source": [
        "historia3 = entrena_modelo(network3)"
      ],
      "metadata": {
        "id": "1JCUbcCQzY6E",
        "outputId": "6b008a9d-7009-417c-d19e-40b524cd4e8d",
        "colab": {
          "base_uri": "https://localhost:8080/"
        }
      },
      "execution_count": 52,
      "outputs": [
        {
          "output_type": "stream",
          "name": "stdout",
          "text": [
            "Epoch 1/30\n",
            "391/391 [==============================] - 2s 4ms/step - loss: 2.1832 - accuracy: 0.8415 - val_loss: 1.0121 - val_accuracy: 0.8883\n",
            "Epoch 2/30\n",
            "391/391 [==============================] - 2s 4ms/step - loss: 0.9930 - accuracy: 0.8724 - val_loss: 0.8725 - val_accuracy: 0.9052\n",
            "Epoch 3/30\n",
            "391/391 [==============================] - 2s 4ms/step - loss: 0.8724 - accuracy: 0.8943 - val_loss: 0.7716 - val_accuracy: 0.9225\n",
            "Epoch 4/30\n",
            "391/391 [==============================] - 1s 4ms/step - loss: 0.7905 - accuracy: 0.9102 - val_loss: 0.7583 - val_accuracy: 0.9199\n",
            "Epoch 5/30\n",
            "391/391 [==============================] - 1s 4ms/step - loss: 0.7354 - accuracy: 0.9210 - val_loss: 0.6965 - val_accuracy: 0.9359\n",
            "Epoch 6/30\n",
            "391/391 [==============================] - 2s 4ms/step - loss: 0.6980 - accuracy: 0.9270 - val_loss: 0.6545 - val_accuracy: 0.9344\n",
            "Epoch 7/30\n",
            "391/391 [==============================] - 1s 4ms/step - loss: 0.6654 - accuracy: 0.9334 - val_loss: 0.6434 - val_accuracy: 0.9400\n",
            "Epoch 8/30\n",
            "391/391 [==============================] - 1s 4ms/step - loss: 0.6410 - accuracy: 0.9380 - val_loss: 0.6297 - val_accuracy: 0.9390\n",
            "Epoch 9/30\n",
            "391/391 [==============================] - 1s 4ms/step - loss: 0.6206 - accuracy: 0.9412 - val_loss: 0.5875 - val_accuracy: 0.9480\n",
            "Epoch 10/30\n",
            "391/391 [==============================] - 1s 4ms/step - loss: 0.6055 - accuracy: 0.9436 - val_loss: 0.6425 - val_accuracy: 0.9317\n",
            "Epoch 11/30\n",
            "391/391 [==============================] - 1s 4ms/step - loss: 0.5907 - accuracy: 0.9468 - val_loss: 0.5884 - val_accuracy: 0.9448\n",
            "Epoch 12/30\n",
            "391/391 [==============================] - 1s 4ms/step - loss: 0.5801 - accuracy: 0.9474 - val_loss: 0.6171 - val_accuracy: 0.9364\n",
            "Epoch 13/30\n",
            "391/391 [==============================] - 2s 5ms/step - loss: 0.5727 - accuracy: 0.9480 - val_loss: 0.5701 - val_accuracy: 0.9493\n",
            "Epoch 14/30\n",
            "391/391 [==============================] - 2s 5ms/step - loss: 0.5637 - accuracy: 0.9494 - val_loss: 0.5569 - val_accuracy: 0.9515\n",
            "Epoch 15/30\n",
            "391/391 [==============================] - 2s 4ms/step - loss: 0.5557 - accuracy: 0.9517 - val_loss: 0.5539 - val_accuracy: 0.9492\n",
            "Epoch 16/30\n",
            "391/391 [==============================] - 1s 4ms/step - loss: 0.5492 - accuracy: 0.9510 - val_loss: 0.5486 - val_accuracy: 0.9524\n",
            "Epoch 17/30\n",
            "391/391 [==============================] - 1s 4ms/step - loss: 0.5420 - accuracy: 0.9526 - val_loss: 0.5562 - val_accuracy: 0.9484\n",
            "Epoch 18/30\n",
            "391/391 [==============================] - 1s 4ms/step - loss: 0.5361 - accuracy: 0.9538 - val_loss: 0.5211 - val_accuracy: 0.9582\n",
            "Epoch 19/30\n",
            "391/391 [==============================] - 2s 4ms/step - loss: 0.5316 - accuracy: 0.9536 - val_loss: 0.5173 - val_accuracy: 0.9575\n",
            "Epoch 20/30\n",
            "391/391 [==============================] - 1s 4ms/step - loss: 0.5261 - accuracy: 0.9546 - val_loss: 0.5281 - val_accuracy: 0.9563\n",
            "Epoch 21/30\n",
            "391/391 [==============================] - 2s 4ms/step - loss: 0.5222 - accuracy: 0.9542 - val_loss: 0.5050 - val_accuracy: 0.9588\n",
            "Epoch 22/30\n",
            "391/391 [==============================] - 1s 4ms/step - loss: 0.5177 - accuracy: 0.9557 - val_loss: 0.5025 - val_accuracy: 0.9614\n",
            "Epoch 23/30\n",
            "391/391 [==============================] - 2s 4ms/step - loss: 0.5140 - accuracy: 0.9555 - val_loss: 0.5131 - val_accuracy: 0.9572\n",
            "Epoch 24/30\n",
            "391/391 [==============================] - 1s 4ms/step - loss: 0.5103 - accuracy: 0.9565 - val_loss: 0.4987 - val_accuracy: 0.9598\n",
            "Epoch 25/30\n",
            "391/391 [==============================] - 2s 4ms/step - loss: 0.5079 - accuracy: 0.9572 - val_loss: 0.5007 - val_accuracy: 0.9580\n",
            "Epoch 26/30\n",
            "391/391 [==============================] - 1s 4ms/step - loss: 0.5038 - accuracy: 0.9578 - val_loss: 0.5181 - val_accuracy: 0.9531\n",
            "Epoch 27/30\n",
            "391/391 [==============================] - 1s 4ms/step - loss: 0.5016 - accuracy: 0.9574 - val_loss: 0.4821 - val_accuracy: 0.9635\n",
            "Epoch 28/30\n",
            "391/391 [==============================] - 2s 4ms/step - loss: 0.4995 - accuracy: 0.9576 - val_loss: 0.4821 - val_accuracy: 0.9610\n",
            "Epoch 29/30\n",
            "391/391 [==============================] - 2s 4ms/step - loss: 0.4969 - accuracy: 0.9576 - val_loss: 0.4760 - val_accuracy: 0.9643\n",
            "Epoch 30/30\n",
            "391/391 [==============================] - 2s 5ms/step - loss: 0.4943 - accuracy: 0.9580 - val_loss: 0.5001 - val_accuracy: 0.9590\n"
          ]
        }
      ]
    },
    {
      "cell_type": "code",
      "source": [
        "pinta_perdida_entrenamiento_validacion(historia3)"
      ],
      "metadata": {
        "id": "I8XzPVtyze8y",
        "outputId": "4a6fba60-4a68-4ee7-bf07-47db64b8f8a8",
        "colab": {
          "base_uri": "https://localhost:8080/",
          "height": 295
        }
      },
      "execution_count": 53,
      "outputs": [
        {
          "output_type": "display_data",
          "data": {
            "text/plain": [
              "<Figure size 432x288 with 1 Axes>"
            ],
            "image/png": "[encoded data removed]"
          },
          "metadata": {
            "needs_background": "light"
          }
        }
      ]
    },
    {
      "cell_type": "code",
      "source": [
        "pinta_precision_entrenamiento_validacion(historia3)"
      ],
      "metadata": {
        "id": "nKk7AmM8zi3A",
        "outputId": "ab9c0ae8-3b75-4157-cbc6-c20cbc67d277",
        "colab": {
          "base_uri": "https://localhost:8080/",
          "height": 295
        }
      },
      "execution_count": 54,
      "outputs": [
        {
          "output_type": "display_data",
          "data": {
            "text/plain": [
              "<Figure size 432x288 with 1 Axes>"
            ],
            "image/png": "[encoded data removed]"
          },
          "metadata": {
            "needs_background": "light"
          }
        }
      ]
    },
    {
      "cell_type": "markdown",
      "source": [
        "### Caso 4: Con Droput"
      ],
      "metadata": {
        "id": "OPVcbgcXCFRL"
      }
    },
    {
      "cell_type": "code",
      "source": [
        "network4 = crea_modelo(4)"
      ],
      "metadata": {
        "id": "5MVbUNX11Pgr",
        "outputId": "b29652fa-f996-4384-9d21-1ee76615d63a",
        "colab": {
          "base_uri": "https://localhost:8080/"
        }
      },
      "execution_count": 55,
      "outputs": [
        {
          "output_type": "stream",
          "name": "stdout",
          "text": [
            "Model: \"sequential_7\"\n",
            "_________________________________________________________________\n",
            " Layer (type)                Output Shape              Param #   \n",
            "=================================================================\n",
            " dense_14 (Dense)            (None, 512)               401920    \n",
            "                                                                 \n",
            " dropout (Dropout)           (None, 512)               0         \n",
            "                                                                 \n",
            " dense_15 (Dense)            (None, 10)                5130      \n",
            "                                                                 \n",
            "=================================================================\n",
            "Total params: 407,050\n",
            "Trainable params: 407,050\n",
            "Non-trainable params: 0\n",
            "_________________________________________________________________\n"
          ]
        }
      ]
    },
    {
      "cell_type": "code",
      "source": [
        "network4 = compila_modelo(network4)"
      ],
      "metadata": {
        "id": "pT-13IKI1UpW"
      },
      "execution_count": 56,
      "outputs": []
    },
    {
      "cell_type": "code",
      "source": [
        "historia4 = entrena_modelo(network4)"
      ],
      "metadata": {
        "id": "kNWidx1S1aCH",
        "outputId": "bdfc82bc-1b7c-48d6-d596-b72940f57df8",
        "colab": {
          "base_uri": "https://localhost:8080/"
        }
      },
      "execution_count": 57,
      "outputs": [
        {
          "output_type": "stream",
          "name": "stdout",
          "text": [
            "Epoch 1/30\n",
            "391/391 [==============================] - 2s 4ms/step - loss: 0.3461 - accuracy: 0.8983 - val_loss: 0.1655 - val_accuracy: 0.9536\n",
            "Epoch 2/30\n",
            "391/391 [==============================] - 2s 4ms/step - loss: 0.1706 - accuracy: 0.9486 - val_loss: 0.1141 - val_accuracy: 0.9673\n",
            "Epoch 3/30\n",
            "391/391 [==============================] - 2s 4ms/step - loss: 0.1295 - accuracy: 0.9616 - val_loss: 0.1033 - val_accuracy: 0.9705\n",
            "Epoch 4/30\n",
            "391/391 [==============================] - 2s 4ms/step - loss: 0.1050 - accuracy: 0.9684 - val_loss: 0.0887 - val_accuracy: 0.9735\n",
            "Epoch 5/30\n",
            "391/391 [==============================] - 2s 4ms/step - loss: 0.0899 - accuracy: 0.9728 - val_loss: 0.0808 - val_accuracy: 0.9765\n",
            "Epoch 6/30\n",
            "391/391 [==============================] - 1s 4ms/step - loss: 0.0834 - accuracy: 0.9750 - val_loss: 0.0828 - val_accuracy: 0.9775\n",
            "Epoch 7/30\n",
            "391/391 [==============================] - 1s 4ms/step - loss: 0.0760 - accuracy: 0.9775 - val_loss: 0.0762 - val_accuracy: 0.9780\n",
            "Epoch 8/30\n",
            "391/391 [==============================] - 1s 4ms/step - loss: 0.0684 - accuracy: 0.9793 - val_loss: 0.0754 - val_accuracy: 0.9790\n",
            "Epoch 9/30\n",
            "391/391 [==============================] - 1s 4ms/step - loss: 0.0625 - accuracy: 0.9807 - val_loss: 0.0778 - val_accuracy: 0.9793\n",
            "Epoch 10/30\n",
            "391/391 [==============================] - 1s 4ms/step - loss: 0.0587 - accuracy: 0.9827 - val_loss: 0.0754 - val_accuracy: 0.9799\n",
            "Epoch 11/30\n",
            "391/391 [==============================] - 2s 4ms/step - loss: 0.0554 - accuracy: 0.9840 - val_loss: 0.0768 - val_accuracy: 0.9793\n",
            "Epoch 12/30\n",
            "391/391 [==============================] - 2s 4ms/step - loss: 0.0529 - accuracy: 0.9844 - val_loss: 0.0771 - val_accuracy: 0.9803\n",
            "Epoch 13/30\n",
            "391/391 [==============================] - 2s 4ms/step - loss: 0.0502 - accuracy: 0.9842 - val_loss: 0.0759 - val_accuracy: 0.9814\n",
            "Epoch 14/30\n",
            "391/391 [==============================] - 2s 4ms/step - loss: 0.0479 - accuracy: 0.9855 - val_loss: 0.0751 - val_accuracy: 0.9817\n",
            "Epoch 15/30\n",
            "391/391 [==============================] - 2s 4ms/step - loss: 0.0444 - accuracy: 0.9860 - val_loss: 0.0817 - val_accuracy: 0.9817\n",
            "Epoch 16/30\n",
            "391/391 [==============================] - 2s 4ms/step - loss: 0.0441 - accuracy: 0.9863 - val_loss: 0.0808 - val_accuracy: 0.9820\n",
            "Epoch 17/30\n",
            "391/391 [==============================] - 1s 4ms/step - loss: 0.0420 - accuracy: 0.9866 - val_loss: 0.0821 - val_accuracy: 0.9828\n",
            "Epoch 18/30\n",
            "391/391 [==============================] - 2s 4ms/step - loss: 0.0387 - accuracy: 0.9881 - val_loss: 0.0831 - val_accuracy: 0.9826\n",
            "Epoch 19/30\n",
            "391/391 [==============================] - 1s 4ms/step - loss: 0.0367 - accuracy: 0.9891 - val_loss: 0.0916 - val_accuracy: 0.9814\n",
            "Epoch 20/30\n",
            "391/391 [==============================] - 1s 4ms/step - loss: 0.0344 - accuracy: 0.9895 - val_loss: 0.0868 - val_accuracy: 0.9816\n",
            "Epoch 21/30\n",
            "391/391 [==============================] - 1s 4ms/step - loss: 0.0373 - accuracy: 0.9891 - val_loss: 0.0822 - val_accuracy: 0.9836\n",
            "Epoch 22/30\n",
            "391/391 [==============================] - 1s 4ms/step - loss: 0.0328 - accuracy: 0.9898 - val_loss: 0.0872 - val_accuracy: 0.9828\n",
            "Epoch 23/30\n",
            "391/391 [==============================] - 1s 4ms/step - loss: 0.0322 - accuracy: 0.9898 - val_loss: 0.0860 - val_accuracy: 0.9826\n",
            "Epoch 24/30\n",
            "391/391 [==============================] - 1s 4ms/step - loss: 0.0309 - accuracy: 0.9905 - val_loss: 0.0878 - val_accuracy: 0.9820\n",
            "Epoch 25/30\n",
            "391/391 [==============================] - 2s 4ms/step - loss: 0.0297 - accuracy: 0.9910 - val_loss: 0.0882 - val_accuracy: 0.9826\n",
            "Epoch 26/30\n",
            "391/391 [==============================] - 1s 4ms/step - loss: 0.0276 - accuracy: 0.9912 - val_loss: 0.0884 - val_accuracy: 0.9839\n",
            "Epoch 27/30\n",
            "391/391 [==============================] - 2s 4ms/step - loss: 0.0276 - accuracy: 0.9915 - val_loss: 0.0930 - val_accuracy: 0.9826\n",
            "Epoch 28/30\n",
            "391/391 [==============================] - 2s 4ms/step - loss: 0.0270 - accuracy: 0.9915 - val_loss: 0.0953 - val_accuracy: 0.9829\n",
            "Epoch 29/30\n",
            "391/391 [==============================] - 2s 4ms/step - loss: 0.0269 - accuracy: 0.9918 - val_loss: 0.0925 - val_accuracy: 0.9831\n",
            "Epoch 30/30\n",
            "391/391 [==============================] - 2s 5ms/step - loss: 0.0253 - accuracy: 0.9922 - val_loss: 0.0972 - val_accuracy: 0.9834\n"
          ]
        }
      ]
    },
    {
      "cell_type": "code",
      "source": [
        "pinta_perdida_entrenamiento_validacion(historia4)"
      ],
      "metadata": {
        "id": "R9pI34Yr1gBO",
        "outputId": "7a67a6b4-4f56-4a8f-c7e1-ac645c72ac49",
        "colab": {
          "base_uri": "https://localhost:8080/",
          "height": 0
        }
      },
      "execution_count": 58,
      "outputs": [
        {
          "output_type": "display_data",
          "data": {
            "text/plain": [
              "<Figure size 432x288 with 1 Axes>"
            ],
            "image/png": "[encoded data removed]"
          },
          "metadata": {
            "needs_background": "light"
          }
        }
      ]
    },
    {
      "cell_type": "code",
      "source": [
        "pinta_precision_entrenamiento_validacion(historia4)"
      ],
      "metadata": {
        "id": "EwEIEOKx1lQr",
        "outputId": "25c84084-edf4-4bb7-a838-4367aa68dc87",
        "colab": {
          "base_uri": "https://localhost:8080/",
          "height": 0
        }
      },
      "execution_count": 59,
      "outputs": [
        {
          "output_type": "display_data",
          "data": {
            "text/plain": [
              "<Figure size 432x288 with 1 Axes>"
            ],
            "image/png": "[encoded data removed]"
          },
          "metadata": {
            "needs_background": "light"
          }
        }
      ]
    },
    {
      "cell_type": "markdown",
      "source": [
        "### Caso 5: Error de código de regularizador"
      ],
      "metadata": {
        "id": "e6rlKx2nCOgU"
      }
    },
    {
      "cell_type": "code",
      "source": [
        "network5 = crea_modelo(5)"
      ],
      "metadata": {
        "id": "SqGDm8VM1rwR",
        "outputId": "f19d9619-7a44-4603-98a5-273ef35ca9f7",
        "colab": {
          "base_uri": "https://localhost:8080/",
          "height": 363
        }
      },
      "execution_count": 60,
      "outputs": [
        {
          "output_type": "stream",
          "name": "stdout",
          "text": [
            "Error, no se ha introducido un valor válido\n"
          ]
        },
        {
          "output_type": "error",
          "ename": "ValueError",
          "evalue": "ignored",
          "traceback": [
            "\u001b[0;31m---------------------------------------------------------------------------\u001b[0m",
            "\u001b[0;31mValueError\u001b[0m                                Traceback (most recent call last)",
            "\u001b[0;32m<ipython-input-60-23863d6b79b8>\u001b[0m in \u001b[0;36m<module>\u001b[0;34m\u001b[0m\n\u001b[0;32m----> 1\u001b[0;31m \u001b[0mnetwork5\u001b[0m \u001b[0;34m=\u001b[0m \u001b[0mcrea_modelo\u001b[0m\u001b[0;34m(\u001b[0m\u001b[0;36m5\u001b[0m\u001b[0;34m)\u001b[0m\u001b[0;34m\u001b[0m\u001b[0;34m\u001b[0m\u001b[0m\n\u001b[0m",
            "\u001b[0;32m<ipython-input-30-5155c69e41d1>\u001b[0m in \u001b[0;36mcrea_modelo\u001b[0;34m(regularizador)\u001b[0m\n\u001b[1;32m     26\u001b[0m     \u001b[0mprint\u001b[0m\u001b[0;34m(\u001b[0m\u001b[0;34m'Error, no se ha introducido un valor válido'\u001b[0m\u001b[0;34m)\u001b[0m\u001b[0;34m\u001b[0m\u001b[0;34m\u001b[0m\u001b[0m\n\u001b[1;32m     27\u001b[0m   \u001b[0mnetwork\u001b[0m\u001b[0;34m.\u001b[0m\u001b[0madd\u001b[0m\u001b[0;34m(\u001b[0m\u001b[0mlayers\u001b[0m\u001b[0;34m.\u001b[0m\u001b[0mDense\u001b[0m\u001b[0;34m(\u001b[0m\u001b[0;36m10\u001b[0m\u001b[0;34m,\u001b[0m \u001b[0mactivation\u001b[0m\u001b[0;34m=\u001b[0m\u001b[0;34m'softmax'\u001b[0m\u001b[0;34m)\u001b[0m\u001b[0;34m)\u001b[0m\u001b[0;34m\u001b[0m\u001b[0;34m\u001b[0m\u001b[0m\n\u001b[0;32m---> 28\u001b[0;31m   \u001b[0mnetwork\u001b[0m\u001b[0;34m.\u001b[0m\u001b[0msummary\u001b[0m\u001b[0;34m(\u001b[0m\u001b[0;34m)\u001b[0m\u001b[0;34m\u001b[0m\u001b[0;34m\u001b[0m\u001b[0m\n\u001b[0m\u001b[1;32m     29\u001b[0m   \u001b[0;32mreturn\u001b[0m \u001b[0mnetwork\u001b[0m\u001b[0;34m\u001b[0m\u001b[0;34m\u001b[0m\u001b[0m\n",
            "\u001b[0;32m/usr/local/lib/python3.7/dist-packages/keras/engine/training.py\u001b[0m in \u001b[0;36msummary\u001b[0;34m(self, line_length, positions, print_fn, expand_nested, show_trainable)\u001b[0m\n\u001b[1;32m   2868\u001b[0m     \u001b[0;32mif\u001b[0m \u001b[0;32mnot\u001b[0m \u001b[0mself\u001b[0m\u001b[0;34m.\u001b[0m\u001b[0mbuilt\u001b[0m\u001b[0;34m:\u001b[0m\u001b[0;34m\u001b[0m\u001b[0;34m\u001b[0m\u001b[0m\n\u001b[1;32m   2869\u001b[0m       raise ValueError(\n\u001b[0;32m-> 2870\u001b[0;31m           \u001b[0;34m'This model has not yet been built. '\u001b[0m\u001b[0;34m\u001b[0m\u001b[0;34m\u001b[0m\u001b[0m\n\u001b[0m\u001b[1;32m   2871\u001b[0m           \u001b[0;34m'Build the model first by calling `build()` or by calling '\u001b[0m\u001b[0;34m\u001b[0m\u001b[0;34m\u001b[0m\u001b[0m\n\u001b[1;32m   2872\u001b[0m           'the model on a batch of data.')\n",
            "\u001b[0;31mValueError\u001b[0m: This model has not yet been built. Build the model first by calling `build()` or by calling the model on a batch of data."
          ]
        }
      ]
    },
    {
      "cell_type": "markdown",
      "source": [
        "### CONCLUSIONES"
      ],
      "metadata": {
        "id": "IklUu29cCcVe"
      }
    },
    {
      "cell_type": "markdown",
      "source": [],
      "metadata": {
        "id": "cB_OYjjaChzN"
      }
    }
  ]
}