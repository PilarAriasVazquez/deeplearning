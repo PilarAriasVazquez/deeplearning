{
  "nbformat": 4,
  "nbformat_minor": 0,
  "metadata": {
    "kernelspec": {
      "display_name": "Python 3",
      "language": "python",
      "name": "python3"
    },
    "language_info": {
      "codemirror_mode": {
        "name": "ipython",
        "version": 3
      },
      "file_extension": ".py",
      "mimetype": "text/x-python",
      "name": "python",
      "nbconvert_exporter": "python",
      "pygments_lexer": "ipython3",
      "version": "3.8.5"
    },
    "colab": {
      "name": "2_1_Un_primer_vistazo_a_una_Red_Neuronal.ipynb",
      "provenance": [],
      "include_colab_link": true
    },
    "accelerator": "GPU",
    "gpuClass": "standard"
  },
  "cells": [
    {
      "cell_type": "markdown",
      "metadata": {
        "id": "view-in-github",
        "colab_type": "text"
      },
      "source": [
        "<a href=\"https://colab.research.google.com/github/PilarAriasVazquez/deeplearning/blob/main/Ejercicio%20Regularizadores.ipynb\" target=\"_parent\"><img src=\"https://colab.research.google.com/assets/colab-badge.svg\" alt=\"Open In Colab\"/></a>"
      ]
    },
    {
      "cell_type": "markdown",
      "metadata": {
        "id": "Ejg7Msp7rbkk"
      },
      "source": [
        "# Ejercicio con regularizadores"
      ]
    },
    {
      "cell_type": "code",
      "source": [
        "%tensorflow_version 2.x\n",
        "import tensorflow as tf\n",
        "from tensorflow import keras\n",
        "print(tf.keras.__version__)\n",
        "print(\"GPU Available:\", tf.config.list_physical_devices('GPU'))\n",
        "print(tf.__version__)\n",
        "from keras.datasets import mnist\n",
        "from keras import models\n",
        "from keras import layers\n",
        "import numpy as np\n",
        "import matplotlib.pyplot as plt\n",
        "from keras import regularizers"
      ],
      "metadata": {
        "id": "BSivef1i532C",
        "outputId": "85515940-5f37-4e60-8886-1a930d310eb0",
        "colab": {
          "base_uri": "https://localhost:8080/"
        }
      },
      "execution_count": 1,
      "outputs": [
        {
          "output_type": "stream",
          "name": "stdout",
          "text": [
            "Colab only includes TensorFlow 2.x; %tensorflow_version has no effect.\n",
            "2.9.0\n",
            "GPU Available: [PhysicalDevice(name='/physical_device:GPU:0', device_type='GPU')]\n",
            "2.9.2\n"
          ]
        }
      ]
    },
    {
      "cell_type": "code",
      "source": [
        "(train_images, train_labels), (test_images, test_labels) = mnist.load_data()# Descarga los datos de MNIST"
      ],
      "metadata": {
        "id": "3t3R6gU9-wUy"
      },
      "execution_count": 2,
      "outputs": []
    },
    {
      "cell_type": "code",
      "source": [
        "# Prepara con reshape y normaliza las imágenes tanto de entrenamiento como de test\n",
        "train_images = train_images.reshape((60000, 28 * 28))\n",
        "train_images = train_images.astype('float32') / 255\n",
        "\n",
        "test_images = test_images.reshape((10000, 28 * 28))\n",
        "test_images = test_images.astype('float32') / 255\n"
      ],
      "metadata": {
        "id": "H6n5NeSz0U1d"
      },
      "execution_count": 3,
      "outputs": []
    },
    {
      "cell_type": "code",
      "source": [
        "# Crear un subconjunto de imágenes de entrenamiento que llamaré\n",
        "# validation_images, para hacer las validaciones, con las 10000 últimas imágenes \n",
        "# del set de datos de entrenamiento (train_images) (obviamente, lo mismo con las\n",
        "# etiquetas correspondientes -> validation_labels). Deja preparadas las 50K \n",
        "# primeras imágenes y etiquetas para entrenamiento (train_images y train_labels)\n",
        "validation_images = train_images[50000:]\n",
        "validation_labels = train_labels[50000:]\n",
        "train_images = train_images[:49999]\n",
        "train_labels = train_labels[:49999]\n"
      ],
      "metadata": {
        "id": "NKoZGyap0XAj"
      },
      "execution_count": 4,
      "outputs": []
    },
    {
      "cell_type": "code",
      "source": [
        "def crea_modelo(regularizador):\n",
        "  # Define una función que recibe un número del 0 al 4 que creará:\n",
        "  # un modelo secuencial con una capa de entrada densa de 512 neuronas\n",
        "  # con activación relu y la capa de salida que le corresponda según el problema\n",
        "  # Ahora, en función del número del regularizador:\n",
        "  # Si es 0, no mete ningún regularizador\n",
        "  # Si es 1, mete un regularizador de tipo l1 y valor 0.001\n",
        "  # Si es 2, mete un regularizador de tipo l2 y valor 0.001\n",
        "  # Si es 3, mete un regularizador de tipo l1_l2 y valor 0.001 para ambos\n",
        "  # Si es 4, mete un Dropout del 50% después de la primera capa densa\n",
        "  # Si es distinto que estos valores, escribe el error y retorna\n",
        "  # Al final, esta función pinta el summary del modelo y retorna el modelo creado\n",
        "  \n",
        "\n",
        "  network = models.Sequential()\n",
        "  if regularizador==0:\n",
        "    network.add(layers.Dense(512, activation='relu', input_shape=(28*28,))) \n",
        "  elif regularizador==1:\n",
        "    network.add(layers.Dense(512, kernel_regularizer=regularizers.l1(0.001), activation='relu', input_shape=(28*28,))) \n",
        "  elif regularizador==2:\n",
        "    network.add(layers.Dense(512, kernel_regularizer=regularizers.l2(0.001), activation='relu', input_shape=(28*28,))) \n",
        "  elif regularizador==3:    \n",
        "    network.add(layers.Dense(512, kernel_regularizer=regularizers.l1_l2(l1=0.001, l2=0.001), activation='relu', input_shape=(28*28,))) \n",
        "  elif regularizador==4: \n",
        "    network.add(layers.Dense(512, activation='relu', input_shape=(28*28,))) \n",
        "    network.add(layers.Dropout(0.5))\n",
        "  else:  \n",
        "    print('Error, no se ha introducido un valor válido')\n",
        "    return 0\n",
        "  network.add(layers.Dense(10, activation='softmax'))      \n",
        "  network.summary()\n",
        "  return network"
      ],
      "metadata": {
        "id": "6JnVLVfsAfkh"
      },
      "execution_count": 5,
      "outputs": []
    },
    {
      "cell_type": "code",
      "source": [
        "def compila_modelo(modelo): \n",
        "  # Define una función que recibe un modelo, lo compila con un optimizador\n",
        "  # 'rmsprop', con una función de pérdida 'sparse_categorical_crossentropy' y\n",
        "  # una métrica de precisión. La función retorna el modelo\n",
        "  modelo.compile(optimizer='rmsprop', \n",
        "                loss='sparse_categorical_crossentropy',\n",
        "                metrics=['accuracy'])\n",
        "  return modelo"
      ],
      "metadata": {
        "id": "qKyJ8KOT0aFt"
      },
      "execution_count": 6,
      "outputs": []
    },
    {
      "cell_type": "code",
      "source": [
        "def entrena_modelo(modelo):\n",
        "  # Define una función que entrena el modelo que se le pasa por parámetro,\n",
        "  # con las imágenes y etiquetas de entrenamiento, con 30 iteraciones y 128\n",
        "  # de tamaño de minilote y con el validation_data creado más arriba.\n",
        "  # Esta función devuelve un history\n",
        "  history= modelo.fit(train_images, train_labels,\n",
        "                       epochs=30, batch_size=128,\n",
        "                       validation_data=(validation_images, validation_labels))\n",
        "  return history"
      ],
      "metadata": {
        "id": "_yQ7SpOt0cBp"
      },
      "execution_count": 7,
      "outputs": []
    },
    {
      "cell_type": "code",
      "source": [
        "def pinta_perdida_entrenamiento_validacion(historia):\n",
        "  history_dict = historia.history\n",
        "  acc = historia.history['accuracy']\n",
        "  val_acc = historia.history['val_accuracy']\n",
        "  loss = historia.history['loss']\n",
        "  val_loss = historia.history['val_loss']\n",
        "  epochs = range(1, len(acc) + 1)\n",
        "  # \"bo\" es para \"punto azun\"\n",
        "  plt.plot(epochs, loss, 'bo', label='Pérdida de Entrenamiento')\n",
        "  # \"b\" es para \"linea continua azul\"\n",
        "  plt.plot(epochs, val_loss, 'b', label='Pérdida de Validación')\n",
        "  plt.title('Pérdida de Entrenamiento y Validación')\n",
        "  plt.xlabel('Epochs')\n",
        "  plt.ylabel('Loss')\n",
        "  plt.legend()\n",
        "  plt.show()"
      ],
      "metadata": {
        "id": "bJrRNc4WwPN2"
      },
      "execution_count": 8,
      "outputs": []
    },
    {
      "cell_type": "code",
      "source": [
        "def pinta_precision_entrenamiento_validacion(historia):\n",
        "  history_dict = historia.history\n",
        "  acc = historia.history['accuracy']\n",
        "  val_acc = historia.history['val_accuracy']\n",
        "  loss = historia.history['loss']\n",
        "  val_loss = historia.history['val_loss']\n",
        "  plt.clf()   # Limpia la figura\n",
        "  acc_values = history_dict['accuracy']\n",
        "  val_acc_values = history_dict['val_accuracy']\n",
        "  epochs = range(1, len(acc) + 1)\n",
        "  plt.plot(epochs, acc, 'bo', label='Precisión de Entrenamiento')\n",
        "  plt.plot(epochs, val_acc, 'b', label='Precisión de Validación')\n",
        "  plt.title('Precisión de Entrenamiento y Valización')\n",
        "  plt.xlabel('Epochs')\n",
        "  plt.ylabel('Loss')\n",
        "  plt.legend()\n",
        "  plt.show()"
      ],
      "metadata": {
        "id": "Mafxp6D3wYQx"
      },
      "execution_count": 9,
      "outputs": []
    },
    {
      "cell_type": "markdown",
      "source": [
        "## Una vez definidas todas las funciones anteriores, ejecuta las siguientes llamadas a dichas funciones y deduce que está pasando y, para este contexto, que es lo que mejor está funcionando"
      ],
      "metadata": {
        "id": "6nnQYysYA3_T"
      }
    },
    {
      "cell_type": "markdown",
      "source": [
        "### Caso 0, sin regularizadores"
      ],
      "metadata": {
        "id": "OrGwDgaFBax4"
      }
    },
    {
      "cell_type": "code",
      "source": [
        "network0 = crea_modelo(0)"
      ],
      "metadata": {
        "id": "uXvhlXg79Zi9",
        "outputId": "3f117806-f485-421f-b500-80d5a17dae3a",
        "colab": {
          "base_uri": "https://localhost:8080/"
        }
      },
      "execution_count": 10,
      "outputs": [
        {
          "output_type": "stream",
          "name": "stdout",
          "text": [
            "Model: \"sequential\"\n",
            "_________________________________________________________________\n",
            " Layer (type)                Output Shape              Param #   \n",
            "=================================================================\n",
            " dense (Dense)               (None, 512)               401920    \n",
            "                                                                 \n",
            " dense_1 (Dense)             (None, 10)                5130      \n",
            "                                                                 \n",
            "=================================================================\n",
            "Total params: 407,050\n",
            "Trainable params: 407,050\n",
            "Non-trainable params: 0\n",
            "_________________________________________________________________\n"
          ]
        }
      ]
    },
    {
      "cell_type": "code",
      "source": [
        "network0 = compila_modelo(network0)"
      ],
      "metadata": {
        "id": "Ff0HC3NR9ez8"
      },
      "execution_count": 11,
      "outputs": []
    },
    {
      "cell_type": "code",
      "source": [
        "historia0 = entrena_modelo(network0)"
      ],
      "metadata": {
        "id": "x9zQDOlw9g6V",
        "outputId": "9861850d-ea16-400c-93ab-26636c2663c5",
        "colab": {
          "base_uri": "https://localhost:8080/"
        }
      },
      "execution_count": 12,
      "outputs": [
        {
          "output_type": "stream",
          "name": "stdout",
          "text": [
            "Epoch 1/30\n",
            "391/391 [==============================] - 4s 6ms/step - loss: 0.2835 - accuracy: 0.9176 - val_loss: 0.1685 - val_accuracy: 0.9525\n",
            "Epoch 2/30\n",
            "391/391 [==============================] - 2s 6ms/step - loss: 0.1157 - accuracy: 0.9663 - val_loss: 0.0958 - val_accuracy: 0.9722\n",
            "Epoch 3/30\n",
            "391/391 [==============================] - 2s 6ms/step - loss: 0.0757 - accuracy: 0.9774 - val_loss: 0.0848 - val_accuracy: 0.9755\n",
            "Epoch 4/30\n",
            "391/391 [==============================] - 2s 6ms/step - loss: 0.0543 - accuracy: 0.9836 - val_loss: 0.0784 - val_accuracy: 0.9785\n",
            "Epoch 5/30\n",
            "391/391 [==============================] - 2s 5ms/step - loss: 0.0404 - accuracy: 0.9883 - val_loss: 0.0747 - val_accuracy: 0.9793\n",
            "Epoch 6/30\n",
            "391/391 [==============================] - 2s 6ms/step - loss: 0.0302 - accuracy: 0.9911 - val_loss: 0.0833 - val_accuracy: 0.9762\n",
            "Epoch 7/30\n",
            "391/391 [==============================] - 1s 3ms/step - loss: 0.0231 - accuracy: 0.9937 - val_loss: 0.0827 - val_accuracy: 0.9762\n",
            "Epoch 8/30\n",
            "391/391 [==============================] - 1s 4ms/step - loss: 0.0181 - accuracy: 0.9948 - val_loss: 0.0808 - val_accuracy: 0.9803\n",
            "Epoch 9/30\n",
            "391/391 [==============================] - 1s 3ms/step - loss: 0.0133 - accuracy: 0.9962 - val_loss: 0.0745 - val_accuracy: 0.9817\n",
            "Epoch 10/30\n",
            "391/391 [==============================] - 1s 3ms/step - loss: 0.0100 - accuracy: 0.9974 - val_loss: 0.0918 - val_accuracy: 0.9783\n",
            "Epoch 11/30\n",
            "391/391 [==============================] - 1s 3ms/step - loss: 0.0075 - accuracy: 0.9982 - val_loss: 0.0747 - val_accuracy: 0.9824\n",
            "Epoch 12/30\n",
            "391/391 [==============================] - 1s 4ms/step - loss: 0.0057 - accuracy: 0.9984 - val_loss: 0.0886 - val_accuracy: 0.9810\n",
            "Epoch 13/30\n",
            "391/391 [==============================] - 1s 3ms/step - loss: 0.0043 - accuracy: 0.9987 - val_loss: 0.0927 - val_accuracy: 0.9798\n",
            "Epoch 14/30\n",
            "391/391 [==============================] - 1s 3ms/step - loss: 0.0036 - accuracy: 0.9992 - val_loss: 0.0872 - val_accuracy: 0.9812\n",
            "Epoch 15/30\n",
            "391/391 [==============================] - 1s 3ms/step - loss: 0.0028 - accuracy: 0.9992 - val_loss: 0.0981 - val_accuracy: 0.9818\n",
            "Epoch 16/30\n",
            "391/391 [==============================] - 1s 3ms/step - loss: 0.0019 - accuracy: 0.9995 - val_loss: 0.0956 - val_accuracy: 0.9822\n",
            "Epoch 17/30\n",
            "391/391 [==============================] - 1s 3ms/step - loss: 0.0017 - accuracy: 0.9996 - val_loss: 0.0995 - val_accuracy: 0.9813\n",
            "Epoch 18/30\n",
            "391/391 [==============================] - 1s 3ms/step - loss: 0.0012 - accuracy: 0.9997 - val_loss: 0.0956 - val_accuracy: 0.9828\n",
            "Epoch 19/30\n",
            "391/391 [==============================] - 2s 4ms/step - loss: 0.0012 - accuracy: 0.9996 - val_loss: 0.1044 - val_accuracy: 0.9821\n",
            "Epoch 20/30\n",
            "391/391 [==============================] - 1s 3ms/step - loss: 8.4457e-04 - accuracy: 0.9998 - val_loss: 0.1119 - val_accuracy: 0.9814\n",
            "Epoch 21/30\n",
            "391/391 [==============================] - 1s 3ms/step - loss: 8.1835e-04 - accuracy: 0.9997 - val_loss: 0.1168 - val_accuracy: 0.9803\n",
            "Epoch 22/30\n",
            "391/391 [==============================] - 1s 3ms/step - loss: 4.9403e-04 - accuracy: 0.9998 - val_loss: 0.1172 - val_accuracy: 0.9815\n",
            "Epoch 23/30\n",
            "391/391 [==============================] - 1s 4ms/step - loss: 5.1945e-04 - accuracy: 0.9999 - val_loss: 0.1166 - val_accuracy: 0.9816\n",
            "Epoch 24/30\n",
            "391/391 [==============================] - 1s 4ms/step - loss: 2.5887e-04 - accuracy: 0.9999 - val_loss: 0.1197 - val_accuracy: 0.9824\n",
            "Epoch 25/30\n",
            "391/391 [==============================] - 1s 3ms/step - loss: 3.0304e-04 - accuracy: 1.0000 - val_loss: 0.1218 - val_accuracy: 0.9819\n",
            "Epoch 26/30\n",
            "391/391 [==============================] - 1s 4ms/step - loss: 3.5890e-04 - accuracy: 0.9999 - val_loss: 0.1289 - val_accuracy: 0.9819\n",
            "Epoch 27/30\n",
            "391/391 [==============================] - 1s 3ms/step - loss: 4.7643e-04 - accuracy: 0.9999 - val_loss: 0.1398 - val_accuracy: 0.9820\n",
            "Epoch 28/30\n",
            "391/391 [==============================] - 1s 3ms/step - loss: 2.6786e-04 - accuracy: 0.9999 - val_loss: 0.1302 - val_accuracy: 0.9816\n",
            "Epoch 29/30\n",
            "391/391 [==============================] - 1s 4ms/step - loss: 1.2994e-04 - accuracy: 1.0000 - val_loss: 0.1345 - val_accuracy: 0.9818\n",
            "Epoch 30/30\n",
            "391/391 [==============================] - 2s 4ms/step - loss: 1.1898e-04 - accuracy: 1.0000 - val_loss: 0.1307 - val_accuracy: 0.9829\n"
          ]
        }
      ]
    },
    {
      "cell_type": "code",
      "source": [
        "pinta_perdida_entrenamiento_validacion(historia0)"
      ],
      "metadata": {
        "id": "OvhDZvS8-0mG",
        "outputId": "b255875b-3e20-4ecc-f8f8-446d20283509",
        "colab": {
          "base_uri": "https://localhost:8080/",
          "height": 295
        }
      },
      "execution_count": 13,
      "outputs": [
        {
          "output_type": "display_data",
          "data": {
            "text/plain": [
              "<Figure size 432x288 with 1 Axes>"
            ],
            "image/png": "[encoded data removed]"
          },
          "metadata": {
            "needs_background": "light"
          }
        }
      ]
    },
    {
      "cell_type": "code",
      "source": [
        "pinta_precision_entrenamiento_validacion(historia0)"
      ],
      "metadata": {
        "id": "UuiL2CCH_fGN",
        "outputId": "f84bb137-2d24-4aa4-ecca-775d646a38ae",
        "colab": {
          "base_uri": "https://localhost:8080/",
          "height": 295
        }
      },
      "execution_count": 14,
      "outputs": [
        {
          "output_type": "display_data",
          "data": {
            "text/plain": [
              "<Figure size 432x288 with 1 Axes>"
            ],
            "image/png": "[encoded data removed]"
          },
          "metadata": {
            "needs_background": "light"
          }
        }
      ]
    },
    {
      "cell_type": "markdown",
      "source": [
        "### Caso 1: Con regularizador l1"
      ],
      "metadata": {
        "id": "pw6iBGO5Bg8J"
      }
    },
    {
      "cell_type": "code",
      "source": [
        "network1 = crea_modelo(1)"
      ],
      "metadata": {
        "id": "D6JPtw5zCz-1",
        "outputId": "b877f257-62fe-4e7e-f0ef-e445f63f52b2",
        "colab": {
          "base_uri": "https://localhost:8080/"
        }
      },
      "execution_count": 15,
      "outputs": [
        {
          "output_type": "stream",
          "name": "stdout",
          "text": [
            "Model: \"sequential_1\"\n",
            "_________________________________________________________________\n",
            " Layer (type)                Output Shape              Param #   \n",
            "=================================================================\n",
            " dense_2 (Dense)             (None, 512)               401920    \n",
            "                                                                 \n",
            " dense_3 (Dense)             (None, 10)                5130      \n",
            "                                                                 \n",
            "=================================================================\n",
            "Total params: 407,050\n",
            "Trainable params: 407,050\n",
            "Non-trainable params: 0\n",
            "_________________________________________________________________\n"
          ]
        }
      ]
    },
    {
      "cell_type": "code",
      "source": [
        "network1 = compila_modelo(network1)"
      ],
      "metadata": {
        "id": "zL3Gp7wvFRq3"
      },
      "execution_count": 16,
      "outputs": []
    },
    {
      "cell_type": "code",
      "source": [
        "historia1 = entrena_modelo(network1)"
      ],
      "metadata": {
        "id": "G2FG1Z4xFW72",
        "outputId": "6d0d773f-d8c9-4c20-b45e-ae0da75d7209",
        "colab": {
          "base_uri": "https://localhost:8080/"
        }
      },
      "execution_count": 17,
      "outputs": [
        {
          "output_type": "stream",
          "name": "stdout",
          "text": [
            "Epoch 1/30\n",
            "391/391 [==============================] - 2s 4ms/step - loss: 2.1284 - accuracy: 0.8460 - val_loss: 1.0923 - val_accuracy: 0.8580\n",
            "Epoch 2/30\n",
            "391/391 [==============================] - 1s 3ms/step - loss: 0.9625 - accuracy: 0.8812 - val_loss: 0.8730 - val_accuracy: 0.8945\n",
            "Epoch 3/30\n",
            "391/391 [==============================] - 1s 4ms/step - loss: 0.8370 - accuracy: 0.9023 - val_loss: 0.7676 - val_accuracy: 0.9187\n",
            "Epoch 4/30\n",
            "391/391 [==============================] - 1s 4ms/step - loss: 0.7632 - accuracy: 0.9148 - val_loss: 0.7150 - val_accuracy: 0.9260\n",
            "Epoch 5/30\n",
            "391/391 [==============================] - 1s 4ms/step - loss: 0.7122 - accuracy: 0.9239 - val_loss: 0.6670 - val_accuracy: 0.9383\n",
            "Epoch 6/30\n",
            "391/391 [==============================] - 1s 3ms/step - loss: 0.6757 - accuracy: 0.9301 - val_loss: 0.6605 - val_accuracy: 0.9377\n",
            "Epoch 7/30\n",
            "391/391 [==============================] - 1s 3ms/step - loss: 0.6487 - accuracy: 0.9335 - val_loss: 0.6137 - val_accuracy: 0.9461\n",
            "Epoch 8/30\n",
            "391/391 [==============================] - 1s 4ms/step - loss: 0.6259 - accuracy: 0.9389 - val_loss: 0.6622 - val_accuracy: 0.9226\n",
            "Epoch 9/30\n",
            "391/391 [==============================] - 1s 4ms/step - loss: 0.6077 - accuracy: 0.9422 - val_loss: 0.6158 - val_accuracy: 0.9395\n",
            "Epoch 10/30\n",
            "391/391 [==============================] - 1s 4ms/step - loss: 0.5940 - accuracy: 0.9436 - val_loss: 0.5810 - val_accuracy: 0.9474\n",
            "Epoch 11/30\n",
            "391/391 [==============================] - 1s 3ms/step - loss: 0.5826 - accuracy: 0.9450 - val_loss: 0.5590 - val_accuracy: 0.9559\n",
            "Epoch 12/30\n",
            "391/391 [==============================] - 1s 4ms/step - loss: 0.5703 - accuracy: 0.9465 - val_loss: 0.5776 - val_accuracy: 0.9394\n",
            "Epoch 13/30\n",
            "391/391 [==============================] - 1s 4ms/step - loss: 0.5604 - accuracy: 0.9491 - val_loss: 0.5596 - val_accuracy: 0.9497\n",
            "Epoch 14/30\n",
            "391/391 [==============================] - 2s 4ms/step - loss: 0.5529 - accuracy: 0.9493 - val_loss: 0.5556 - val_accuracy: 0.9516\n",
            "Epoch 15/30\n",
            "391/391 [==============================] - 1s 4ms/step - loss: 0.5449 - accuracy: 0.9513 - val_loss: 0.5340 - val_accuracy: 0.9553\n",
            "Epoch 16/30\n",
            "391/391 [==============================] - 2s 4ms/step - loss: 0.5404 - accuracy: 0.9519 - val_loss: 0.5311 - val_accuracy: 0.9552\n",
            "Epoch 17/30\n",
            "391/391 [==============================] - 1s 4ms/step - loss: 0.5321 - accuracy: 0.9546 - val_loss: 0.5318 - val_accuracy: 0.9520\n",
            "Epoch 18/30\n",
            "391/391 [==============================] - 1s 4ms/step - loss: 0.5286 - accuracy: 0.9536 - val_loss: 0.5281 - val_accuracy: 0.9532\n",
            "Epoch 19/30\n",
            "391/391 [==============================] - 1s 4ms/step - loss: 0.5234 - accuracy: 0.9540 - val_loss: 0.5143 - val_accuracy: 0.9589\n",
            "Epoch 20/30\n",
            "391/391 [==============================] - 2s 4ms/step - loss: 0.5182 - accuracy: 0.9548 - val_loss: 0.5259 - val_accuracy: 0.9534\n",
            "Epoch 21/30\n",
            "391/391 [==============================] - 2s 4ms/step - loss: 0.5141 - accuracy: 0.9558 - val_loss: 0.5004 - val_accuracy: 0.9610\n",
            "Epoch 22/30\n",
            "391/391 [==============================] - 1s 4ms/step - loss: 0.5094 - accuracy: 0.9554 - val_loss: 0.4986 - val_accuracy: 0.9592\n",
            "Epoch 23/30\n",
            "391/391 [==============================] - 1s 4ms/step - loss: 0.5048 - accuracy: 0.9567 - val_loss: 0.4854 - val_accuracy: 0.9638\n",
            "Epoch 24/30\n",
            "391/391 [==============================] - 2s 4ms/step - loss: 0.5022 - accuracy: 0.9572 - val_loss: 0.4893 - val_accuracy: 0.9625\n",
            "Epoch 25/30\n",
            "391/391 [==============================] - 1s 4ms/step - loss: 0.4989 - accuracy: 0.9576 - val_loss: 0.4896 - val_accuracy: 0.9604\n",
            "Epoch 26/30\n",
            "391/391 [==============================] - 1s 3ms/step - loss: 0.4950 - accuracy: 0.9594 - val_loss: 0.4928 - val_accuracy: 0.9597\n",
            "Epoch 27/30\n",
            "391/391 [==============================] - 2s 5ms/step - loss: 0.4939 - accuracy: 0.9587 - val_loss: 0.5059 - val_accuracy: 0.9564\n",
            "Epoch 28/30\n",
            "391/391 [==============================] - 2s 4ms/step - loss: 0.4906 - accuracy: 0.9588 - val_loss: 0.4717 - val_accuracy: 0.9658\n",
            "Epoch 29/30\n",
            "391/391 [==============================] - 2s 4ms/step - loss: 0.4887 - accuracy: 0.9595 - val_loss: 0.4751 - val_accuracy: 0.9670\n",
            "Epoch 30/30\n",
            "391/391 [==============================] - 1s 4ms/step - loss: 0.4863 - accuracy: 0.9586 - val_loss: 0.4852 - val_accuracy: 0.9595\n"
          ]
        }
      ]
    },
    {
      "cell_type": "code",
      "source": [
        "pinta_perdida_entrenamiento_validacion(historia1)"
      ],
      "metadata": {
        "id": "Vyv3yFtiFitw",
        "outputId": "0f2540ab-d8ee-4dff-f8c4-283c693805d6",
        "colab": {
          "base_uri": "https://localhost:8080/",
          "height": 295
        }
      },
      "execution_count": 18,
      "outputs": [
        {
          "output_type": "display_data",
          "data": {
            "text/plain": [
              "<Figure size 432x288 with 1 Axes>"
            ],
            "image/png": "[encoded data removed]"
          },
          "metadata": {
            "needs_background": "light"
          }
        }
      ]
    },
    {
      "cell_type": "code",
      "source": [
        "pinta_precision_entrenamiento_validacion(historia1)"
      ],
      "metadata": {
        "id": "pVUerJsqFo7K",
        "outputId": "36afc5a2-0b40-45f6-a626-a37dcbd2c6e2",
        "colab": {
          "base_uri": "https://localhost:8080/",
          "height": 295
        }
      },
      "execution_count": 19,
      "outputs": [
        {
          "output_type": "display_data",
          "data": {
            "text/plain": [
              "<Figure size 432x288 with 1 Axes>"
            ],
            "image/png": "[encoded data removed]"
          },
          "metadata": {
            "needs_background": "light"
          }
        }
      ]
    },
    {
      "cell_type": "markdown",
      "source": [
        "### Caso 2: Con regularizador l2"
      ],
      "metadata": {
        "id": "hklwKNlMBzya"
      }
    },
    {
      "cell_type": "code",
      "source": [
        "network2 = crea_modelo(2)"
      ],
      "metadata": {
        "id": "tjIs0FziG5Ja",
        "outputId": "515a466f-ffc0-42b9-92a4-f50a76e17ad8",
        "colab": {
          "base_uri": "https://localhost:8080/"
        }
      },
      "execution_count": 20,
      "outputs": [
        {
          "output_type": "stream",
          "name": "stdout",
          "text": [
            "Model: \"sequential_2\"\n",
            "_________________________________________________________________\n",
            " Layer (type)                Output Shape              Param #   \n",
            "=================================================================\n",
            " dense_4 (Dense)             (None, 512)               401920    \n",
            "                                                                 \n",
            " dense_5 (Dense)             (None, 10)                5130      \n",
            "                                                                 \n",
            "=================================================================\n",
            "Total params: 407,050\n",
            "Trainable params: 407,050\n",
            "Non-trainable params: 0\n",
            "_________________________________________________________________\n"
          ]
        }
      ]
    },
    {
      "cell_type": "code",
      "source": [
        "network2 = compila_modelo(network2)"
      ],
      "metadata": {
        "id": "UCdA0K_qyTUq"
      },
      "execution_count": 21,
      "outputs": []
    },
    {
      "cell_type": "code",
      "source": [
        "historia2 = entrena_modelo(network2)"
      ],
      "metadata": {
        "id": "WSuomx5oybpu",
        "outputId": "4be8f004-c3af-428e-f13d-83544eb0019f",
        "colab": {
          "base_uri": "https://localhost:8080/"
        }
      },
      "execution_count": 22,
      "outputs": [
        {
          "output_type": "stream",
          "name": "stdout",
          "text": [
            "Epoch 1/30\n",
            "391/391 [==============================] - 2s 4ms/step - loss: 0.5257 - accuracy: 0.9133 - val_loss: 0.3117 - val_accuracy: 0.9479\n",
            "Epoch 2/30\n",
            "391/391 [==============================] - 2s 4ms/step - loss: 0.2648 - accuracy: 0.9543 - val_loss: 0.2191 - val_accuracy: 0.9669\n",
            "Epoch 3/30\n",
            "391/391 [==============================] - 2s 4ms/step - loss: 0.2101 - accuracy: 0.9628 - val_loss: 0.2070 - val_accuracy: 0.9628\n",
            "Epoch 4/30\n",
            "391/391 [==============================] - 2s 4ms/step - loss: 0.1860 - accuracy: 0.9677 - val_loss: 0.1839 - val_accuracy: 0.9677\n",
            "Epoch 5/30\n",
            "391/391 [==============================] - 1s 4ms/step - loss: 0.1739 - accuracy: 0.9699 - val_loss: 0.2084 - val_accuracy: 0.9599\n",
            "Epoch 6/30\n",
            "391/391 [==============================] - 2s 4ms/step - loss: 0.1656 - accuracy: 0.9708 - val_loss: 0.2304 - val_accuracy: 0.9492\n",
            "Epoch 7/30\n",
            "391/391 [==============================] - 1s 4ms/step - loss: 0.1579 - accuracy: 0.9723 - val_loss: 0.1791 - val_accuracy: 0.9664\n",
            "Epoch 8/30\n",
            "391/391 [==============================] - 2s 4ms/step - loss: 0.1525 - accuracy: 0.9736 - val_loss: 0.1580 - val_accuracy: 0.9713\n",
            "Epoch 9/30\n",
            "391/391 [==============================] - 1s 4ms/step - loss: 0.1482 - accuracy: 0.9740 - val_loss: 0.1527 - val_accuracy: 0.9742\n",
            "Epoch 10/30\n",
            "391/391 [==============================] - 1s 3ms/step - loss: 0.1447 - accuracy: 0.9753 - val_loss: 0.1609 - val_accuracy: 0.9711\n",
            "Epoch 11/30\n",
            "391/391 [==============================] - 1s 4ms/step - loss: 0.1413 - accuracy: 0.9754 - val_loss: 0.1509 - val_accuracy: 0.9726\n",
            "Epoch 12/30\n",
            "391/391 [==============================] - 2s 4ms/step - loss: 0.1368 - accuracy: 0.9769 - val_loss: 0.1672 - val_accuracy: 0.9670\n",
            "Epoch 13/30\n",
            "391/391 [==============================] - 1s 4ms/step - loss: 0.1356 - accuracy: 0.9766 - val_loss: 0.1501 - val_accuracy: 0.9748\n",
            "Epoch 14/30\n",
            "391/391 [==============================] - 2s 4ms/step - loss: 0.1324 - accuracy: 0.9780 - val_loss: 0.1947 - val_accuracy: 0.9594\n",
            "Epoch 15/30\n",
            "391/391 [==============================] - 2s 4ms/step - loss: 0.1302 - accuracy: 0.9783 - val_loss: 0.1493 - val_accuracy: 0.9732\n",
            "Epoch 16/30\n",
            "391/391 [==============================] - 2s 4ms/step - loss: 0.1279 - accuracy: 0.9783 - val_loss: 0.1522 - val_accuracy: 0.9708\n",
            "Epoch 17/30\n",
            "391/391 [==============================] - 1s 3ms/step - loss: 0.1277 - accuracy: 0.9782 - val_loss: 0.1891 - val_accuracy: 0.9592\n",
            "Epoch 18/30\n",
            "391/391 [==============================] - 1s 3ms/step - loss: 0.1245 - accuracy: 0.9789 - val_loss: 0.1807 - val_accuracy: 0.9614\n",
            "Epoch 19/30\n",
            "391/391 [==============================] - 1s 3ms/step - loss: 0.1235 - accuracy: 0.9793 - val_loss: 0.1442 - val_accuracy: 0.9734\n",
            "Epoch 20/30\n",
            "391/391 [==============================] - 2s 4ms/step - loss: 0.1212 - accuracy: 0.9803 - val_loss: 0.1413 - val_accuracy: 0.9740\n",
            "Epoch 21/30\n",
            "391/391 [==============================] - 1s 3ms/step - loss: 0.1199 - accuracy: 0.9806 - val_loss: 0.1607 - val_accuracy: 0.9701\n",
            "Epoch 22/30\n",
            "391/391 [==============================] - 2s 4ms/step - loss: 0.1179 - accuracy: 0.9804 - val_loss: 0.1268 - val_accuracy: 0.9774\n",
            "Epoch 23/30\n",
            "391/391 [==============================] - 1s 3ms/step - loss: 0.1167 - accuracy: 0.9803 - val_loss: 0.1619 - val_accuracy: 0.9702\n",
            "Epoch 24/30\n",
            "391/391 [==============================] - 1s 4ms/step - loss: 0.1165 - accuracy: 0.9802 - val_loss: 0.1367 - val_accuracy: 0.9752\n",
            "Epoch 25/30\n",
            "391/391 [==============================] - 2s 4ms/step - loss: 0.1143 - accuracy: 0.9805 - val_loss: 0.1615 - val_accuracy: 0.9695\n",
            "Epoch 26/30\n",
            "391/391 [==============================] - 1s 4ms/step - loss: 0.1131 - accuracy: 0.9815 - val_loss: 0.1492 - val_accuracy: 0.9734\n",
            "Epoch 27/30\n",
            "391/391 [==============================] - 1s 4ms/step - loss: 0.1125 - accuracy: 0.9816 - val_loss: 0.1481 - val_accuracy: 0.9701\n",
            "Epoch 28/30\n",
            "391/391 [==============================] - 2s 4ms/step - loss: 0.1123 - accuracy: 0.9821 - val_loss: 0.1675 - val_accuracy: 0.9664\n",
            "Epoch 29/30\n",
            "391/391 [==============================] - 2s 4ms/step - loss: 0.1106 - accuracy: 0.9817 - val_loss: 0.1731 - val_accuracy: 0.9673\n",
            "Epoch 30/30\n",
            "391/391 [==============================] - 2s 4ms/step - loss: 0.1100 - accuracy: 0.9817 - val_loss: 0.1293 - val_accuracy: 0.9777\n"
          ]
        }
      ]
    },
    {
      "cell_type": "code",
      "source": [
        "pinta_perdida_entrenamiento_validacion(historia2)"
      ],
      "metadata": {
        "id": "aXXzm8tpyj6X",
        "outputId": "0ab7cf0d-a3c4-4b81-961b-ce29f59601ca",
        "colab": {
          "base_uri": "https://localhost:8080/",
          "height": 295
        }
      },
      "execution_count": 23,
      "outputs": [
        {
          "output_type": "display_data",
          "data": {
            "text/plain": [
              "<Figure size 432x288 with 1 Axes>"
            ],
            "image/png": "[encoded data removed]"
          },
          "metadata": {
            "needs_background": "light"
          }
        }
      ]
    },
    {
      "cell_type": "code",
      "source": [
        "pinta_precision_entrenamiento_validacion(historia2)"
      ],
      "metadata": {
        "id": "CLTsg5LTypH9",
        "outputId": "635f880e-acc9-42ef-de2f-6fcf19a42151",
        "colab": {
          "base_uri": "https://localhost:8080/",
          "height": 295
        }
      },
      "execution_count": 24,
      "outputs": [
        {
          "output_type": "display_data",
          "data": {
            "text/plain": [
              "<Figure size 432x288 with 1 Axes>"
            ],
            "image/png": "[encoded data removed]"
          },
          "metadata": {
            "needs_background": "light"
          }
        }
      ]
    },
    {
      "cell_type": "markdown",
      "source": [
        "### Caso 3: Con regularizador l1_l2"
      ],
      "metadata": {
        "id": "692oWz8oB82n"
      }
    },
    {
      "cell_type": "code",
      "source": [
        "network3 = crea_modelo(3)"
      ],
      "metadata": {
        "id": "5fdxkjoKzFcu",
        "outputId": "9bd82beb-4673-456a-f9dd-6fca21c80dce",
        "colab": {
          "base_uri": "https://localhost:8080/"
        }
      },
      "execution_count": 25,
      "outputs": [
        {
          "output_type": "stream",
          "name": "stdout",
          "text": [
            "Model: \"sequential_3\"\n",
            "_________________________________________________________________\n",
            " Layer (type)                Output Shape              Param #   \n",
            "=================================================================\n",
            " dense_6 (Dense)             (None, 512)               401920    \n",
            "                                                                 \n",
            " dense_7 (Dense)             (None, 10)                5130      \n",
            "                                                                 \n",
            "=================================================================\n",
            "Total params: 407,050\n",
            "Trainable params: 407,050\n",
            "Non-trainable params: 0\n",
            "_________________________________________________________________\n"
          ]
        }
      ]
    },
    {
      "cell_type": "code",
      "source": [
        "network3 = compila_modelo(network3)"
      ],
      "metadata": {
        "id": "VJzs9A2yzPhx"
      },
      "execution_count": 26,
      "outputs": []
    },
    {
      "cell_type": "code",
      "source": [
        "historia3 = entrena_modelo(network3)"
      ],
      "metadata": {
        "id": "1JCUbcCQzY6E",
        "outputId": "0e06a2ae-e714-4fce-9aa5-74be8c9ffbb5",
        "colab": {
          "base_uri": "https://localhost:8080/"
        }
      },
      "execution_count": 27,
      "outputs": [
        {
          "output_type": "stream",
          "name": "stdout",
          "text": [
            "Epoch 1/30\n",
            "391/391 [==============================] - 2s 4ms/step - loss: 2.1527 - accuracy: 0.8402 - val_loss: 1.0188 - val_accuracy: 0.8732\n",
            "Epoch 2/30\n",
            "391/391 [==============================] - 1s 4ms/step - loss: 0.9797 - accuracy: 0.8757 - val_loss: 0.8718 - val_accuracy: 0.8986\n",
            "Epoch 3/30\n",
            "391/391 [==============================] - 1s 4ms/step - loss: 0.8581 - accuracy: 0.8977 - val_loss: 0.8656 - val_accuracy: 0.8862\n",
            "Epoch 4/30\n",
            "391/391 [==============================] - 1s 4ms/step - loss: 0.7835 - accuracy: 0.9118 - val_loss: 0.7323 - val_accuracy: 0.9316\n",
            "Epoch 5/30\n",
            "391/391 [==============================] - 2s 4ms/step - loss: 0.7347 - accuracy: 0.9195 - val_loss: 0.7104 - val_accuracy: 0.9246\n",
            "Epoch 6/30\n",
            "391/391 [==============================] - 1s 3ms/step - loss: 0.6976 - accuracy: 0.9266 - val_loss: 0.6973 - val_accuracy: 0.9244\n",
            "Epoch 7/30\n",
            "391/391 [==============================] - 1s 4ms/step - loss: 0.6673 - accuracy: 0.9314 - val_loss: 0.6324 - val_accuracy: 0.9447\n",
            "Epoch 8/30\n",
            "391/391 [==============================] - 1s 3ms/step - loss: 0.6462 - accuracy: 0.9347 - val_loss: 0.6155 - val_accuracy: 0.9469\n",
            "Epoch 9/30\n",
            "391/391 [==============================] - 1s 4ms/step - loss: 0.6293 - accuracy: 0.9388 - val_loss: 0.6370 - val_accuracy: 0.9355\n",
            "Epoch 10/30\n",
            "391/391 [==============================] - 2s 4ms/step - loss: 0.6134 - accuracy: 0.9406 - val_loss: 0.6111 - val_accuracy: 0.9417\n",
            "Epoch 11/30\n",
            "391/391 [==============================] - 1s 4ms/step - loss: 0.5982 - accuracy: 0.9438 - val_loss: 0.5692 - val_accuracy: 0.9541\n",
            "Epoch 12/30\n",
            "391/391 [==============================] - 1s 3ms/step - loss: 0.5880 - accuracy: 0.9452 - val_loss: 0.5516 - val_accuracy: 0.9574\n",
            "Epoch 13/30\n",
            "391/391 [==============================] - 1s 3ms/step - loss: 0.5768 - accuracy: 0.9469 - val_loss: 0.5636 - val_accuracy: 0.9524\n",
            "Epoch 14/30\n",
            "391/391 [==============================] - 1s 4ms/step - loss: 0.5691 - accuracy: 0.9476 - val_loss: 0.5612 - val_accuracy: 0.9521\n",
            "Epoch 15/30\n",
            "391/391 [==============================] - 1s 4ms/step - loss: 0.5619 - accuracy: 0.9492 - val_loss: 0.5521 - val_accuracy: 0.9567\n",
            "Epoch 16/30\n",
            "391/391 [==============================] - 1s 3ms/step - loss: 0.5548 - accuracy: 0.9501 - val_loss: 0.5429 - val_accuracy: 0.9540\n",
            "Epoch 17/30\n",
            "391/391 [==============================] - 2s 4ms/step - loss: 0.5492 - accuracy: 0.9502 - val_loss: 0.5222 - val_accuracy: 0.9600\n",
            "Epoch 18/30\n",
            "391/391 [==============================] - 1s 4ms/step - loss: 0.5456 - accuracy: 0.9509 - val_loss: 0.5417 - val_accuracy: 0.9553\n",
            "Epoch 19/30\n",
            "391/391 [==============================] - 1s 4ms/step - loss: 0.5374 - accuracy: 0.9519 - val_loss: 0.5550 - val_accuracy: 0.9487\n",
            "Epoch 20/30\n",
            "391/391 [==============================] - 2s 4ms/step - loss: 0.5330 - accuracy: 0.9528 - val_loss: 0.5256 - val_accuracy: 0.9570\n",
            "Epoch 21/30\n",
            "391/391 [==============================] - 2s 4ms/step - loss: 0.5281 - accuracy: 0.9538 - val_loss: 0.5245 - val_accuracy: 0.9580\n",
            "Epoch 22/30\n",
            "391/391 [==============================] - 1s 4ms/step - loss: 0.5233 - accuracy: 0.9545 - val_loss: 0.5042 - val_accuracy: 0.9619\n",
            "Epoch 23/30\n",
            "391/391 [==============================] - 2s 4ms/step - loss: 0.5187 - accuracy: 0.9554 - val_loss: 0.5030 - val_accuracy: 0.9618\n",
            "Epoch 24/30\n",
            "391/391 [==============================] - 1s 4ms/step - loss: 0.5157 - accuracy: 0.9554 - val_loss: 0.4949 - val_accuracy: 0.9663\n",
            "Epoch 25/30\n",
            "391/391 [==============================] - 1s 4ms/step - loss: 0.5134 - accuracy: 0.9559 - val_loss: 0.5023 - val_accuracy: 0.9625\n",
            "Epoch 26/30\n",
            "391/391 [==============================] - 2s 4ms/step - loss: 0.5094 - accuracy: 0.9563 - val_loss: 0.5235 - val_accuracy: 0.9555\n",
            "Epoch 27/30\n",
            "391/391 [==============================] - 2s 4ms/step - loss: 0.5060 - accuracy: 0.9571 - val_loss: 0.4985 - val_accuracy: 0.9595\n",
            "Epoch 28/30\n",
            "391/391 [==============================] - 1s 4ms/step - loss: 0.5039 - accuracy: 0.9572 - val_loss: 0.5032 - val_accuracy: 0.9584\n",
            "Epoch 29/30\n",
            "391/391 [==============================] - 2s 4ms/step - loss: 0.5013 - accuracy: 0.9579 - val_loss: 0.4782 - val_accuracy: 0.9644\n",
            "Epoch 30/30\n",
            "391/391 [==============================] - 2s 4ms/step - loss: 0.4989 - accuracy: 0.9576 - val_loss: 0.5043 - val_accuracy: 0.9573\n"
          ]
        }
      ]
    },
    {
      "cell_type": "code",
      "source": [
        "pinta_perdida_entrenamiento_validacion(historia3)"
      ],
      "metadata": {
        "id": "I8XzPVtyze8y",
        "outputId": "61bb7393-93d6-40a0-a3e2-dfbd7dc804e2",
        "colab": {
          "base_uri": "https://localhost:8080/",
          "height": 295
        }
      },
      "execution_count": 28,
      "outputs": [
        {
          "output_type": "display_data",
          "data": {
            "text/plain": [
              "<Figure size 432x288 with 1 Axes>"
            ],
            "image/png": "[encoded data removed]"
          },
          "metadata": {
            "needs_background": "light"
          }
        }
      ]
    },
    {
      "cell_type": "code",
      "source": [
        "pinta_precision_entrenamiento_validacion(historia3)"
      ],
      "metadata": {
        "id": "nKk7AmM8zi3A",
        "outputId": "b353adab-8815-430a-a0f5-4a52db287d64",
        "colab": {
          "base_uri": "https://localhost:8080/",
          "height": 295
        }
      },
      "execution_count": 29,
      "outputs": [
        {
          "output_type": "display_data",
          "data": {
            "text/plain": [
              "<Figure size 432x288 with 1 Axes>"
            ],
            "image/png": "[encoded data removed]"
          },
          "metadata": {
            "needs_background": "light"
          }
        }
      ]
    },
    {
      "cell_type": "markdown",
      "source": [
        "### Caso 4: Con Droput"
      ],
      "metadata": {
        "id": "OPVcbgcXCFRL"
      }
    },
    {
      "cell_type": "code",
      "source": [
        "network4 = crea_modelo(4)"
      ],
      "metadata": {
        "id": "5MVbUNX11Pgr",
        "outputId": "d90b94ef-1573-4b71-d757-a58ba6c35251",
        "colab": {
          "base_uri": "https://localhost:8080/"
        }
      },
      "execution_count": 30,
      "outputs": [
        {
          "output_type": "stream",
          "name": "stdout",
          "text": [
            "Model: \"sequential_4\"\n",
            "_________________________________________________________________\n",
            " Layer (type)                Output Shape              Param #   \n",
            "=================================================================\n",
            " dense_8 (Dense)             (None, 512)               401920    \n",
            "                                                                 \n",
            " dropout (Dropout)           (None, 512)               0         \n",
            "                                                                 \n",
            " dense_9 (Dense)             (None, 10)                5130      \n",
            "                                                                 \n",
            "=================================================================\n",
            "Total params: 407,050\n",
            "Trainable params: 407,050\n",
            "Non-trainable params: 0\n",
            "_________________________________________________________________\n"
          ]
        }
      ]
    },
    {
      "cell_type": "code",
      "source": [
        "network4 = compila_modelo(network4)"
      ],
      "metadata": {
        "id": "pT-13IKI1UpW"
      },
      "execution_count": 31,
      "outputs": []
    },
    {
      "cell_type": "code",
      "source": [
        "historia4 = entrena_modelo(network4)"
      ],
      "metadata": {
        "id": "kNWidx1S1aCH",
        "outputId": "c53d180c-da36-4c6b-e51d-a4393f6f2263",
        "colab": {
          "base_uri": "https://localhost:8080/"
        }
      },
      "execution_count": 32,
      "outputs": [
        {
          "output_type": "stream",
          "name": "stdout",
          "text": [
            "Epoch 1/30\n",
            "391/391 [==============================] - 2s 4ms/step - loss: 0.3456 - accuracy: 0.8979 - val_loss: 0.1694 - val_accuracy: 0.9527\n",
            "Epoch 2/30\n",
            "391/391 [==============================] - 2s 4ms/step - loss: 0.1698 - accuracy: 0.9495 - val_loss: 0.1165 - val_accuracy: 0.9671\n",
            "Epoch 3/30\n",
            "391/391 [==============================] - 2s 4ms/step - loss: 0.1287 - accuracy: 0.9615 - val_loss: 0.0932 - val_accuracy: 0.9723\n",
            "Epoch 4/30\n",
            "391/391 [==============================] - 2s 4ms/step - loss: 0.1044 - accuracy: 0.9684 - val_loss: 0.0937 - val_accuracy: 0.9749\n",
            "Epoch 5/30\n",
            "391/391 [==============================] - 1s 4ms/step - loss: 0.0909 - accuracy: 0.9728 - val_loss: 0.0823 - val_accuracy: 0.9770\n",
            "Epoch 6/30\n",
            "391/391 [==============================] - 1s 3ms/step - loss: 0.0815 - accuracy: 0.9754 - val_loss: 0.0856 - val_accuracy: 0.9767\n",
            "Epoch 7/30\n",
            "391/391 [==============================] - 2s 4ms/step - loss: 0.0751 - accuracy: 0.9774 - val_loss: 0.0806 - val_accuracy: 0.9786\n",
            "Epoch 8/30\n",
            "391/391 [==============================] - 1s 3ms/step - loss: 0.0671 - accuracy: 0.9798 - val_loss: 0.0778 - val_accuracy: 0.9793\n",
            "Epoch 9/30\n",
            "391/391 [==============================] - 2s 4ms/step - loss: 0.0620 - accuracy: 0.9817 - val_loss: 0.0840 - val_accuracy: 0.9773\n",
            "Epoch 10/30\n",
            "391/391 [==============================] - 1s 4ms/step - loss: 0.0582 - accuracy: 0.9819 - val_loss: 0.0787 - val_accuracy: 0.9809\n",
            "Epoch 11/30\n",
            "391/391 [==============================] - 2s 4ms/step - loss: 0.0565 - accuracy: 0.9830 - val_loss: 0.0775 - val_accuracy: 0.9802\n",
            "Epoch 12/30\n",
            "391/391 [==============================] - 1s 4ms/step - loss: 0.0531 - accuracy: 0.9845 - val_loss: 0.0796 - val_accuracy: 0.9807\n",
            "Epoch 13/30\n",
            "391/391 [==============================] - 1s 3ms/step - loss: 0.0495 - accuracy: 0.9857 - val_loss: 0.0767 - val_accuracy: 0.9812\n",
            "Epoch 14/30\n",
            "391/391 [==============================] - 1s 4ms/step - loss: 0.0456 - accuracy: 0.9863 - val_loss: 0.0746 - val_accuracy: 0.9816\n",
            "Epoch 15/30\n",
            "391/391 [==============================] - 1s 3ms/step - loss: 0.0424 - accuracy: 0.9865 - val_loss: 0.0774 - val_accuracy: 0.9828\n",
            "Epoch 16/30\n",
            "391/391 [==============================] - 1s 3ms/step - loss: 0.0427 - accuracy: 0.9870 - val_loss: 0.0795 - val_accuracy: 0.9823\n",
            "Epoch 17/30\n",
            "391/391 [==============================] - 2s 4ms/step - loss: 0.0395 - accuracy: 0.9882 - val_loss: 0.0817 - val_accuracy: 0.9810\n",
            "Epoch 18/30\n",
            "391/391 [==============================] - 1s 3ms/step - loss: 0.0377 - accuracy: 0.9880 - val_loss: 0.0814 - val_accuracy: 0.9819\n",
            "Epoch 19/30\n",
            "391/391 [==============================] - 1s 4ms/step - loss: 0.0372 - accuracy: 0.9886 - val_loss: 0.0832 - val_accuracy: 0.9820\n",
            "Epoch 20/30\n",
            "391/391 [==============================] - 2s 4ms/step - loss: 0.0361 - accuracy: 0.9885 - val_loss: 0.0917 - val_accuracy: 0.9814\n",
            "Epoch 21/30\n",
            "391/391 [==============================] - 1s 3ms/step - loss: 0.0343 - accuracy: 0.9900 - val_loss: 0.0906 - val_accuracy: 0.9818\n",
            "Epoch 22/30\n",
            "391/391 [==============================] - 1s 4ms/step - loss: 0.0345 - accuracy: 0.9897 - val_loss: 0.0863 - val_accuracy: 0.9821\n",
            "Epoch 23/30\n",
            "391/391 [==============================] - 1s 3ms/step - loss: 0.0297 - accuracy: 0.9905 - val_loss: 0.0881 - val_accuracy: 0.9830\n",
            "Epoch 24/30\n",
            "391/391 [==============================] - 1s 3ms/step - loss: 0.0326 - accuracy: 0.9900 - val_loss: 0.0927 - val_accuracy: 0.9811\n",
            "Epoch 25/30\n",
            "391/391 [==============================] - 2s 4ms/step - loss: 0.0289 - accuracy: 0.9914 - val_loss: 0.0972 - val_accuracy: 0.9811\n",
            "Epoch 26/30\n",
            "391/391 [==============================] - 1s 3ms/step - loss: 0.0301 - accuracy: 0.9913 - val_loss: 0.0942 - val_accuracy: 0.9825\n",
            "Epoch 27/30\n",
            "391/391 [==============================] - 1s 4ms/step - loss: 0.0302 - accuracy: 0.9914 - val_loss: 0.0920 - val_accuracy: 0.9825\n",
            "Epoch 28/30\n",
            "391/391 [==============================] - 1s 4ms/step - loss: 0.0269 - accuracy: 0.9915 - val_loss: 0.0965 - val_accuracy: 0.9819\n",
            "Epoch 29/30\n",
            "391/391 [==============================] - 1s 4ms/step - loss: 0.0275 - accuracy: 0.9920 - val_loss: 0.0943 - val_accuracy: 0.9832\n",
            "Epoch 30/30\n",
            "391/391 [==============================] - 2s 4ms/step - loss: 0.0267 - accuracy: 0.9923 - val_loss: 0.0935 - val_accuracy: 0.9827\n"
          ]
        }
      ]
    },
    {
      "cell_type": "code",
      "source": [
        "pinta_perdida_entrenamiento_validacion(historia4)"
      ],
      "metadata": {
        "id": "R9pI34Yr1gBO",
        "outputId": "1f241986-3916-4095-ff40-3405bc593098",
        "colab": {
          "base_uri": "https://localhost:8080/",
          "height": 295
        }
      },
      "execution_count": 33,
      "outputs": [
        {
          "output_type": "display_data",
          "data": {
            "text/plain": [
              "<Figure size 432x288 with 1 Axes>"
            ],
            "image/png": "[encoded data removed]"
          },
          "metadata": {
            "needs_background": "light"
          }
        }
      ]
    },
    {
      "cell_type": "code",
      "source": [
        "pinta_precision_entrenamiento_validacion(historia4)"
      ],
      "metadata": {
        "id": "EwEIEOKx1lQr",
        "outputId": "cd5fe896-b232-4ea5-a0f9-aa9d43cbdefd",
        "colab": {
          "base_uri": "https://localhost:8080/",
          "height": 295
        }
      },
      "execution_count": 34,
      "outputs": [
        {
          "output_type": "display_data",
          "data": {
            "text/plain": [
              "<Figure size 432x288 with 1 Axes>"
            ],
            "image/png": "[encoded data removed]"
          },
          "metadata": {
            "needs_background": "light"
          }
        }
      ]
    },
    {
      "cell_type": "markdown",
      "source": [
        "### Caso 5: Error de código de regularizador"
      ],
      "metadata": {
        "id": "e6rlKx2nCOgU"
      }
    },
    {
      "cell_type": "code",
      "source": [
        "network5 = crea_modelo(5)"
      ],
      "metadata": {
        "id": "SqGDm8VM1rwR",
        "outputId": "699f41c2-fcdd-4875-fdca-2eb5364bd6e4",
        "colab": {
          "base_uri": "https://localhost:8080/"
        }
      },
      "execution_count": 35,
      "outputs": [
        {
          "output_type": "stream",
          "name": "stdout",
          "text": [
            "Error, no se ha introducido un valor válido\n"
          ]
        }
      ]
    },
    {
      "cell_type": "markdown",
      "source": [
        "### CONCLUSIONES"
      ],
      "metadata": {
        "id": "IklUu29cCcVe"
      }
    },
    {
      "cell_type": "markdown",
      "source": [
        "Caso 0 - Epoch 18/30 - val_accuracy: 0.9828\n",
        "\n",
        "Caso 1 - Epoch 29/30 - val_accuracy: 0.9670\n",
        "\n",
        "Caso 2 - Epoch 30/30 - val_accuracy: 0.9777\n",
        "\n",
        "Caso 3 - Epoch 24/30 - val_accuracy: 0.9663\n",
        "\n",
        "Caso 4 - Epoch 29/30 - val_accuracy: 0.9832\n",
        "\n",
        "\n",
        "Observamos para cada caso la precisión más alta posible, con la época correspondiente que lo ha conseguido. Se observa que el caso 0 y el caso 4 son los que más se aproximan a conseguir la precisión más alta. Pero el caso 4 supera por 0.004, por lo que el regularizador dropout es el que mejor ajusta este caso. \n"
      ],
      "metadata": {
        "id": "cB_OYjjaChzN"
      }
    }
  ]
}