{
  "nbformat": 4,
  "nbformat_minor": 0,
  "metadata": {
    "kernelspec": {
      "display_name": "Python 3",
      "language": "python",
      "name": "python3"
    },
    "language_info": {
      "codemirror_mode": {
        "name": "ipython",
        "version": 3
      },
      "file_extension": ".py",
      "mimetype": "text/x-python",
      "name": "python",
      "nbconvert_exporter": "python",
      "pygments_lexer": "ipython3",
      "version": "3.8.5"
    },
    "colab": {
      "name": "2_1_Un_primer_vistazo_a_una_Red_Neuronal.ipynb",
      "provenance": [],
      "include_colab_link": true
    },
    "accelerator": "GPU",
    "gpuClass": "standard"
  },
  "cells": [
    {
      "cell_type": "markdown",
      "metadata": {
        "id": "view-in-github",
        "colab_type": "text"
      },
      "source": [
        "<a href=\"https://colab.research.google.com/github/PilarAriasVazquez/deeplearning/blob/main/Ejercicio%20Regularizadores.ipynb\" target=\"_parent\"><img src=\"https://colab.research.google.com/assets/colab-badge.svg\" alt=\"Open In Colab\"/></a>"
      ]
    },
    {
      "cell_type": "markdown",
      "metadata": {
        "id": "Ejg7Msp7rbkk"
      },
      "source": [
        "# Ejercicio con regularizadores"
      ]
    },
    {
      "cell_type": "code",
      "source": [
        "%tensorflow_version 2.x\n",
        "import tensorflow as tf\n",
        "from tensorflow import keras\n",
        "print(tf.keras.__version__)\n",
        "print(\"GPU Available:\", tf.config.list_physical_devices('GPU'))\n",
        "print(tf.__version__)\n",
        "from keras.datasets import mnist\n",
        "from keras import models\n",
        "from keras import layers\n",
        "import numpy as np\n",
        "import matplotlib.pyplot as plt\n",
        "from keras import regularizers"
      ],
      "metadata": {
        "id": "BSivef1i532C",
        "outputId": "da925423-662e-45b3-f969-d4b0be1a15c3",
        "colab": {
          "base_uri": "https://localhost:8080/"
        }
      },
      "execution_count": 1,
      "outputs": [
        {
          "output_type": "stream",
          "name": "stdout",
          "text": [
            "Colab only includes TensorFlow 2.x; %tensorflow_version has no effect.\n",
            "2.9.0\n",
            "GPU Available: [PhysicalDevice(name='/physical_device:GPU:0', device_type='GPU')]\n",
            "2.9.2\n"
          ]
        }
      ]
    },
    {
      "cell_type": "code",
      "source": [
        "(train_images, train_labels), (test_images, test_labels) = mnist.load_data()# Descarga los datos de MNIST"
      ],
      "metadata": {
        "id": "3t3R6gU9-wUy",
        "colab": {
          "base_uri": "https://localhost:8080/"
        },
        "outputId": "3f8a5703-9822-4558-dc88-619a96a99903"
      },
      "execution_count": 2,
      "outputs": [
        {
          "output_type": "stream",
          "name": "stdout",
          "text": [
            "Downloading data from https://storage.googleapis.com/tensorflow/tf-keras-datasets/mnist.npz\n",
            "11490434/11490434 [==============================] - 0s 0us/step\n"
          ]
        }
      ]
    },
    {
      "cell_type": "code",
      "source": [
        "# Prepara con reshape y normaliza las imágenes tanto de entrenamiento como de test\n",
        "train_images = train_images.reshape((60000, 28 * 28))\n",
        "train_images = train_images.astype('float32') / 255\n",
        "\n",
        "test_images = test_images.reshape((10000, 28 * 28))\n",
        "test_images = test_images.astype('float32') / 255\n"
      ],
      "metadata": {
        "id": "H6n5NeSz0U1d"
      },
      "execution_count": 3,
      "outputs": []
    },
    {
      "cell_type": "code",
      "source": [
        "# Crear un subconjunto de imágenes de entrenamiento que llamaré\n",
        "# validation_images, para hacer las validaciones, con las 10000 últimas imágenes \n",
        "# del set de datos de entrenamiento (train_images) (obviamente, lo mismo con las\n",
        "# etiquetas correspondientes -> validation_labels). Deja preparadas las 50K \n",
        "# primeras imágenes y etiquetas para entrenamiento (train_images y train_labels)\n",
        "validation_images = train_images[50000:]\n",
        "validation_labels = train_labels[50000:]\n",
        "train_images = train_images[:49999]\n",
        "train_labels = train_labels[:49999]\n"
      ],
      "metadata": {
        "id": "NKoZGyap0XAj"
      },
      "execution_count": 4,
      "outputs": []
    },
    {
      "cell_type": "code",
      "source": [
        "def crea_modelo(regularizador):\n",
        "  # Define una función que recibe un número del 0 al 4 que creará:\n",
        "  # un modelo secuencial con una capa de entrada densa de 512 neuronas\n",
        "  # con activación relu y la capa de salida que le corresponda según el problema\n",
        "  # Ahora, en función del número del regularizador:\n",
        "  # Si es 0, no mete ningún regularizador\n",
        "  # Si es 1, mete un regularizador de tipo l1 y valor 0.001\n",
        "  # Si es 2, mete un regularizador de tipo l2 y valor 0.001\n",
        "  # Si es 3, mete un regularizador de tipo l1_l2 y valor 0.001 para ambos\n",
        "  # Si es 4, mete un Dropout del 50% después de la primera capa densa\n",
        "  # Si es distinto que estos valores, escribe el error y retorna\n",
        "  # Al final, esta función pinta el summary del modelo y retorna el modelo creado\n",
        "  network = models.Sequential()\n",
        "  if regularizador==0:\n",
        "    network.add(layers.Dense(512, activation='relu', input_shape=(28*28,))) \n",
        "  elif regularizador==1:\n",
        "    network.add(layers.Dense(512, kernel_regularizer=regularizers.l1(0.001), activation='relu', input_shape=(28*28,))) \n",
        "  elif regularizador==2:\n",
        "    network.add(layers.Dense(512, kernel_regularizer=regularizers.l2(0.001), activation='relu', input_shape=(28*28,))) \n",
        "  elif regularizador==3:    \n",
        "    network.add(layers.Dense(512, kernel_regularizer=regularizers.l1_l2(l1=0.001, l2=0.001), activation='relu', input_shape=(28*28,))) \n",
        "  elif regularizador==4: \n",
        "    network.add(layers.Dense(512, activation='relu', input_shape=(28*28,))) \n",
        "    network.add(layers.Dropout(0.5))\n",
        "  network.add(layers.Dense(10, activation='softmax'))      \n",
        "  network.summary()\n",
        "  if (regularizador!=0) or (regularizador!=1) or (regularizador!=2) or (regularizador!=3) or (regularizador!=4): \n",
        "    error='Error, no se ha introducido un valor válido'\n",
        "    return error\n",
        "  return network"
      ],
      "metadata": {
        "id": "6JnVLVfsAfkh"
      },
      "execution_count": 62,
      "outputs": []
    },
    {
      "cell_type": "code",
      "source": [
        "def compila_modelo(modelo): \n",
        "  # Define una función que recibe un modelo, lo compila con un optimizador\n",
        "  # 'rmsprop', con una función de pérdida 'sparse_categorical_crossentropy' y\n",
        "  # una métrica de precisión. La función retorna el modelo\n",
        "  modelo.compile(optimizer='rmsprop', \n",
        "                loss='sparse_categorical_crossentropy',\n",
        "                metrics=['accuracy'])\n",
        "  return modelo"
      ],
      "metadata": {
        "id": "qKyJ8KOT0aFt"
      },
      "execution_count": 6,
      "outputs": []
    },
    {
      "cell_type": "code",
      "source": [
        "def entrena_modelo(modelo):\n",
        "  # Define una función que entrena el modelo que se le pasa por parámetro,\n",
        "  # con las imágenes y etiquetas de entrenamiento, con 30 iteraciones y 128\n",
        "  # de tamaño de minilote y con el validation_data creado más arriba.\n",
        "  # Esta función devuelve un history\n",
        "  history= modelo.fit(train_images, train_labels,\n",
        "                       epochs=30, batch_size=128,\n",
        "                       validation_data=(validation_images, validation_labels))\n",
        "  return history"
      ],
      "metadata": {
        "id": "_yQ7SpOt0cBp"
      },
      "execution_count": 7,
      "outputs": []
    },
    {
      "cell_type": "code",
      "source": [
        "def pinta_perdida_entrenamiento_validacion(historia):\n",
        "  history_dict = historia.history\n",
        "  acc = historia.history['accuracy']\n",
        "  val_acc = historia.history['val_accuracy']\n",
        "  loss = historia.history['loss']\n",
        "  val_loss = historia.history['val_loss']\n",
        "  epochs = range(1, len(acc) + 1)\n",
        "  # \"bo\" es para \"punto azun\"\n",
        "  plt.plot(epochs, loss, 'bo', label='Pérdida de Entrenamiento')\n",
        "  # \"b\" es para \"linea continua azul\"\n",
        "  plt.plot(epochs, val_loss, 'b', label='Pérdida de Validación')\n",
        "  plt.title('Pérdida de Entrenamiento y Validación')\n",
        "  plt.xlabel('Epochs')\n",
        "  plt.ylabel('Loss')\n",
        "  plt.legend()\n",
        "  plt.show()"
      ],
      "metadata": {
        "id": "bJrRNc4WwPN2"
      },
      "execution_count": 8,
      "outputs": []
    },
    {
      "cell_type": "code",
      "source": [
        "def pinta_precision_entrenamiento_validacion(historia):\n",
        "  history_dict = historia.history\n",
        "  acc = historia.history['accuracy']\n",
        "  val_acc = historia.history['val_accuracy']\n",
        "  loss = historia.history['loss']\n",
        "  val_loss = historia.history['val_loss']\n",
        "  plt.clf()   # Limpia la figura\n",
        "  acc_values = history_dict['accuracy']\n",
        "  val_acc_values = history_dict['val_accuracy']\n",
        "  epochs = range(1, len(acc) + 1)\n",
        "  plt.plot(epochs, acc, 'bo', label='Precisión de Entrenamiento')\n",
        "  plt.plot(epochs, val_acc, 'b', label='Precisión de Validación')\n",
        "  plt.title('Precisión de Entrenamiento y Valización')\n",
        "  plt.xlabel('Epochs')\n",
        "  plt.ylabel('Loss')\n",
        "  plt.legend()\n",
        "  plt.show()"
      ],
      "metadata": {
        "id": "Mafxp6D3wYQx"
      },
      "execution_count": 9,
      "outputs": []
    },
    {
      "cell_type": "markdown",
      "source": [
        "## Una vez definidas todas las funciones anteriores, ejecuta las siguientes llamadas a dichas funciones y deduce que está pasando y, para este contexto, que es lo que mejor está funcionando"
      ],
      "metadata": {
        "id": "6nnQYysYA3_T"
      }
    },
    {
      "cell_type": "markdown",
      "source": [
        "### Caso 0, sin regularizadores"
      ],
      "metadata": {
        "id": "OrGwDgaFBax4"
      }
    },
    {
      "cell_type": "code",
      "source": [
        "network0 = crea_modelo(0)"
      ],
      "metadata": {
        "id": "uXvhlXg79Zi9",
        "outputId": "27cc7c7d-b0d4-407c-8a4a-79526c3189e3",
        "colab": {
          "base_uri": "https://localhost:8080/"
        }
      },
      "execution_count": 10,
      "outputs": [
        {
          "output_type": "stream",
          "name": "stdout",
          "text": [
            "Model: \"sequential\"\n",
            "_________________________________________________________________\n",
            " Layer (type)                Output Shape              Param #   \n",
            "=================================================================\n",
            " dense (Dense)               (None, 512)               401920    \n",
            "                                                                 \n",
            " dense_1 (Dense)             (None, 10)                5130      \n",
            "                                                                 \n",
            "=================================================================\n",
            "Total params: 407,050\n",
            "Trainable params: 407,050\n",
            "Non-trainable params: 0\n",
            "_________________________________________________________________\n"
          ]
        }
      ]
    },
    {
      "cell_type": "code",
      "source": [
        "network0 = compila_modelo(network0)"
      ],
      "metadata": {
        "id": "Ff0HC3NR9ez8"
      },
      "execution_count": 11,
      "outputs": []
    },
    {
      "cell_type": "code",
      "source": [
        "historia0 = entrena_modelo(network0)"
      ],
      "metadata": {
        "id": "x9zQDOlw9g6V",
        "outputId": "bf50d3b8-1228-4886-e0f9-fef4bb04cede",
        "colab": {
          "base_uri": "https://localhost:8080/"
        }
      },
      "execution_count": 12,
      "outputs": [
        {
          "output_type": "stream",
          "name": "stdout",
          "text": [
            "Epoch 1/30\n",
            "391/391 [==============================] - 4s 4ms/step - loss: 0.2805 - accuracy: 0.9179 - val_loss: 0.1484 - val_accuracy: 0.9567\n",
            "Epoch 2/30\n",
            "391/391 [==============================] - 1s 3ms/step - loss: 0.1164 - accuracy: 0.9654 - val_loss: 0.1124 - val_accuracy: 0.9677\n",
            "Epoch 3/30\n",
            "391/391 [==============================] - 1s 3ms/step - loss: 0.0765 - accuracy: 0.9770 - val_loss: 0.0909 - val_accuracy: 0.9723\n",
            "Epoch 4/30\n",
            "391/391 [==============================] - 1s 3ms/step - loss: 0.0549 - accuracy: 0.9838 - val_loss: 0.0778 - val_accuracy: 0.9760\n",
            "Epoch 5/30\n",
            "391/391 [==============================] - 1s 3ms/step - loss: 0.0412 - accuracy: 0.9880 - val_loss: 0.0787 - val_accuracy: 0.9785\n",
            "Epoch 6/30\n",
            "391/391 [==============================] - 1s 3ms/step - loss: 0.0306 - accuracy: 0.9908 - val_loss: 0.0734 - val_accuracy: 0.9797\n",
            "Epoch 7/30\n",
            "391/391 [==============================] - 1s 4ms/step - loss: 0.0233 - accuracy: 0.9932 - val_loss: 0.0759 - val_accuracy: 0.9800\n",
            "Epoch 8/30\n",
            "391/391 [==============================] - 1s 4ms/step - loss: 0.0178 - accuracy: 0.9948 - val_loss: 0.0707 - val_accuracy: 0.9820\n",
            "Epoch 9/30\n",
            "391/391 [==============================] - 1s 4ms/step - loss: 0.0136 - accuracy: 0.9963 - val_loss: 0.0864 - val_accuracy: 0.9790\n",
            "Epoch 10/30\n",
            "391/391 [==============================] - 1s 3ms/step - loss: 0.0100 - accuracy: 0.9971 - val_loss: 0.0787 - val_accuracy: 0.9813\n",
            "Epoch 11/30\n",
            "391/391 [==============================] - 1s 3ms/step - loss: 0.0077 - accuracy: 0.9979 - val_loss: 0.0831 - val_accuracy: 0.9811\n",
            "Epoch 12/30\n",
            "391/391 [==============================] - 1s 3ms/step - loss: 0.0065 - accuracy: 0.9981 - val_loss: 0.0895 - val_accuracy: 0.9802\n",
            "Epoch 13/30\n",
            "391/391 [==============================] - 1s 3ms/step - loss: 0.0045 - accuracy: 0.9989 - val_loss: 0.0915 - val_accuracy: 0.9799\n",
            "Epoch 14/30\n",
            "391/391 [==============================] - 1s 3ms/step - loss: 0.0039 - accuracy: 0.9988 - val_loss: 0.0946 - val_accuracy: 0.9807\n",
            "Epoch 15/30\n",
            "391/391 [==============================] - 1s 4ms/step - loss: 0.0028 - accuracy: 0.9992 - val_loss: 0.0966 - val_accuracy: 0.9813\n",
            "Epoch 16/30\n",
            "391/391 [==============================] - 1s 4ms/step - loss: 0.0023 - accuracy: 0.9994 - val_loss: 0.0999 - val_accuracy: 0.9792\n",
            "Epoch 17/30\n",
            "391/391 [==============================] - 1s 3ms/step - loss: 0.0018 - accuracy: 0.9995 - val_loss: 0.1098 - val_accuracy: 0.9798\n",
            "Epoch 18/30\n",
            "391/391 [==============================] - 1s 3ms/step - loss: 0.0013 - accuracy: 0.9997 - val_loss: 0.1108 - val_accuracy: 0.9817\n",
            "Epoch 19/30\n",
            "391/391 [==============================] - 1s 4ms/step - loss: 0.0013 - accuracy: 0.9996 - val_loss: 0.1140 - val_accuracy: 0.9814\n",
            "Epoch 20/30\n",
            "391/391 [==============================] - 1s 3ms/step - loss: 7.3199e-04 - accuracy: 0.9998 - val_loss: 0.1166 - val_accuracy: 0.9814\n",
            "Epoch 21/30\n",
            "391/391 [==============================] - 2s 4ms/step - loss: 7.3162e-04 - accuracy: 0.9998 - val_loss: 0.1157 - val_accuracy: 0.9805\n",
            "Epoch 22/30\n",
            "391/391 [==============================] - 1s 4ms/step - loss: 5.9407e-04 - accuracy: 0.9999 - val_loss: 0.1199 - val_accuracy: 0.9803\n",
            "Epoch 23/30\n",
            "391/391 [==============================] - 1s 3ms/step - loss: 3.0906e-04 - accuracy: 0.9999 - val_loss: 0.1214 - val_accuracy: 0.9815\n",
            "Epoch 24/30\n",
            "391/391 [==============================] - 1s 3ms/step - loss: 3.1913e-04 - accuracy: 0.9999 - val_loss: 0.1199 - val_accuracy: 0.9820\n",
            "Epoch 25/30\n",
            "391/391 [==============================] - 1s 3ms/step - loss: 2.9031e-04 - accuracy: 0.9999 - val_loss: 0.1251 - val_accuracy: 0.9824\n",
            "Epoch 26/30\n",
            "391/391 [==============================] - 1s 3ms/step - loss: 2.7630e-04 - accuracy: 1.0000 - val_loss: 0.1300 - val_accuracy: 0.9808\n",
            "Epoch 27/30\n",
            "391/391 [==============================] - 1s 4ms/step - loss: 1.0597e-04 - accuracy: 1.0000 - val_loss: 0.1373 - val_accuracy: 0.9813\n",
            "Epoch 28/30\n",
            "391/391 [==============================] - 1s 3ms/step - loss: 1.8614e-04 - accuracy: 0.9999 - val_loss: 0.1334 - val_accuracy: 0.9822\n",
            "Epoch 29/30\n",
            "391/391 [==============================] - 1s 4ms/step - loss: 9.7841e-05 - accuracy: 1.0000 - val_loss: 0.1315 - val_accuracy: 0.9819\n",
            "Epoch 30/30\n",
            "391/391 [==============================] - 1s 3ms/step - loss: 7.6108e-05 - accuracy: 1.0000 - val_loss: 0.1415 - val_accuracy: 0.9806\n"
          ]
        }
      ]
    },
    {
      "cell_type": "code",
      "source": [
        "pinta_perdida_entrenamiento_validacion(historia0)"
      ],
      "metadata": {
        "id": "OvhDZvS8-0mG",
        "outputId": "79821419-eeed-40c5-db8b-f016653ba676",
        "colab": {
          "base_uri": "https://localhost:8080/",
          "height": 295
        }
      },
      "execution_count": 13,
      "outputs": [
        {
          "output_type": "display_data",
          "data": {
            "text/plain": [
              "<Figure size 432x288 with 1 Axes>"
            ],
            "image/png": "[encoded data removed]"
          },
          "metadata": {
            "needs_background": "light"
          }
        }
      ]
    },
    {
      "cell_type": "code",
      "source": [
        "pinta_precision_entrenamiento_validacion(historia0)"
      ],
      "metadata": {
        "id": "UuiL2CCH_fGN",
        "outputId": "33bf5ba0-f9e5-4a0b-b987-da1ac038398f",
        "colab": {
          "base_uri": "https://localhost:8080/",
          "height": 295
        }
      },
      "execution_count": 14,
      "outputs": [
        {
          "output_type": "display_data",
          "data": {
            "text/plain": [
              "<Figure size 432x288 with 1 Axes>"
            ],
            "image/png": "[encoded data removed]"
          },
          "metadata": {
            "needs_background": "light"
          }
        }
      ]
    },
    {
      "cell_type": "markdown",
      "source": [
        "### Caso 1: Con regularizador l1"
      ],
      "metadata": {
        "id": "pw6iBGO5Bg8J"
      }
    },
    {
      "cell_type": "code",
      "source": [
        "network1 = crea_modelo(1)"
      ],
      "metadata": {
        "id": "D6JPtw5zCz-1",
        "outputId": "5880d7bc-aa97-477c-9f2b-874fbe948f90",
        "colab": {
          "base_uri": "https://localhost:8080/"
        }
      },
      "execution_count": 15,
      "outputs": [
        {
          "output_type": "stream",
          "name": "stdout",
          "text": [
            "Model: \"sequential_1\"\n",
            "_________________________________________________________________\n",
            " Layer (type)                Output Shape              Param #   \n",
            "=================================================================\n",
            " dense_2 (Dense)             (None, 512)               401920    \n",
            "                                                                 \n",
            " dense_3 (Dense)             (None, 10)                5130      \n",
            "                                                                 \n",
            "=================================================================\n",
            "Total params: 407,050\n",
            "Trainable params: 407,050\n",
            "Non-trainable params: 0\n",
            "_________________________________________________________________\n"
          ]
        }
      ]
    },
    {
      "cell_type": "code",
      "source": [
        "network1 = compila_modelo(network1)"
      ],
      "metadata": {
        "id": "zL3Gp7wvFRq3"
      },
      "execution_count": 16,
      "outputs": []
    },
    {
      "cell_type": "code",
      "source": [
        "historia1 = entrena_modelo(network1)"
      ],
      "metadata": {
        "id": "G2FG1Z4xFW72",
        "outputId": "847edf00-1375-4cd3-dc28-ffc3e012a2d9",
        "colab": {
          "base_uri": "https://localhost:8080/"
        }
      },
      "execution_count": 17,
      "outputs": [
        {
          "output_type": "stream",
          "name": "stdout",
          "text": [
            "Epoch 1/30\n",
            "391/391 [==============================] - 2s 4ms/step - loss: 2.1446 - accuracy: 0.8441 - val_loss: 1.0873 - val_accuracy: 0.8528\n",
            "Epoch 2/30\n",
            "391/391 [==============================] - 1s 3ms/step - loss: 0.9596 - accuracy: 0.8808 - val_loss: 0.8881 - val_accuracy: 0.9021\n",
            "Epoch 3/30\n",
            "391/391 [==============================] - 1s 3ms/step - loss: 0.8355 - accuracy: 0.9021 - val_loss: 0.7424 - val_accuracy: 0.9238\n",
            "Epoch 4/30\n",
            "391/391 [==============================] - 1s 3ms/step - loss: 0.7592 - accuracy: 0.9164 - val_loss: 0.6939 - val_accuracy: 0.9361\n",
            "Epoch 5/30\n",
            "391/391 [==============================] - 1s 4ms/step - loss: 0.7074 - accuracy: 0.9252 - val_loss: 0.6553 - val_accuracy: 0.9394\n",
            "Epoch 6/30\n",
            "391/391 [==============================] - 1s 4ms/step - loss: 0.6693 - accuracy: 0.9317 - val_loss: 0.6286 - val_accuracy: 0.9447\n",
            "Epoch 7/30\n",
            "391/391 [==============================] - 1s 3ms/step - loss: 0.6394 - accuracy: 0.9379 - val_loss: 0.6151 - val_accuracy: 0.9453\n",
            "Epoch 8/30\n",
            "391/391 [==============================] - 1s 4ms/step - loss: 0.6154 - accuracy: 0.9410 - val_loss: 0.5652 - val_accuracy: 0.9553\n",
            "Epoch 9/30\n",
            "391/391 [==============================] - 1s 3ms/step - loss: 0.5961 - accuracy: 0.9445 - val_loss: 0.6019 - val_accuracy: 0.9401\n",
            "Epoch 10/30\n",
            "391/391 [==============================] - 1s 4ms/step - loss: 0.5828 - accuracy: 0.9454 - val_loss: 0.5683 - val_accuracy: 0.9489\n",
            "Epoch 11/30\n",
            "391/391 [==============================] - 1s 3ms/step - loss: 0.5689 - accuracy: 0.9491 - val_loss: 0.5632 - val_accuracy: 0.9488\n",
            "Epoch 12/30\n",
            "391/391 [==============================] - 1s 3ms/step - loss: 0.5590 - accuracy: 0.9487 - val_loss: 0.5445 - val_accuracy: 0.9560\n",
            "Epoch 13/30\n",
            "391/391 [==============================] - 1s 3ms/step - loss: 0.5496 - accuracy: 0.9497 - val_loss: 0.5563 - val_accuracy: 0.9486\n",
            "Epoch 14/30\n",
            "391/391 [==============================] - 1s 4ms/step - loss: 0.5412 - accuracy: 0.9516 - val_loss: 0.5148 - val_accuracy: 0.9602\n",
            "Epoch 15/30\n",
            "391/391 [==============================] - 1s 3ms/step - loss: 0.5347 - accuracy: 0.9534 - val_loss: 0.5622 - val_accuracy: 0.9456\n",
            "Epoch 16/30\n",
            "391/391 [==============================] - 1s 3ms/step - loss: 0.5294 - accuracy: 0.9533 - val_loss: 0.5157 - val_accuracy: 0.9602\n",
            "Epoch 17/30\n",
            "391/391 [==============================] - 1s 3ms/step - loss: 0.5230 - accuracy: 0.9552 - val_loss: 0.5117 - val_accuracy: 0.9588\n",
            "Epoch 18/30\n",
            "391/391 [==============================] - 1s 3ms/step - loss: 0.5182 - accuracy: 0.9545 - val_loss: 0.5026 - val_accuracy: 0.9587\n",
            "Epoch 19/30\n",
            "391/391 [==============================] - 2s 5ms/step - loss: 0.5143 - accuracy: 0.9552 - val_loss: 0.4968 - val_accuracy: 0.9599\n",
            "Epoch 20/30\n",
            "391/391 [==============================] - 1s 3ms/step - loss: 0.5101 - accuracy: 0.9561 - val_loss: 0.5012 - val_accuracy: 0.9578\n",
            "Epoch 21/30\n",
            "391/391 [==============================] - 1s 4ms/step - loss: 0.5064 - accuracy: 0.9564 - val_loss: 0.4977 - val_accuracy: 0.9587\n",
            "Epoch 22/30\n",
            "391/391 [==============================] - 1s 3ms/step - loss: 0.5030 - accuracy: 0.9571 - val_loss: 0.5003 - val_accuracy: 0.9596\n",
            "Epoch 23/30\n",
            "391/391 [==============================] - 1s 3ms/step - loss: 0.4988 - accuracy: 0.9581 - val_loss: 0.4830 - val_accuracy: 0.9659\n",
            "Epoch 24/30\n",
            "391/391 [==============================] - 1s 4ms/step - loss: 0.4968 - accuracy: 0.9573 - val_loss: 0.4886 - val_accuracy: 0.9609\n",
            "Epoch 25/30\n",
            "391/391 [==============================] - 2s 6ms/step - loss: 0.4944 - accuracy: 0.9579 - val_loss: 0.5033 - val_accuracy: 0.9549\n",
            "Epoch 26/30\n",
            "391/391 [==============================] - 2s 6ms/step - loss: 0.4913 - accuracy: 0.9576 - val_loss: 0.4871 - val_accuracy: 0.9605\n",
            "Epoch 27/30\n",
            "391/391 [==============================] - 2s 6ms/step - loss: 0.4903 - accuracy: 0.9588 - val_loss: 0.4848 - val_accuracy: 0.9636\n",
            "Epoch 28/30\n",
            "391/391 [==============================] - 2s 6ms/step - loss: 0.4867 - accuracy: 0.9595 - val_loss: 0.4848 - val_accuracy: 0.9616\n",
            "Epoch 29/30\n",
            "391/391 [==============================] - 1s 4ms/step - loss: 0.4845 - accuracy: 0.9594 - val_loss: 0.4880 - val_accuracy: 0.9594\n",
            "Epoch 30/30\n",
            "391/391 [==============================] - 1s 3ms/step - loss: 0.4835 - accuracy: 0.9597 - val_loss: 0.4901 - val_accuracy: 0.9590\n"
          ]
        }
      ]
    },
    {
      "cell_type": "code",
      "source": [
        "pinta_perdida_entrenamiento_validacion(historia1)"
      ],
      "metadata": {
        "id": "Vyv3yFtiFitw",
        "outputId": "7330f68d-ba29-4e55-8025-0f66adf31af8",
        "colab": {
          "base_uri": "https://localhost:8080/",
          "height": 295
        }
      },
      "execution_count": 18,
      "outputs": [
        {
          "output_type": "display_data",
          "data": {
            "text/plain": [
              "<Figure size 432x288 with 1 Axes>"
            ],
            "image/png": "[encoded data removed]"
          },
          "metadata": {
            "needs_background": "light"
          }
        }
      ]
    },
    {
      "cell_type": "code",
      "source": [
        "pinta_precision_entrenamiento_validacion(historia1)"
      ],
      "metadata": {
        "id": "pVUerJsqFo7K",
        "outputId": "a0e22a6d-c408-4476-b347-52fed148eca4",
        "colab": {
          "base_uri": "https://localhost:8080/",
          "height": 295
        }
      },
      "execution_count": 19,
      "outputs": [
        {
          "output_type": "display_data",
          "data": {
            "text/plain": [
              "<Figure size 432x288 with 1 Axes>"
            ],
            "image/png": "[encoded data removed]"
          },
          "metadata": {
            "needs_background": "light"
          }
        }
      ]
    },
    {
      "cell_type": "markdown",
      "source": [
        "### Caso 2: Con regularizador l2"
      ],
      "metadata": {
        "id": "hklwKNlMBzya"
      }
    },
    {
      "cell_type": "code",
      "source": [
        "network2 = crea_modelo(2)"
      ],
      "metadata": {
        "id": "tjIs0FziG5Ja",
        "outputId": "2e2f323a-b50d-4d80-f11b-7d38e580258b",
        "colab": {
          "base_uri": "https://localhost:8080/"
        }
      },
      "execution_count": 20,
      "outputs": [
        {
          "output_type": "stream",
          "name": "stdout",
          "text": [
            "Model: \"sequential_2\"\n",
            "_________________________________________________________________\n",
            " Layer (type)                Output Shape              Param #   \n",
            "=================================================================\n",
            " dense_4 (Dense)             (None, 512)               401920    \n",
            "                                                                 \n",
            " dense_5 (Dense)             (None, 10)                5130      \n",
            "                                                                 \n",
            "=================================================================\n",
            "Total params: 407,050\n",
            "Trainable params: 407,050\n",
            "Non-trainable params: 0\n",
            "_________________________________________________________________\n"
          ]
        }
      ]
    },
    {
      "cell_type": "code",
      "source": [
        "network2 = compila_modelo(network2)"
      ],
      "metadata": {
        "id": "UCdA0K_qyTUq"
      },
      "execution_count": 21,
      "outputs": []
    },
    {
      "cell_type": "code",
      "source": [
        "historia2 = entrena_modelo(network2)"
      ],
      "metadata": {
        "id": "WSuomx5oybpu",
        "outputId": "8625d58b-eed9-4c57-adf3-849338fe69e0",
        "colab": {
          "base_uri": "https://localhost:8080/"
        }
      },
      "execution_count": 22,
      "outputs": [
        {
          "output_type": "stream",
          "name": "stdout",
          "text": [
            "Epoch 1/30\n",
            "391/391 [==============================] - 2s 4ms/step - loss: 0.5295 - accuracy: 0.9121 - val_loss: 0.2983 - val_accuracy: 0.9527\n",
            "Epoch 2/30\n",
            "391/391 [==============================] - 1s 3ms/step - loss: 0.2648 - accuracy: 0.9538 - val_loss: 0.2286 - val_accuracy: 0.9616\n",
            "Epoch 3/30\n",
            "391/391 [==============================] - 2s 4ms/step - loss: 0.2096 - accuracy: 0.9630 - val_loss: 0.1853 - val_accuracy: 0.9702\n",
            "Epoch 4/30\n",
            "391/391 [==============================] - 1s 3ms/step - loss: 0.1858 - accuracy: 0.9682 - val_loss: 0.1815 - val_accuracy: 0.9673\n",
            "Epoch 5/30\n",
            "391/391 [==============================] - 1s 3ms/step - loss: 0.1726 - accuracy: 0.9697 - val_loss: 0.1792 - val_accuracy: 0.9682\n",
            "Epoch 6/30\n",
            "391/391 [==============================] - 1s 4ms/step - loss: 0.1629 - accuracy: 0.9711 - val_loss: 0.1750 - val_accuracy: 0.9685\n",
            "Epoch 7/30\n",
            "391/391 [==============================] - 1s 3ms/step - loss: 0.1560 - accuracy: 0.9732 - val_loss: 0.1658 - val_accuracy: 0.9714\n",
            "Epoch 8/30\n",
            "391/391 [==============================] - 1s 3ms/step - loss: 0.1522 - accuracy: 0.9732 - val_loss: 0.1503 - val_accuracy: 0.9739\n",
            "Epoch 9/30\n",
            "391/391 [==============================] - 2s 4ms/step - loss: 0.1464 - accuracy: 0.9747 - val_loss: 0.1989 - val_accuracy: 0.9585\n",
            "Epoch 10/30\n",
            "391/391 [==============================] - 1s 3ms/step - loss: 0.1409 - accuracy: 0.9760 - val_loss: 0.1794 - val_accuracy: 0.9664\n",
            "Epoch 11/30\n",
            "391/391 [==============================] - 1s 4ms/step - loss: 0.1380 - accuracy: 0.9765 - val_loss: 0.1723 - val_accuracy: 0.9672\n",
            "Epoch 12/30\n",
            "391/391 [==============================] - 1s 3ms/step - loss: 0.1362 - accuracy: 0.9769 - val_loss: 0.1745 - val_accuracy: 0.9647\n",
            "Epoch 13/30\n",
            "391/391 [==============================] - 1s 3ms/step - loss: 0.1329 - accuracy: 0.9778 - val_loss: 0.1544 - val_accuracy: 0.9724\n",
            "Epoch 14/30\n",
            "391/391 [==============================] - 1s 3ms/step - loss: 0.1313 - accuracy: 0.9781 - val_loss: 0.1895 - val_accuracy: 0.9605\n",
            "Epoch 15/30\n",
            "391/391 [==============================] - 1s 3ms/step - loss: 0.1285 - accuracy: 0.9785 - val_loss: 0.1419 - val_accuracy: 0.9759\n",
            "Epoch 16/30\n",
            "391/391 [==============================] - 1s 4ms/step - loss: 0.1265 - accuracy: 0.9783 - val_loss: 0.1436 - val_accuracy: 0.9738\n",
            "Epoch 17/30\n",
            "391/391 [==============================] - 1s 3ms/step - loss: 0.1245 - accuracy: 0.9790 - val_loss: 0.1418 - val_accuracy: 0.9741\n",
            "Epoch 18/30\n",
            "391/391 [==============================] - 1s 4ms/step - loss: 0.1219 - accuracy: 0.9794 - val_loss: 0.1511 - val_accuracy: 0.9721\n",
            "Epoch 19/30\n",
            "391/391 [==============================] - 1s 4ms/step - loss: 0.1213 - accuracy: 0.9801 - val_loss: 0.1395 - val_accuracy: 0.9761\n",
            "Epoch 20/30\n",
            "391/391 [==============================] - 1s 3ms/step - loss: 0.1186 - accuracy: 0.9802 - val_loss: 0.1732 - val_accuracy: 0.9630\n",
            "Epoch 21/30\n",
            "391/391 [==============================] - 1s 3ms/step - loss: 0.1181 - accuracy: 0.9802 - val_loss: 0.1378 - val_accuracy: 0.9768\n",
            "Epoch 22/30\n",
            "391/391 [==============================] - 1s 3ms/step - loss: 0.1156 - accuracy: 0.9810 - val_loss: 0.1333 - val_accuracy: 0.9774\n",
            "Epoch 23/30\n",
            "391/391 [==============================] - 1s 3ms/step - loss: 0.1142 - accuracy: 0.9814 - val_loss: 0.1570 - val_accuracy: 0.9699\n",
            "Epoch 24/30\n",
            "391/391 [==============================] - 1s 3ms/step - loss: 0.1128 - accuracy: 0.9817 - val_loss: 0.1551 - val_accuracy: 0.9676\n",
            "Epoch 25/30\n",
            "391/391 [==============================] - 2s 4ms/step - loss: 0.1113 - accuracy: 0.9817 - val_loss: 0.1419 - val_accuracy: 0.9740\n",
            "Epoch 26/30\n",
            "391/391 [==============================] - 1s 3ms/step - loss: 0.1111 - accuracy: 0.9816 - val_loss: 0.1348 - val_accuracy: 0.9736\n",
            "Epoch 27/30\n",
            "391/391 [==============================] - 1s 4ms/step - loss: 0.1104 - accuracy: 0.9818 - val_loss: 0.1548 - val_accuracy: 0.9696\n",
            "Epoch 28/30\n",
            "391/391 [==============================] - 1s 3ms/step - loss: 0.1083 - accuracy: 0.9822 - val_loss: 0.1296 - val_accuracy: 0.9763\n",
            "Epoch 29/30\n",
            "391/391 [==============================] - 1s 3ms/step - loss: 0.1070 - accuracy: 0.9829 - val_loss: 0.1506 - val_accuracy: 0.9713\n",
            "Epoch 30/30\n",
            "391/391 [==============================] - 1s 3ms/step - loss: 0.1062 - accuracy: 0.9820 - val_loss: 0.1283 - val_accuracy: 0.9773\n"
          ]
        }
      ]
    },
    {
      "cell_type": "code",
      "source": [
        "pinta_perdida_entrenamiento_validacion(historia2)"
      ],
      "metadata": {
        "id": "aXXzm8tpyj6X",
        "outputId": "2fa25751-0da0-47bf-f797-5deb2293c827",
        "colab": {
          "base_uri": "https://localhost:8080/",
          "height": 295
        }
      },
      "execution_count": 23,
      "outputs": [
        {
          "output_type": "display_data",
          "data": {
            "text/plain": [
              "<Figure size 432x288 with 1 Axes>"
            ],
            "image/png": "[encoded data removed]"
          },
          "metadata": {
            "needs_background": "light"
          }
        }
      ]
    },
    {
      "cell_type": "code",
      "source": [
        "pinta_precision_entrenamiento_validacion(historia2)"
      ],
      "metadata": {
        "id": "CLTsg5LTypH9",
        "outputId": "18ba0639-d727-4415-bd04-268b0f4f1adc",
        "colab": {
          "base_uri": "https://localhost:8080/",
          "height": 295
        }
      },
      "execution_count": 24,
      "outputs": [
        {
          "output_type": "display_data",
          "data": {
            "text/plain": [
              "<Figure size 432x288 with 1 Axes>"
            ],
            "image/png": "[encoded data removed]"
          },
          "metadata": {
            "needs_background": "light"
          }
        }
      ]
    },
    {
      "cell_type": "markdown",
      "source": [
        "### Caso 3: Con regularizador l1_l2"
      ],
      "metadata": {
        "id": "692oWz8oB82n"
      }
    },
    {
      "cell_type": "code",
      "source": [
        "network3 = crea_modelo(3)"
      ],
      "metadata": {
        "id": "5fdxkjoKzFcu",
        "outputId": "a8c6ed79-2699-4f05-bdf1-2c5165b19c78",
        "colab": {
          "base_uri": "https://localhost:8080/"
        }
      },
      "execution_count": 25,
      "outputs": [
        {
          "output_type": "stream",
          "name": "stdout",
          "text": [
            "Model: \"sequential_3\"\n",
            "_________________________________________________________________\n",
            " Layer (type)                Output Shape              Param #   \n",
            "=================================================================\n",
            " dense_6 (Dense)             (None, 512)               401920    \n",
            "                                                                 \n",
            " dense_7 (Dense)             (None, 10)                5130      \n",
            "                                                                 \n",
            "=================================================================\n",
            "Total params: 407,050\n",
            "Trainable params: 407,050\n",
            "Non-trainable params: 0\n",
            "_________________________________________________________________\n"
          ]
        }
      ]
    },
    {
      "cell_type": "code",
      "source": [
        "network3 = compila_modelo(network3)"
      ],
      "metadata": {
        "id": "VJzs9A2yzPhx"
      },
      "execution_count": 26,
      "outputs": []
    },
    {
      "cell_type": "code",
      "source": [
        "historia3 = entrena_modelo(network3)"
      ],
      "metadata": {
        "id": "1JCUbcCQzY6E",
        "outputId": "f7f85c3b-3604-452f-fed5-02188ea933b8",
        "colab": {
          "base_uri": "https://localhost:8080/"
        }
      },
      "execution_count": 27,
      "outputs": [
        {
          "output_type": "stream",
          "name": "stdout",
          "text": [
            "Epoch 1/30\n",
            "391/391 [==============================] - 2s 5ms/step - loss: 2.1600 - accuracy: 0.8418 - val_loss: 1.0784 - val_accuracy: 0.8614\n",
            "Epoch 2/30\n",
            "391/391 [==============================] - 1s 3ms/step - loss: 0.9769 - accuracy: 0.8789 - val_loss: 0.9448 - val_accuracy: 0.8814\n",
            "Epoch 3/30\n",
            "391/391 [==============================] - 1s 3ms/step - loss: 0.8564 - accuracy: 0.8983 - val_loss: 0.7799 - val_accuracy: 0.9210\n",
            "Epoch 4/30\n",
            "391/391 [==============================] - 1s 3ms/step - loss: 0.7812 - accuracy: 0.9139 - val_loss: 0.7959 - val_accuracy: 0.9046\n",
            "Epoch 5/30\n",
            "391/391 [==============================] - 1s 4ms/step - loss: 0.7308 - accuracy: 0.9222 - val_loss: 0.6913 - val_accuracy: 0.9338\n",
            "Epoch 6/30\n",
            "391/391 [==============================] - 1s 3ms/step - loss: 0.6960 - accuracy: 0.9277 - val_loss: 0.6616 - val_accuracy: 0.9370\n",
            "Epoch 7/30\n",
            "391/391 [==============================] - 1s 4ms/step - loss: 0.6664 - accuracy: 0.9331 - val_loss: 0.6852 - val_accuracy: 0.9266\n",
            "Epoch 8/30\n",
            "391/391 [==============================] - 2s 4ms/step - loss: 0.6453 - accuracy: 0.9359 - val_loss: 0.6101 - val_accuracy: 0.9486\n",
            "Epoch 9/30\n",
            "391/391 [==============================] - 2s 4ms/step - loss: 0.6262 - accuracy: 0.9401 - val_loss: 0.5967 - val_accuracy: 0.9505\n",
            "Epoch 10/30\n",
            "391/391 [==============================] - 1s 3ms/step - loss: 0.6128 - accuracy: 0.9413 - val_loss: 0.5890 - val_accuracy: 0.9450\n",
            "Epoch 11/30\n",
            "391/391 [==============================] - 1s 3ms/step - loss: 0.5990 - accuracy: 0.9430 - val_loss: 0.5971 - val_accuracy: 0.9456\n",
            "Epoch 12/30\n",
            "391/391 [==============================] - 1s 3ms/step - loss: 0.5875 - accuracy: 0.9449 - val_loss: 0.5740 - val_accuracy: 0.9492\n",
            "Epoch 13/30\n",
            "391/391 [==============================] - 1s 3ms/step - loss: 0.5771 - accuracy: 0.9465 - val_loss: 0.5495 - val_accuracy: 0.9565\n",
            "Epoch 14/30\n",
            "391/391 [==============================] - 1s 3ms/step - loss: 0.5677 - accuracy: 0.9483 - val_loss: 0.5413 - val_accuracy: 0.9591\n",
            "Epoch 15/30\n",
            "391/391 [==============================] - 1s 4ms/step - loss: 0.5607 - accuracy: 0.9478 - val_loss: 0.5284 - val_accuracy: 0.9608\n",
            "Epoch 16/30\n",
            "391/391 [==============================] - 1s 3ms/step - loss: 0.5538 - accuracy: 0.9504 - val_loss: 0.5243 - val_accuracy: 0.9595\n",
            "Epoch 17/30\n",
            "391/391 [==============================] - 1s 3ms/step - loss: 0.5493 - accuracy: 0.9499 - val_loss: 0.5183 - val_accuracy: 0.9612\n",
            "Epoch 18/30\n",
            "391/391 [==============================] - 1s 3ms/step - loss: 0.5423 - accuracy: 0.9522 - val_loss: 0.5465 - val_accuracy: 0.9496\n",
            "Epoch 19/30\n",
            "391/391 [==============================] - 1s 4ms/step - loss: 0.5377 - accuracy: 0.9528 - val_loss: 0.5247 - val_accuracy: 0.9581\n",
            "Epoch 20/30\n",
            "391/391 [==============================] - 1s 3ms/step - loss: 0.5337 - accuracy: 0.9530 - val_loss: 0.5082 - val_accuracy: 0.9618\n",
            "Epoch 21/30\n",
            "391/391 [==============================] - 1s 4ms/step - loss: 0.5285 - accuracy: 0.9531 - val_loss: 0.5022 - val_accuracy: 0.9619\n",
            "Epoch 22/30\n",
            "391/391 [==============================] - 1s 4ms/step - loss: 0.5257 - accuracy: 0.9533 - val_loss: 0.5124 - val_accuracy: 0.9626\n",
            "Epoch 23/30\n",
            "391/391 [==============================] - 1s 3ms/step - loss: 0.5223 - accuracy: 0.9546 - val_loss: 0.4997 - val_accuracy: 0.9606\n",
            "Epoch 24/30\n",
            "391/391 [==============================] - 1s 4ms/step - loss: 0.5190 - accuracy: 0.9556 - val_loss: 0.5011 - val_accuracy: 0.9613\n",
            "Epoch 25/30\n",
            "391/391 [==============================] - 1s 3ms/step - loss: 0.5171 - accuracy: 0.9562 - val_loss: 0.4940 - val_accuracy: 0.9631\n",
            "Epoch 26/30\n",
            "391/391 [==============================] - 2s 4ms/step - loss: 0.5137 - accuracy: 0.9565 - val_loss: 0.5218 - val_accuracy: 0.9526\n",
            "Epoch 27/30\n",
            "391/391 [==============================] - 1s 3ms/step - loss: 0.5112 - accuracy: 0.9561 - val_loss: 0.5306 - val_accuracy: 0.9528\n",
            "Epoch 28/30\n",
            "391/391 [==============================] - 1s 3ms/step - loss: 0.5080 - accuracy: 0.9571 - val_loss: 0.4912 - val_accuracy: 0.9639\n",
            "Epoch 29/30\n",
            "391/391 [==============================] - 2s 4ms/step - loss: 0.5058 - accuracy: 0.9573 - val_loss: 0.5327 - val_accuracy: 0.9477\n",
            "Epoch 30/30\n",
            "391/391 [==============================] - 1s 4ms/step - loss: 0.5033 - accuracy: 0.9573 - val_loss: 0.4883 - val_accuracy: 0.9626\n"
          ]
        }
      ]
    },
    {
      "cell_type": "code",
      "source": [
        "pinta_perdida_entrenamiento_validacion(historia3)"
      ],
      "metadata": {
        "id": "I8XzPVtyze8y",
        "outputId": "958e5c02-5406-4472-d464-04759b48b1d1",
        "colab": {
          "base_uri": "https://localhost:8080/",
          "height": 295
        }
      },
      "execution_count": 28,
      "outputs": [
        {
          "output_type": "display_data",
          "data": {
            "text/plain": [
              "<Figure size 432x288 with 1 Axes>"
            ],
            "image/png": "[encoded data removed]"
          },
          "metadata": {
            "needs_background": "light"
          }
        }
      ]
    },
    {
      "cell_type": "code",
      "source": [
        "pinta_precision_entrenamiento_validacion(historia3)"
      ],
      "metadata": {
        "id": "nKk7AmM8zi3A",
        "outputId": "2b77fbc2-a97f-45a1-c09a-f1400896b10d",
        "colab": {
          "base_uri": "https://localhost:8080/",
          "height": 295
        }
      },
      "execution_count": 29,
      "outputs": [
        {
          "output_type": "display_data",
          "data": {
            "text/plain": [
              "<Figure size 432x288 with 1 Axes>"
            ],
            "image/png": "[encoded data removed]"
          },
          "metadata": {
            "needs_background": "light"
          }
        }
      ]
    },
    {
      "cell_type": "markdown",
      "source": [
        "### Caso 4: Con Droput"
      ],
      "metadata": {
        "id": "OPVcbgcXCFRL"
      }
    },
    {
      "cell_type": "code",
      "source": [
        "network4 = crea_modelo(4)"
      ],
      "metadata": {
        "id": "5MVbUNX11Pgr",
        "outputId": "1c09b82e-8c71-418a-b8bc-ff59f7f0affb",
        "colab": {
          "base_uri": "https://localhost:8080/"
        }
      },
      "execution_count": 30,
      "outputs": [
        {
          "output_type": "stream",
          "name": "stdout",
          "text": [
            "Model: \"sequential_4\"\n",
            "_________________________________________________________________\n",
            " Layer (type)                Output Shape              Param #   \n",
            "=================================================================\n",
            " dense_8 (Dense)             (None, 512)               401920    \n",
            "                                                                 \n",
            " dropout (Dropout)           (None, 512)               0         \n",
            "                                                                 \n",
            " dense_9 (Dense)             (None, 10)                5130      \n",
            "                                                                 \n",
            "=================================================================\n",
            "Total params: 407,050\n",
            "Trainable params: 407,050\n",
            "Non-trainable params: 0\n",
            "_________________________________________________________________\n"
          ]
        }
      ]
    },
    {
      "cell_type": "code",
      "source": [
        "network4 = compila_modelo(network4)"
      ],
      "metadata": {
        "id": "pT-13IKI1UpW"
      },
      "execution_count": 31,
      "outputs": []
    },
    {
      "cell_type": "code",
      "source": [
        "historia4 = entrena_modelo(network4)"
      ],
      "metadata": {
        "id": "kNWidx1S1aCH",
        "outputId": "07a37a72-34fe-4942-e7ce-028b55dc1e62",
        "colab": {
          "base_uri": "https://localhost:8080/"
        }
      },
      "execution_count": 32,
      "outputs": [
        {
          "output_type": "stream",
          "name": "stdout",
          "text": [
            "Epoch 1/30\n",
            "391/391 [==============================] - 2s 4ms/step - loss: 0.3491 - accuracy: 0.8968 - val_loss: 0.1634 - val_accuracy: 0.9542\n",
            "Epoch 2/30\n",
            "391/391 [==============================] - 1s 3ms/step - loss: 0.1693 - accuracy: 0.9485 - val_loss: 0.1128 - val_accuracy: 0.9671\n",
            "Epoch 3/30\n",
            "391/391 [==============================] - 1s 3ms/step - loss: 0.1263 - accuracy: 0.9623 - val_loss: 0.0940 - val_accuracy: 0.9738\n",
            "Epoch 4/30\n",
            "391/391 [==============================] - 1s 3ms/step - loss: 0.1053 - accuracy: 0.9678 - val_loss: 0.0882 - val_accuracy: 0.9732\n",
            "Epoch 5/30\n",
            "391/391 [==============================] - 1s 3ms/step - loss: 0.0921 - accuracy: 0.9726 - val_loss: 0.0869 - val_accuracy: 0.9749\n",
            "Epoch 6/30\n",
            "391/391 [==============================] - 1s 3ms/step - loss: 0.0821 - accuracy: 0.9749 - val_loss: 0.0822 - val_accuracy: 0.9752\n",
            "Epoch 7/30\n",
            "391/391 [==============================] - 1s 3ms/step - loss: 0.0749 - accuracy: 0.9778 - val_loss: 0.0792 - val_accuracy: 0.9786\n",
            "Epoch 8/30\n",
            "391/391 [==============================] - 1s 3ms/step - loss: 0.0682 - accuracy: 0.9791 - val_loss: 0.0790 - val_accuracy: 0.9777\n",
            "Epoch 9/30\n",
            "391/391 [==============================] - 1s 3ms/step - loss: 0.0630 - accuracy: 0.9808 - val_loss: 0.0804 - val_accuracy: 0.9779\n",
            "Epoch 10/30\n",
            "391/391 [==============================] - 1s 4ms/step - loss: 0.0565 - accuracy: 0.9829 - val_loss: 0.0774 - val_accuracy: 0.9797\n",
            "Epoch 11/30\n",
            "391/391 [==============================] - 1s 3ms/step - loss: 0.0564 - accuracy: 0.9826 - val_loss: 0.0769 - val_accuracy: 0.9802\n",
            "Epoch 12/30\n",
            "391/391 [==============================] - 1s 4ms/step - loss: 0.0515 - accuracy: 0.9845 - val_loss: 0.0779 - val_accuracy: 0.9801\n",
            "Epoch 13/30\n",
            "391/391 [==============================] - 1s 4ms/step - loss: 0.0481 - accuracy: 0.9858 - val_loss: 0.0740 - val_accuracy: 0.9811\n",
            "Epoch 14/30\n",
            "391/391 [==============================] - 1s 3ms/step - loss: 0.0471 - accuracy: 0.9856 - val_loss: 0.0780 - val_accuracy: 0.9813\n",
            "Epoch 15/30\n",
            "391/391 [==============================] - 1s 4ms/step - loss: 0.0419 - accuracy: 0.9875 - val_loss: 0.0841 - val_accuracy: 0.9812\n",
            "Epoch 16/30\n",
            "391/391 [==============================] - 1s 3ms/step - loss: 0.0419 - accuracy: 0.9875 - val_loss: 0.0822 - val_accuracy: 0.9808\n",
            "Epoch 17/30\n",
            "391/391 [==============================] - 1s 3ms/step - loss: 0.0402 - accuracy: 0.9879 - val_loss: 0.0821 - val_accuracy: 0.9810\n",
            "Epoch 18/30\n",
            "391/391 [==============================] - 1s 3ms/step - loss: 0.0390 - accuracy: 0.9881 - val_loss: 0.0837 - val_accuracy: 0.9810\n",
            "Epoch 19/30\n",
            "391/391 [==============================] - 1s 3ms/step - loss: 0.0366 - accuracy: 0.9884 - val_loss: 0.0857 - val_accuracy: 0.9812\n",
            "Epoch 20/30\n",
            "391/391 [==============================] - 1s 3ms/step - loss: 0.0355 - accuracy: 0.9893 - val_loss: 0.0818 - val_accuracy: 0.9827\n",
            "Epoch 21/30\n",
            "391/391 [==============================] - 1s 3ms/step - loss: 0.0338 - accuracy: 0.9897 - val_loss: 0.0846 - val_accuracy: 0.9822\n",
            "Epoch 22/30\n",
            "391/391 [==============================] - 1s 3ms/step - loss: 0.0315 - accuracy: 0.9902 - val_loss: 0.0858 - val_accuracy: 0.9825\n",
            "Epoch 23/30\n",
            "391/391 [==============================] - 1s 4ms/step - loss: 0.0322 - accuracy: 0.9906 - val_loss: 0.0861 - val_accuracy: 0.9817\n",
            "Epoch 24/30\n",
            "391/391 [==============================] - 2s 4ms/step - loss: 0.0312 - accuracy: 0.9908 - val_loss: 0.0927 - val_accuracy: 0.9817\n",
            "Epoch 25/30\n",
            "391/391 [==============================] - 1s 4ms/step - loss: 0.0295 - accuracy: 0.9909 - val_loss: 0.0929 - val_accuracy: 0.9805\n",
            "Epoch 26/30\n",
            "391/391 [==============================] - 1s 3ms/step - loss: 0.0286 - accuracy: 0.9907 - val_loss: 0.0895 - val_accuracy: 0.9831\n",
            "Epoch 27/30\n",
            "391/391 [==============================] - 1s 3ms/step - loss: 0.0291 - accuracy: 0.9910 - val_loss: 0.0951 - val_accuracy: 0.9826\n",
            "Epoch 28/30\n",
            "391/391 [==============================] - 1s 4ms/step - loss: 0.0287 - accuracy: 0.9913 - val_loss: 0.0950 - val_accuracy: 0.9828\n",
            "Epoch 29/30\n",
            "391/391 [==============================] - 1s 3ms/step - loss: 0.0255 - accuracy: 0.9923 - val_loss: 0.0900 - val_accuracy: 0.9819\n",
            "Epoch 30/30\n",
            "391/391 [==============================] - 1s 3ms/step - loss: 0.0234 - accuracy: 0.9929 - val_loss: 0.1012 - val_accuracy: 0.9821\n"
          ]
        }
      ]
    },
    {
      "cell_type": "code",
      "source": [
        "pinta_perdida_entrenamiento_validacion(historia4)"
      ],
      "metadata": {
        "id": "R9pI34Yr1gBO",
        "outputId": "e031e53e-d394-4a6e-a3a6-7e2eb716e1f8",
        "colab": {
          "base_uri": "https://localhost:8080/",
          "height": 295
        }
      },
      "execution_count": 33,
      "outputs": [
        {
          "output_type": "display_data",
          "data": {
            "text/plain": [
              "<Figure size 432x288 with 1 Axes>"
            ],
            "image/png": "[encoded data removed]"
          },
          "metadata": {
            "needs_background": "light"
          }
        }
      ]
    },
    {
      "cell_type": "code",
      "source": [
        "pinta_precision_entrenamiento_validacion(historia4)"
      ],
      "metadata": {
        "id": "EwEIEOKx1lQr",
        "outputId": "ce613bab-3eb8-474f-c45a-a6bcbe5c7c61",
        "colab": {
          "base_uri": "https://localhost:8080/",
          "height": 295
        }
      },
      "execution_count": 34,
      "outputs": [
        {
          "output_type": "display_data",
          "data": {
            "text/plain": [
              "<Figure size 432x288 with 1 Axes>"
            ],
            "image/png": "[encoded data removed]"
          },
          "metadata": {
            "needs_background": "light"
          }
        }
      ]
    },
    {
      "cell_type": "markdown",
      "source": [
        "### Caso 5: Error de código de regularizador"
      ],
      "metadata": {
        "id": "e6rlKx2nCOgU"
      }
    },
    {
      "cell_type": "code",
      "source": [
        "network5 = crea_modelo(5)"
      ],
      "metadata": {
        "id": "SqGDm8VM1rwR",
        "outputId": "be28bd8e-400b-415e-d0f3-a3155b521e96",
        "colab": {
          "base_uri": "https://localhost:8080/",
          "height": 311
        }
      },
      "execution_count": 63,
      "outputs": [
        {
          "output_type": "error",
          "ename": "ValueError",
          "evalue": "ignored",
          "traceback": [
            "\u001b[0;31m---------------------------------------------------------------------------\u001b[0m",
            "\u001b[0;31mValueError\u001b[0m                                Traceback (most recent call last)",
            "\u001b[0;32m<ipython-input-63-23863d6b79b8>\u001b[0m in \u001b[0;36m<module>\u001b[0;34m\u001b[0m\n\u001b[0;32m----> 1\u001b[0;31m \u001b[0mnetwork5\u001b[0m \u001b[0;34m=\u001b[0m \u001b[0mcrea_modelo\u001b[0m\u001b[0;34m(\u001b[0m\u001b[0;36m5\u001b[0m\u001b[0;34m)\u001b[0m\u001b[0;34m\u001b[0m\u001b[0;34m\u001b[0m\u001b[0m\n\u001b[0m",
            "\u001b[0;32m<ipython-input-62-0d184df877f8>\u001b[0m in \u001b[0;36mcrea_modelo\u001b[0;34m(regularizador)\u001b[0m\n\u001b[1;32m     24\u001b[0m     \u001b[0mnetwork\u001b[0m\u001b[0;34m.\u001b[0m\u001b[0madd\u001b[0m\u001b[0;34m(\u001b[0m\u001b[0mlayers\u001b[0m\u001b[0;34m.\u001b[0m\u001b[0mDropout\u001b[0m\u001b[0;34m(\u001b[0m\u001b[0;36m0.5\u001b[0m\u001b[0;34m)\u001b[0m\u001b[0;34m)\u001b[0m\u001b[0;34m\u001b[0m\u001b[0;34m\u001b[0m\u001b[0m\n\u001b[1;32m     25\u001b[0m   \u001b[0mnetwork\u001b[0m\u001b[0;34m.\u001b[0m\u001b[0madd\u001b[0m\u001b[0;34m(\u001b[0m\u001b[0mlayers\u001b[0m\u001b[0;34m.\u001b[0m\u001b[0mDense\u001b[0m\u001b[0;34m(\u001b[0m\u001b[0;36m10\u001b[0m\u001b[0;34m,\u001b[0m \u001b[0mactivation\u001b[0m\u001b[0;34m=\u001b[0m\u001b[0;34m'softmax'\u001b[0m\u001b[0;34m)\u001b[0m\u001b[0;34m)\u001b[0m\u001b[0;34m\u001b[0m\u001b[0;34m\u001b[0m\u001b[0m\n\u001b[0;32m---> 26\u001b[0;31m   \u001b[0mnetwork\u001b[0m\u001b[0;34m.\u001b[0m\u001b[0msummary\u001b[0m\u001b[0;34m(\u001b[0m\u001b[0;34m)\u001b[0m\u001b[0;34m\u001b[0m\u001b[0;34m\u001b[0m\u001b[0m\n\u001b[0m\u001b[1;32m     27\u001b[0m   \u001b[0;32mif\u001b[0m \u001b[0;34m(\u001b[0m\u001b[0mregularizador\u001b[0m\u001b[0;34m!=\u001b[0m\u001b[0;36m0\u001b[0m\u001b[0;34m)\u001b[0m \u001b[0;32mor\u001b[0m \u001b[0;34m(\u001b[0m\u001b[0mregularizador\u001b[0m\u001b[0;34m!=\u001b[0m\u001b[0;36m1\u001b[0m\u001b[0;34m)\u001b[0m \u001b[0;32mor\u001b[0m \u001b[0;34m(\u001b[0m\u001b[0mregularizador\u001b[0m\u001b[0;34m!=\u001b[0m\u001b[0;36m2\u001b[0m\u001b[0;34m)\u001b[0m \u001b[0;32mor\u001b[0m \u001b[0;34m(\u001b[0m\u001b[0mregularizador\u001b[0m\u001b[0;34m!=\u001b[0m\u001b[0;36m3\u001b[0m\u001b[0;34m)\u001b[0m \u001b[0;32mor\u001b[0m \u001b[0;34m(\u001b[0m\u001b[0mregularizador\u001b[0m\u001b[0;34m!=\u001b[0m\u001b[0;36m4\u001b[0m\u001b[0;34m)\u001b[0m\u001b[0;34m:\u001b[0m\u001b[0;34m\u001b[0m\u001b[0;34m\u001b[0m\u001b[0m\n\u001b[1;32m     28\u001b[0m     \u001b[0merror\u001b[0m\u001b[0;34m=\u001b[0m\u001b[0;34m'Error, no se ha introducido un valor válido'\u001b[0m\u001b[0;34m\u001b[0m\u001b[0;34m\u001b[0m\u001b[0m\n",
            "\u001b[0;32m/usr/local/lib/python3.7/dist-packages/keras/engine/training.py\u001b[0m in \u001b[0;36msummary\u001b[0;34m(self, line_length, positions, print_fn, expand_nested, show_trainable)\u001b[0m\n\u001b[1;32m   2868\u001b[0m     \u001b[0;32mif\u001b[0m \u001b[0;32mnot\u001b[0m \u001b[0mself\u001b[0m\u001b[0;34m.\u001b[0m\u001b[0mbuilt\u001b[0m\u001b[0;34m:\u001b[0m\u001b[0;34m\u001b[0m\u001b[0;34m\u001b[0m\u001b[0m\n\u001b[1;32m   2869\u001b[0m       raise ValueError(\n\u001b[0;32m-> 2870\u001b[0;31m           \u001b[0;34m'This model has not yet been built. '\u001b[0m\u001b[0;34m\u001b[0m\u001b[0;34m\u001b[0m\u001b[0m\n\u001b[0m\u001b[1;32m   2871\u001b[0m           \u001b[0;34m'Build the model first by calling `build()` or by calling '\u001b[0m\u001b[0;34m\u001b[0m\u001b[0;34m\u001b[0m\u001b[0m\n\u001b[1;32m   2872\u001b[0m           'the model on a batch of data.')\n",
            "\u001b[0;31mValueError\u001b[0m: This model has not yet been built. Build the model first by calling `build()` or by calling the model on a batch of data."
          ]
        }
      ]
    },
    {
      "cell_type": "markdown",
      "source": [
        "### CONCLUSIONES"
      ],
      "metadata": {
        "id": "IklUu29cCcVe"
      }
    },
    {
      "cell_type": "markdown",
      "source": [],
      "metadata": {
        "id": "cB_OYjjaChzN"
      }
    }
  ]
}