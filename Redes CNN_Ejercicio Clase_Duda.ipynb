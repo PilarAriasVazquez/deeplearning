{
  "nbformat": 4,
  "nbformat_minor": 0,
  "metadata": {
    "colab": {
      "provenance": [],
      "include_colab_link": true
    },
    "kernelspec": {
      "name": "python3",
      "display_name": "Python 3"
    },
    "language_info": {
      "name": "python"
    },
    "accelerator": "GPU",
    "gpuClass": "standard"
  },
  "cells": [
    {
      "cell_type": "markdown",
      "metadata": {
        "id": "view-in-github",
        "colab_type": "text"
      },
      "source": [
        "<a href=\"https://colab.research.google.com/github/PilarAriasVazquez/deeplearning/blob/main/Redes%20CNN_Ejercicio%20Clase_Duda.ipynb\" target=\"_parent\"><img src=\"https://colab.research.google.com/assets/colab-badge.svg\" alt=\"Open In Colab\"/></a>"
      ]
    },
    {
      "cell_type": "code",
      "execution_count": 3,
      "metadata": {
        "id": "XpNGzfU8ACaQ",
        "outputId": "586f7053-92f3-4be5-88cb-43aab796186b",
        "colab": {
          "base_uri": "https://localhost:8080/"
        }
      },
      "outputs": [
        {
          "output_type": "stream",
          "name": "stdout",
          "text": [
            "Colab only includes TensorFlow 2.x; %tensorflow_version has no effect.\n",
            "2.9.2\n"
          ]
        }
      ],
      "source": [
        "%tensorflow_version 2.x\n",
        "import tensorflow as tf\n",
        "from tensorflow import keras\n",
        "\n",
        "import numpy as np\n",
        "import matplotlib.pyplot as plt\n",
        "\n",
        "print(tf.__version__)#\n",
        "\n",
        "from tensorflow.keras.models import Sequential\n",
        "from tensorflow.keras.layers import Dense, Flatten, Conv2D, MaxPooling2D\n",
        "from tensorflow.keras.losses import sparse_categorical_crossentropy\n",
        "from tensorflow.keras.optimizers import Adam\n",
        "import matplotlib.pyplot as plt"
      ]
    },
    {
      "cell_type": "code",
      "source": [
        "# Configuración del modelo\n",
        "batch_size = 50\n",
        "img_width, img_height, img_num_channels = (32,32,3) # Forma de la imagen\n",
        "loss_function = sparse_categorical_crossentropy\n",
        "no_classes = 100\n",
        "no_epochs = 100\n",
        "optimizer = Adam()\n",
        "validation_split = 0.2\n",
        "verbosity = 1\n",
        "input_shape = (img_width, img_height, img_num_channels)"
      ],
      "metadata": {
        "id": "cvrXA-JaAF8h"
      },
      "execution_count": 4,
      "outputs": []
    },
    {
      "cell_type": "code",
      "source": [
        "(train_images, train_labels), (test_images, test_labels) = tf.keras.datasets.cifar100.load_data(label_mode=\"fine\")\n",
        "# CIFAR: https://www.cs.toronto.edu/~kriz/cifar.html\n",
        "assert train_images.shape == (50000, 32, 32, 3) # Forma tensor juego imagenes de entrenamiento\n",
        "assert test_images.shape ==(10000, 32, 32, 3) # Forma tensor juego imagenes de test\n",
        "assert train_labels.shape == (50000, 1)# Forma tensor etiquetas de entrenamiento\n",
        "assert test_labels.shape == (10000, 1 )# Forma tensor etiquetas de test"
      ],
      "metadata": {
        "id": "RYgWQWuZAPaH",
        "outputId": "88c39e34-2b4c-465a-b279-1a4e17ea7519",
        "colab": {
          "base_uri": "https://localhost:8080/"
        }
      },
      "execution_count": 5,
      "outputs": [
        {
          "output_type": "stream",
          "name": "stdout",
          "text": [
            "Downloading data from https://www.cs.toronto.edu/~kriz/cifar-100-python.tar.gz\n",
            "169001437/169001437 [==============================] - 6s 0us/step\n"
          ]
        }
      ]
    },
    {
      "cell_type": "code",
      "source": [
        "# Pintamos la tercera imagen de entrenamiento (la número 2 en el array)\n",
        "print(test_images[2])"
      ],
      "metadata": {
        "id": "YOIWl3BhAvoH",
        "outputId": "b1b584af-63df-43b3-d25f-fbb6e8fc6fb3",
        "colab": {
          "base_uri": "https://localhost:8080/"
        }
      },
      "execution_count": 6,
      "outputs": [
        {
          "output_type": "stream",
          "name": "stdout",
          "text": [
            "[[[ 61  90 120]\n",
            "  [ 61  89 119]\n",
            "  [ 67  96 125]\n",
            "  ...\n",
            "  [ 70  93 124]\n",
            "  [ 64  87 118]\n",
            "  [ 64  88 119]]\n",
            "\n",
            " [[ 67  97 127]\n",
            "  [ 78 108 138]\n",
            "  [ 80 109 139]\n",
            "  ...\n",
            "  [ 95 113 142]\n",
            "  [ 83 101 129]\n",
            "  [ 83 102 130]]\n",
            "\n",
            " [[ 64  93 123]\n",
            "  [ 66  95 125]\n",
            "  [ 61  90 120]\n",
            "  ...\n",
            "  [120 134 160]\n",
            "  [109 123 150]\n",
            "  [112 126 152]]\n",
            "\n",
            " ...\n",
            "\n",
            " [[ 84  87  87]\n",
            "  [ 67  59  38]\n",
            "  [ 84  78  33]\n",
            "  ...\n",
            "  [204 167 160]\n",
            "  [235 202 192]\n",
            "  [236 206 193]]\n",
            "\n",
            " [[ 72  64  54]\n",
            "  [ 70  54  30]\n",
            "  [ 84  79  40]\n",
            "  ...\n",
            "  [199 157 152]\n",
            "  [190 150 142]\n",
            "  [196 161 149]]\n",
            "\n",
            " [[ 72  61  47]\n",
            "  [ 76  64  35]\n",
            "  [ 77  74  37]\n",
            "  ...\n",
            "  [227 191 189]\n",
            "  [155 119 115]\n",
            "  [134  98  89]]]\n"
          ]
        }
      ]
    },
    {
      "cell_type": "code",
      "source": [
        "import matplotlib.pyplot as plt\n",
        "digit = train_images[2]\n",
        "plt.imshow(digit, cmap=plt.cm.binary)\n",
        "plt.show()"
      ],
      "metadata": {
        "id": "JJ2YH2INcN33",
        "outputId": "f9d719f3-d49e-4853-93c1-aab15863b3e3",
        "colab": {
          "base_uri": "https://localhost:8080/",
          "height": 266
        }
      },
      "execution_count": 7,
      "outputs": [
        {
          "output_type": "display_data",
          "data": {
            "text/plain": [
              "<Figure size 432x288 with 1 Axes>"
            ],
            "image/png": "[encoded data removed]"
          },
          "metadata": {
            "needs_background": "light"
          }
        }
      ]
    },
    {
      "cell_type": "code",
      "source": [
        "print(train_images[2].shape)\n",
        "print(train_images[2])"
      ],
      "metadata": {
        "id": "CYxj_8S2AwiK",
        "outputId": "5a34c2f6-8393-46cb-b263-c3f90b71e510",
        "colab": {
          "base_uri": "https://localhost:8080/"
        }
      },
      "execution_count": 8,
      "outputs": [
        {
          "output_type": "stream",
          "name": "stdout",
          "text": [
            "(32, 32, 3)\n",
            "[[[250 250 248]\n",
            "  [248 249 243]\n",
            "  [247 248 239]\n",
            "  ...\n",
            "  [250 250 246]\n",
            "  [250 250 246]\n",
            "  [249 250 246]]\n",
            "\n",
            " [[250 251 245]\n",
            "  [248 249 238]\n",
            "  [247 247 234]\n",
            "  ...\n",
            "  [251 251 242]\n",
            "  [251 252 243]\n",
            "  [250 251 243]]\n",
            "\n",
            " [[251 251 244]\n",
            "  [250 248 237]\n",
            "  [250 245 233]\n",
            "  ...\n",
            "  [250 249 238]\n",
            "  [250 249 240]\n",
            "  [250 249 242]]\n",
            "\n",
            " ...\n",
            "\n",
            " [[221 213 191]\n",
            "  [221 206 176]\n",
            "  [225 207 181]\n",
            "  ...\n",
            "  [199 176 134]\n",
            "  [207 193 165]\n",
            "  [233 229 226]]\n",
            "\n",
            " [[225 223 204]\n",
            "  [227 219 196]\n",
            "  [229 216 200]\n",
            "  ...\n",
            "  [204 185 151]\n",
            "  [212 201 180]\n",
            "  [234 232 228]]\n",
            "\n",
            " [[233 233 226]\n",
            "  [234 232 224]\n",
            "  [235 230 225]\n",
            "  ...\n",
            "  [219 209 194]\n",
            "  [223 216 207]\n",
            "  [232 230 228]]]\n"
          ]
        }
      ]
    },
    {
      "cell_type": "code",
      "source": [
        "# Normalizar imágenes de entrenamiento y de test\n",
        "train_images = train_images.reshape((50000, 32, 32, 3))\n",
        "train_images = train_images.astype('float32') / 255\n",
        "\n",
        "test_images = test_images.reshape((10000, 32, 32, 3))\n",
        "test_images = test_images.astype('float32') / 255"
      ],
      "metadata": {
        "id": "K0teESsKA8N7"
      },
      "execution_count": 9,
      "outputs": []
    },
    {
      "cell_type": "code",
      "source": [
        "print (train_images.shape)\n",
        "print (train_labels.shape)"
      ],
      "metadata": {
        "id": "jHxaQNAdBDTQ",
        "outputId": "1ac64043-9f52-4f11-9be7-c1e1ef27f734",
        "colab": {
          "base_uri": "https://localhost:8080/"
        }
      },
      "execution_count": 10,
      "outputs": [
        {
          "output_type": "stream",
          "name": "stdout",
          "text": [
            "(50000, 32, 32, 3)\n",
            "(50000, 1)\n"
          ]
        }
      ]
    },
    {
      "cell_type": "code",
      "source": [
        "# Crear el Modelo de red neuronal CNN con:\n",
        "# stride = 1\n",
        "# ventanas convolucionales de 3x3\n",
        "# ventanas de pooling de 2x2\n",
        "# funciones de activación 'relu'\n",
        "# 3 capas convolucionales con 32, 64 y 28 filtros respectivamente\n",
        "# Aplanamos la última salida y añadimos dos capas densas con función activación \n",
        "# 'relu' de 256 y 128 neuronas cada una.\n",
        "# Tenemos en cuenta el número de clases a clasificar para poner la capa final\n",
        "model = Sequential()\n",
        "model.add(Conv2D(32, (3, 3), strides=(1,1), activation='relu', input_shape=(32, 32, 3)))\n",
        "model.add(MaxPooling2D((2, 2)))\n",
        "\n",
        "\n",
        "model.add(Conv2D(64, (3, 3), strides=(1,1), activation='relu'))\n",
        "model.add(MaxPooling2D((2, 2)))\n",
        "\n",
        "\n",
        "\n",
        "model.add(Conv2D(128, (3, 3),strides=(1,1), activation='relu'))\n",
        "model.add(MaxPooling2D((2, 2)))\n",
        "\n",
        "\n",
        "model.add(Flatten())\n",
        "model.add(keras.layers.Dense(256, activation='relu'))\n",
        "model.add(keras.layers.Dense(128, activation='relu'))\n",
        "model.add(Dense(100, activation='softmax'))\n",
        "\n",
        "model.summary()"
      ],
      "metadata": {
        "id": "AQhtNiJlBGfx",
        "outputId": "d2378eaa-a23c-4426-e28f-99392b115c44",
        "colab": {
          "base_uri": "https://localhost:8080/"
        }
      },
      "execution_count": 11,
      "outputs": [
        {
          "output_type": "stream",
          "name": "stdout",
          "text": [
            "Model: \"sequential\"\n",
            "_________________________________________________________________\n",
            " Layer (type)                Output Shape              Param #   \n",
            "=================================================================\n",
            " conv2d (Conv2D)             (None, 30, 30, 32)        896       \n",
            "                                                                 \n",
            " max_pooling2d (MaxPooling2D  (None, 15, 15, 32)       0         \n",
            " )                                                               \n",
            "                                                                 \n",
            " conv2d_1 (Conv2D)           (None, 13, 13, 64)        18496     \n",
            "                                                                 \n",
            " max_pooling2d_1 (MaxPooling  (None, 6, 6, 64)         0         \n",
            " 2D)                                                             \n",
            "                                                                 \n",
            " conv2d_2 (Conv2D)           (None, 4, 4, 128)         73856     \n",
            "                                                                 \n",
            " max_pooling2d_2 (MaxPooling  (None, 2, 2, 128)        0         \n",
            " 2D)                                                             \n",
            "                                                                 \n",
            " flatten (Flatten)           (None, 512)               0         \n",
            "                                                                 \n",
            " dense (Dense)               (None, 256)               131328    \n",
            "                                                                 \n",
            " dense_1 (Dense)             (None, 128)               32896     \n",
            "                                                                 \n",
            " dense_2 (Dense)             (None, 100)               12900     \n",
            "                                                                 \n",
            "=================================================================\n",
            "Total params: 270,372\n",
            "Trainable params: 270,372\n",
            "Non-trainable params: 0\n",
            "_________________________________________________________________\n"
          ]
        }
      ]
    },
    {
      "cell_type": "code",
      "source": [
        "# Compilamos el modelo con métrica precisión\n",
        "model.compile(loss=loss_function,\n",
        "              optimizer=optimizer,\n",
        "              metrics=['accuracy'])\n",
        "\n",
        "history=model.fit(train_images, train_labels,\n",
        "          batch_size=batch_size,\n",
        "          epochs=no_epochs,\n",
        "          verbose=verbosity, \n",
        "          validation_split=validation_split)\n",
        "\n",
        "test_loss, test_acc = model.evaluate(test_images, test_labels)\n",
        "\n",
        "print('Test accuracy:', test_acc)"
      ],
      "metadata": {
        "id": "t631tbjkCFRr",
        "outputId": "8bb5b5ec-d902-437f-ad1d-b1989238dc65",
        "colab": {
          "base_uri": "https://localhost:8080/"
        }
      },
      "execution_count": 16,
      "outputs": [
        {
          "output_type": "stream",
          "name": "stdout",
          "text": [
            "Epoch 1/100\n",
            "800/800 [==============================] - 4s 5ms/step - loss: 0.3230 - accuracy: 0.9028 - val_loss: 10.6454 - val_accuracy: 0.2897\n",
            "Epoch 2/100\n",
            "800/800 [==============================] - 4s 4ms/step - loss: 0.3358 - accuracy: 0.8993 - val_loss: 10.6315 - val_accuracy: 0.2991\n",
            "Epoch 3/100\n",
            "800/800 [==============================] - 3s 4ms/step - loss: 0.3411 - accuracy: 0.8973 - val_loss: 10.7608 - val_accuracy: 0.2980\n",
            "Epoch 4/100\n",
            "800/800 [==============================] - 4s 5ms/step - loss: 0.3386 - accuracy: 0.8988 - val_loss: 10.6730 - val_accuracy: 0.2992\n",
            "Epoch 5/100\n",
            "800/800 [==============================] - 4s 5ms/step - loss: 0.3117 - accuracy: 0.9070 - val_loss: 10.8160 - val_accuracy: 0.2963\n",
            "Epoch 6/100\n",
            "800/800 [==============================] - 4s 4ms/step - loss: 0.3451 - accuracy: 0.8979 - val_loss: 10.8771 - val_accuracy: 0.2955\n",
            "Epoch 7/100\n",
            "800/800 [==============================] - 3s 4ms/step - loss: 0.3114 - accuracy: 0.9061 - val_loss: 10.6719 - val_accuracy: 0.2957\n",
            "Epoch 8/100\n",
            "800/800 [==============================] - 4s 4ms/step - loss: 0.3064 - accuracy: 0.9108 - val_loss: 11.0467 - val_accuracy: 0.2913\n",
            "Epoch 9/100\n",
            "800/800 [==============================] - 4s 4ms/step - loss: 0.3522 - accuracy: 0.8975 - val_loss: 11.2204 - val_accuracy: 0.2957\n",
            "Epoch 10/100\n",
            "800/800 [==============================] - 4s 5ms/step - loss: 0.3068 - accuracy: 0.9079 - val_loss: 11.2541 - val_accuracy: 0.2948\n",
            "Epoch 11/100\n",
            "800/800 [==============================] - 4s 4ms/step - loss: 0.3409 - accuracy: 0.8992 - val_loss: 11.0151 - val_accuracy: 0.2920\n",
            "Epoch 12/100\n",
            "800/800 [==============================] - 3s 4ms/step - loss: 0.3270 - accuracy: 0.9031 - val_loss: 11.2142 - val_accuracy: 0.2911\n",
            "Epoch 13/100\n",
            "800/800 [==============================] - 5s 6ms/step - loss: 0.3016 - accuracy: 0.9100 - val_loss: 11.1442 - val_accuracy: 0.2940\n",
            "Epoch 14/100\n",
            "800/800 [==============================] - 4s 5ms/step - loss: 0.3203 - accuracy: 0.9045 - val_loss: 11.1019 - val_accuracy: 0.3006\n",
            "Epoch 15/100\n",
            "800/800 [==============================] - 3s 4ms/step - loss: 0.3547 - accuracy: 0.8977 - val_loss: 11.3805 - val_accuracy: 0.3004\n",
            "Epoch 16/100\n",
            "800/800 [==============================] - 4s 5ms/step - loss: 0.3222 - accuracy: 0.9070 - val_loss: 11.5165 - val_accuracy: 0.2956\n",
            "Epoch 17/100\n",
            "800/800 [==============================] - 3s 4ms/step - loss: 0.2948 - accuracy: 0.9130 - val_loss: 11.3205 - val_accuracy: 0.2954\n",
            "Epoch 18/100\n",
            "800/800 [==============================] - 3s 4ms/step - loss: 0.3334 - accuracy: 0.9042 - val_loss: 11.7074 - val_accuracy: 0.2934\n",
            "Epoch 19/100\n",
            "800/800 [==============================] - 4s 5ms/step - loss: 0.3187 - accuracy: 0.9062 - val_loss: 11.7266 - val_accuracy: 0.2909\n",
            "Epoch 20/100\n",
            "800/800 [==============================] - 4s 4ms/step - loss: 0.3309 - accuracy: 0.9035 - val_loss: 11.7249 - val_accuracy: 0.2966\n",
            "Epoch 21/100\n",
            "800/800 [==============================] - 4s 5ms/step - loss: 0.2875 - accuracy: 0.9132 - val_loss: 12.1175 - val_accuracy: 0.2957\n",
            "Epoch 22/100\n",
            "800/800 [==============================] - 5s 6ms/step - loss: 0.3110 - accuracy: 0.9084 - val_loss: 11.8370 - val_accuracy: 0.2945\n",
            "Epoch 23/100\n",
            "800/800 [==============================] - 4s 4ms/step - loss: 0.3397 - accuracy: 0.9051 - val_loss: 11.8740 - val_accuracy: 0.2906\n",
            "Epoch 24/100\n",
            "800/800 [==============================] - 4s 5ms/step - loss: 0.3201 - accuracy: 0.9083 - val_loss: 11.8757 - val_accuracy: 0.2951\n",
            "Epoch 25/100\n",
            "800/800 [==============================] - 4s 5ms/step - loss: 0.3072 - accuracy: 0.9099 - val_loss: 12.2212 - val_accuracy: 0.2907\n",
            "Epoch 26/100\n",
            "800/800 [==============================] - 4s 5ms/step - loss: 0.3108 - accuracy: 0.9106 - val_loss: 11.7189 - val_accuracy: 0.3012\n",
            "Epoch 27/100\n",
            "800/800 [==============================] - 4s 4ms/step - loss: 0.3206 - accuracy: 0.9078 - val_loss: 12.1593 - val_accuracy: 0.2983\n",
            "Epoch 28/100\n",
            "800/800 [==============================] - 4s 5ms/step - loss: 0.3218 - accuracy: 0.9083 - val_loss: 12.4177 - val_accuracy: 0.2891\n",
            "Epoch 29/100\n",
            "800/800 [==============================] - 4s 4ms/step - loss: 0.3291 - accuracy: 0.9081 - val_loss: 11.9946 - val_accuracy: 0.2951\n",
            "Epoch 30/100\n",
            "800/800 [==============================] - 4s 5ms/step - loss: 0.3012 - accuracy: 0.9120 - val_loss: 12.1428 - val_accuracy: 0.2915\n",
            "Epoch 31/100\n",
            "800/800 [==============================] - 4s 5ms/step - loss: 0.3487 - accuracy: 0.9008 - val_loss: 12.4113 - val_accuracy: 0.2889\n",
            "Epoch 32/100\n",
            "800/800 [==============================] - 4s 4ms/step - loss: 0.2793 - accuracy: 0.9178 - val_loss: 12.3753 - val_accuracy: 0.2873\n",
            "Epoch 33/100\n",
            "800/800 [==============================] - 4s 5ms/step - loss: 0.3010 - accuracy: 0.9138 - val_loss: 12.2505 - val_accuracy: 0.2925\n",
            "Epoch 34/100\n",
            "800/800 [==============================] - 4s 5ms/step - loss: 0.3081 - accuracy: 0.9122 - val_loss: 12.0115 - val_accuracy: 0.2901\n",
            "Epoch 35/100\n",
            "800/800 [==============================] - 4s 5ms/step - loss: 0.3302 - accuracy: 0.9074 - val_loss: 12.2403 - val_accuracy: 0.2930\n",
            "Epoch 36/100\n",
            "800/800 [==============================] - 4s 5ms/step - loss: 0.2939 - accuracy: 0.9172 - val_loss: 12.4858 - val_accuracy: 0.2863\n",
            "Epoch 37/100\n",
            "800/800 [==============================] - 4s 5ms/step - loss: 0.3278 - accuracy: 0.9092 - val_loss: 12.1407 - val_accuracy: 0.2867\n",
            "Epoch 38/100\n",
            "800/800 [==============================] - 4s 4ms/step - loss: 0.3252 - accuracy: 0.9095 - val_loss: 12.3592 - val_accuracy: 0.2872\n",
            "Epoch 39/100\n",
            "800/800 [==============================] - 4s 5ms/step - loss: 0.3033 - accuracy: 0.9139 - val_loss: 12.7264 - val_accuracy: 0.2907\n",
            "Epoch 40/100\n",
            "800/800 [==============================] - 4s 5ms/step - loss: 0.3255 - accuracy: 0.9111 - val_loss: 12.4807 - val_accuracy: 0.2885\n",
            "Epoch 41/100\n",
            "800/800 [==============================] - 4s 5ms/step - loss: 0.3070 - accuracy: 0.9129 - val_loss: 12.9101 - val_accuracy: 0.2854\n",
            "Epoch 42/100\n",
            "800/800 [==============================] - 4s 5ms/step - loss: 0.3193 - accuracy: 0.9106 - val_loss: 12.9393 - val_accuracy: 0.2947\n",
            "Epoch 43/100\n",
            "800/800 [==============================] - 4s 5ms/step - loss: 0.2846 - accuracy: 0.9183 - val_loss: 12.7685 - val_accuracy: 0.2943\n",
            "Epoch 44/100\n",
            "800/800 [==============================] - 4s 5ms/step - loss: 0.3167 - accuracy: 0.9115 - val_loss: 12.8205 - val_accuracy: 0.2922\n",
            "Epoch 45/100\n",
            "800/800 [==============================] - 4s 5ms/step - loss: 0.3199 - accuracy: 0.9093 - val_loss: 12.9986 - val_accuracy: 0.2854\n",
            "Epoch 46/100\n",
            "800/800 [==============================] - 4s 4ms/step - loss: 0.3190 - accuracy: 0.9126 - val_loss: 12.5971 - val_accuracy: 0.2883\n",
            "Epoch 47/100\n",
            "800/800 [==============================] - 4s 4ms/step - loss: 0.2820 - accuracy: 0.9188 - val_loss: 13.1574 - val_accuracy: 0.2889\n",
            "Epoch 48/100\n",
            "800/800 [==============================] - 4s 5ms/step - loss: 0.3136 - accuracy: 0.9117 - val_loss: 13.2451 - val_accuracy: 0.2926\n",
            "Epoch 49/100\n",
            "800/800 [==============================] - 4s 5ms/step - loss: 0.3089 - accuracy: 0.9143 - val_loss: 12.9801 - val_accuracy: 0.2932\n",
            "Epoch 50/100\n",
            "800/800 [==============================] - 4s 5ms/step - loss: 0.3106 - accuracy: 0.9143 - val_loss: 12.9899 - val_accuracy: 0.2932\n",
            "Epoch 51/100\n",
            "800/800 [==============================] - 4s 5ms/step - loss: 0.3067 - accuracy: 0.9161 - val_loss: 13.1197 - val_accuracy: 0.2911\n",
            "Epoch 52/100\n",
            "800/800 [==============================] - 4s 5ms/step - loss: 0.3064 - accuracy: 0.9169 - val_loss: 13.5720 - val_accuracy: 0.2898\n",
            "Epoch 53/100\n",
            "800/800 [==============================] - 4s 5ms/step - loss: 0.2975 - accuracy: 0.9178 - val_loss: 13.1691 - val_accuracy: 0.2873\n",
            "Epoch 54/100\n",
            "800/800 [==============================] - 4s 5ms/step - loss: 0.3174 - accuracy: 0.9141 - val_loss: 13.2818 - val_accuracy: 0.2840\n",
            "Epoch 55/100\n",
            "800/800 [==============================] - 4s 5ms/step - loss: 0.3254 - accuracy: 0.9116 - val_loss: 12.8572 - val_accuracy: 0.2896\n",
            "Epoch 56/100\n",
            "800/800 [==============================] - 4s 5ms/step - loss: 0.2925 - accuracy: 0.9172 - val_loss: 13.3487 - val_accuracy: 0.2892\n",
            "Epoch 57/100\n",
            "800/800 [==============================] - 4s 4ms/step - loss: 0.2935 - accuracy: 0.9199 - val_loss: 13.2534 - val_accuracy: 0.2893\n",
            "Epoch 58/100\n",
            "800/800 [==============================] - 4s 5ms/step - loss: 0.3056 - accuracy: 0.9133 - val_loss: 12.9533 - val_accuracy: 0.2917\n",
            "Epoch 59/100\n",
            "800/800 [==============================] - 4s 5ms/step - loss: 0.3226 - accuracy: 0.9119 - val_loss: 13.4412 - val_accuracy: 0.2829\n",
            "Epoch 60/100\n",
            "800/800 [==============================] - 4s 5ms/step - loss: 0.2965 - accuracy: 0.9184 - val_loss: 13.6143 - val_accuracy: 0.2915\n",
            "Epoch 61/100\n",
            "800/800 [==============================] - 4s 5ms/step - loss: 0.3006 - accuracy: 0.9177 - val_loss: 13.4138 - val_accuracy: 0.2857\n",
            "Epoch 62/100\n",
            "800/800 [==============================] - 4s 4ms/step - loss: 0.2977 - accuracy: 0.9198 - val_loss: 13.3913 - val_accuracy: 0.2959\n",
            "Epoch 63/100\n",
            "800/800 [==============================] - 4s 5ms/step - loss: 0.3135 - accuracy: 0.9153 - val_loss: 13.8193 - val_accuracy: 0.2949\n",
            "Epoch 64/100\n",
            "800/800 [==============================] - 4s 5ms/step - loss: 0.3386 - accuracy: 0.9115 - val_loss: 13.6109 - val_accuracy: 0.2966\n",
            "Epoch 65/100\n",
            "800/800 [==============================] - 4s 5ms/step - loss: 0.2947 - accuracy: 0.9191 - val_loss: 13.6880 - val_accuracy: 0.2940\n",
            "Epoch 66/100\n",
            "800/800 [==============================] - 4s 5ms/step - loss: 0.2961 - accuracy: 0.9195 - val_loss: 13.4514 - val_accuracy: 0.2872\n",
            "Epoch 67/100\n",
            "800/800 [==============================] - 4s 5ms/step - loss: 0.3060 - accuracy: 0.9172 - val_loss: 13.7223 - val_accuracy: 0.2928\n",
            "Epoch 68/100\n",
            "800/800 [==============================] - 4s 4ms/step - loss: 0.3189 - accuracy: 0.9140 - val_loss: 13.8634 - val_accuracy: 0.2924\n",
            "Epoch 69/100\n",
            "800/800 [==============================] - 4s 4ms/step - loss: 0.2923 - accuracy: 0.9225 - val_loss: 13.5976 - val_accuracy: 0.2883\n",
            "Epoch 70/100\n",
            "800/800 [==============================] - 4s 5ms/step - loss: 0.3081 - accuracy: 0.9164 - val_loss: 13.6958 - val_accuracy: 0.2890\n",
            "Epoch 71/100\n",
            "800/800 [==============================] - 4s 5ms/step - loss: 0.3155 - accuracy: 0.9159 - val_loss: 13.6181 - val_accuracy: 0.2927\n",
            "Epoch 72/100\n",
            "800/800 [==============================] - 3s 4ms/step - loss: 0.2847 - accuracy: 0.9228 - val_loss: 14.2570 - val_accuracy: 0.2922\n",
            "Epoch 73/100\n",
            "800/800 [==============================] - 4s 4ms/step - loss: 0.3009 - accuracy: 0.9178 - val_loss: 14.0953 - val_accuracy: 0.2892\n",
            "Epoch 74/100\n",
            "800/800 [==============================] - 4s 4ms/step - loss: 0.3003 - accuracy: 0.9195 - val_loss: 13.9628 - val_accuracy: 0.2916\n",
            "Epoch 75/100\n",
            "800/800 [==============================] - 4s 4ms/step - loss: 0.3163 - accuracy: 0.9169 - val_loss: 14.0858 - val_accuracy: 0.2945\n",
            "Epoch 76/100\n",
            "800/800 [==============================] - 4s 5ms/step - loss: 0.2880 - accuracy: 0.9220 - val_loss: 14.0003 - val_accuracy: 0.2966\n",
            "Epoch 77/100\n",
            "800/800 [==============================] - 4s 5ms/step - loss: 0.3081 - accuracy: 0.9179 - val_loss: 13.9837 - val_accuracy: 0.2954\n",
            "Epoch 78/100\n",
            "800/800 [==============================] - 4s 5ms/step - loss: 0.3281 - accuracy: 0.9143 - val_loss: 14.0811 - val_accuracy: 0.2903\n",
            "Epoch 79/100\n",
            "800/800 [==============================] - 4s 5ms/step - loss: 0.3051 - accuracy: 0.9203 - val_loss: 13.9944 - val_accuracy: 0.2875\n",
            "Epoch 80/100\n",
            "800/800 [==============================] - 4s 4ms/step - loss: 0.2821 - accuracy: 0.9253 - val_loss: 14.5601 - val_accuracy: 0.2875\n",
            "Epoch 81/100\n",
            "800/800 [==============================] - 4s 4ms/step - loss: 0.3116 - accuracy: 0.9184 - val_loss: 14.2690 - val_accuracy: 0.2920\n",
            "Epoch 82/100\n",
            "800/800 [==============================] - 4s 4ms/step - loss: 0.3185 - accuracy: 0.9161 - val_loss: 13.7949 - val_accuracy: 0.2934\n",
            "Epoch 83/100\n",
            "800/800 [==============================] - 4s 5ms/step - loss: 0.2997 - accuracy: 0.9217 - val_loss: 14.3674 - val_accuracy: 0.2851\n",
            "Epoch 84/100\n",
            "800/800 [==============================] - 4s 5ms/step - loss: 0.2872 - accuracy: 0.9240 - val_loss: 14.3455 - val_accuracy: 0.2917\n",
            "Epoch 85/100\n",
            "800/800 [==============================] - 4s 5ms/step - loss: 0.3318 - accuracy: 0.9157 - val_loss: 14.7972 - val_accuracy: 0.2853\n",
            "Epoch 86/100\n",
            "800/800 [==============================] - 4s 5ms/step - loss: 0.2739 - accuracy: 0.9252 - val_loss: 14.5559 - val_accuracy: 0.2914\n",
            "Epoch 87/100\n",
            "800/800 [==============================] - 4s 5ms/step - loss: 0.3228 - accuracy: 0.9171 - val_loss: 14.3628 - val_accuracy: 0.2861\n",
            "Epoch 88/100\n",
            "800/800 [==============================] - 4s 5ms/step - loss: 0.3168 - accuracy: 0.9190 - val_loss: 14.3068 - val_accuracy: 0.2852\n",
            "Epoch 89/100\n",
            "800/800 [==============================] - 4s 4ms/step - loss: 0.2924 - accuracy: 0.9241 - val_loss: 14.6451 - val_accuracy: 0.2901\n",
            "Epoch 90/100\n",
            "800/800 [==============================] - 4s 5ms/step - loss: 0.3115 - accuracy: 0.9166 - val_loss: 14.2524 - val_accuracy: 0.2895\n",
            "Epoch 91/100\n",
            "800/800 [==============================] - 4s 5ms/step - loss: 0.3024 - accuracy: 0.9208 - val_loss: 14.8622 - val_accuracy: 0.2891\n",
            "Epoch 92/100\n",
            "800/800 [==============================] - 4s 5ms/step - loss: 0.3258 - accuracy: 0.9155 - val_loss: 14.5136 - val_accuracy: 0.2871\n",
            "Epoch 93/100\n",
            "800/800 [==============================] - 4s 5ms/step - loss: 0.2884 - accuracy: 0.9208 - val_loss: 14.7790 - val_accuracy: 0.2831\n",
            "Epoch 94/100\n",
            "800/800 [==============================] - 4s 4ms/step - loss: 0.2589 - accuracy: 0.9308 - val_loss: 15.3833 - val_accuracy: 0.2926\n",
            "Epoch 95/100\n",
            "800/800 [==============================] - 4s 5ms/step - loss: 0.3156 - accuracy: 0.9196 - val_loss: 14.4279 - val_accuracy: 0.2948\n",
            "Epoch 96/100\n",
            "800/800 [==============================] - 4s 5ms/step - loss: 0.3180 - accuracy: 0.9184 - val_loss: 14.8582 - val_accuracy: 0.2926\n",
            "Epoch 97/100\n",
            "800/800 [==============================] - 4s 5ms/step - loss: 0.3058 - accuracy: 0.9229 - val_loss: 14.6631 - val_accuracy: 0.2881\n",
            "Epoch 98/100\n",
            "800/800 [==============================] - 4s 4ms/step - loss: 0.2997 - accuracy: 0.9224 - val_loss: 14.6330 - val_accuracy: 0.2957\n",
            "Epoch 99/100\n",
            "800/800 [==============================] - 4s 4ms/step - loss: 0.3132 - accuracy: 0.9199 - val_loss: 15.0512 - val_accuracy: 0.2980\n",
            "Epoch 100/100\n",
            "800/800 [==============================] - 4s 5ms/step - loss: 0.3178 - accuracy: 0.9183 - val_loss: 14.5454 - val_accuracy: 0.2927\n",
            "313/313 [==============================] - 1s 3ms/step - loss: 14.2263 - accuracy: 0.3004\n",
            "Test accuracy: 0.3003999888896942\n"
          ]
        }
      ]
    },
    {
      "cell_type": "code",
      "source": [
        "# Ejecutamos el entrenamiento con el validation_split explicitado anteriormente\n"
      ],
      "metadata": {
        "id": "SQMB2DMRCkcw"
      },
      "execution_count": 13,
      "outputs": []
    },
    {
      "cell_type": "code",
      "source": [
        "# Generamos las métricas de generalización\n",
        "score = model.evaluate(train_images, train_labels, verbose=0)\n",
        "print(f'Test loss: {score[0]} / Test accuracy: {score[1]}')\n",
        "\n",
        "# Visualizamos history\n",
        "# Pintamos history: Pérdida\n",
        "plt.plot(history.history['val_loss'])\n",
        "plt.title('Validation loss history')\n",
        "plt.ylabel('Loss value')\n",
        "plt.xlabel('No. epoch')\n",
        "plt.show()\n",
        "\n",
        "# Pintamos history: Precisión\n",
        "plt.plot(history.history['val_accuracy'])\n",
        "plt.title('Validation accuracy history')\n",
        "plt.ylabel('Accuracy value (%)')\n",
        "plt.xlabel('No. epoch')\n",
        "plt.show()"
      ],
      "metadata": {
        "id": "Ib6jlUAllODh",
        "outputId": "a37bade2-53f5-4c65-94c4-40091ff50a9c",
        "colab": {
          "base_uri": "https://localhost:8080/",
          "height": 590
        }
      },
      "execution_count": 17,
      "outputs": [
        {
          "output_type": "stream",
          "name": "stdout",
          "text": [
            "Test loss: 3.133903980255127 / Test accuracy: 0.7985600233078003\n"
          ]
        },
        {
          "output_type": "display_data",
          "data": {
            "text/plain": [
              "<Figure size 432x288 with 1 Axes>"
            ],
            "image/png": "[encoded data removed]"
          },
          "metadata": {
            "needs_background": "light"
          }
        },
        {
          "output_type": "display_data",
          "data": {
            "text/plain": [
              "<Figure size 432x288 with 1 Axes>"
            ],
            "image/png": "[encoded data removed]"
          },
          "metadata": {
            "needs_background": "light"
          }
        }
      ]
    }
  ]
}